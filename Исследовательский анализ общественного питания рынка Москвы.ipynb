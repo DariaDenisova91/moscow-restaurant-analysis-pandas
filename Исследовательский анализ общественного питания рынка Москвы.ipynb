{
 "cells": [
  {
   "cell_type": "markdown",
   "id": "dda9e787-4416-4c71-8ca4-9097297214dc",
   "metadata": {},
   "source": [
    "# Исследовательский анализ общественного питания рынка Москвы\n",
    "\n",
    "- Автор: *Денисова Дарья Валерьевна*\n",
    "- Дата: *09.06.2025*\n",
    "\n",
    "## Цель и задачи  \n",
    "\n",
    "**Цель:** Провести исследовательский анализ для открытия заведение общественного питания в Москве.\n",
    "\n",
    "**Задачи:**\n",
    "1. Загрузить данные и познакомиться с их содержимым.\n",
    "2. Провести предобработку данных.\n",
    "3. Провести исследовательский анализ данных.   \n",
    "4. Сформулировать выводы по проведённому анализу.\n",
    "\n",
    "\n",
    "## Данные\n",
    "\n",
    "Для анализа предоставлены данные сервисов Яндекс Карты и Яндекс Бизнес на лето 2022 года. \n",
    "\n",
    "<font color='blue'>**Информация, размещённая в сервисе Яндекс Бизнес, могла быть добавлена пользователями или найдена в общедоступных источниках. Она носит исключительно справочный характер*</font> \n",
    "\n",
    "Данные состоят из двух датасетов:\n",
    "\n",
    "- `rest_info.csv` — информацию о заведениях общественного питания;\n",
    "- `rest_price.csv` —  информацию о среднем чеке в заведениях общественного питания.\n",
    "\n",
    "### Описание датасета `rest_info.csv`\n",
    "\n",
    "- `name` — название заведения;\n",
    "- `address` — адрес заведения;\n",
    "- `district` — административный район, в котором находится заведение, например Центральный административный округ;\n",
    "- `category` — категория заведения, например «кафе», «пиццерия» или «кофейня»;\n",
    "- `hours` — информация о днях и часах работы;\n",
    "- `rating` — рейтинг заведения по оценкам пользователей в Яндекс Картах (высшая оценка — 5.0);\n",
    "- `chain` — число, выраженное 0 или 1, которое показывает, является ли заведение сетевым (для маленьких сетей могут встречаться ошибки):\n",
    "  - 0 — заведение не является сетевым;\n",
    "  - 1 — заведение является сетевым.\n",
    "- `seats` — количество посадочных мест.\n",
    "\n",
    "### Описание датасета `rest_price.csv`\n",
    "\n",
    "- `price` — категория цен в заведении, например «средние», «ниже среднего», «выше среднего» и так далее;\n",
    "- `avg_bill` — строка, которая хранит среднюю стоимость заказа в виде диапазона, например:\n",
    "    - Средний счёт: 1000–1500 ₽;\n",
    "    - Цена чашки капучино: 130–220 ₽;\n",
    "    - Цена бокала пива: 400–600 ₽.\n",
    "- `middle_avg_bill` — число с оценкой среднего чека, которое указано только для значений из столбца ***avg_bill***, начинающихся с подстроки «Средний счёт»:\n",
    "    - Если в строке указан ценовой диапазон из двух значений, в столбец войдёт медиана этих двух значений;\n",
    "    - Если в строке указано одно число — цена без диапазона, то в столбец войдёт это число;\n",
    "    - Если значения нет или оно не начинается с подстроки «Средний счёт», то в столбец ничего не войдёт.\n",
    "- `middle_coffee_cup` — число с оценкой одной чашки капучино, которое указано только для значений из столбца ***avg_bill***, начинающихся с подстроки «Цена одной чашки капучино»:\n",
    "    - Если в строке указан ценовой диапазон из двух значений, в столбец войдёт медиана этих двух значений;\n",
    "    - Если в строке указано одно число — цена без диапазона, то в столбец войдёт это число;\n",
    "    - Если значения нет или оно не начинается с подстроки «Цена одной чашки капучино», то в столбец ничего не войдёт.\n",
    "\n",
    "## Структура проекта\n",
    "\n",
    "1. Загрузка данных и знакомство с ними.\n",
    "2. Предобработка данных.\n",
    "3. Исследовательский анализ данных.\n",
    "4. Итоговые выводы.\n",
    "\n",
    "---"
   ]
  },
  {
   "cell_type": "markdown",
   "id": "82f00d4b-c0b8-4a78-8cf0-0a76a80881f8",
   "metadata": {},
   "source": [
    "## 1. Загрузка данных и знакомство с ними\n",
    "\n",
    "Начнём с загрузки библиотек и датасетов `rest_info.csv` и `rest_price.csv`. Будем использовать pandas и библиотеки визуализации данных matplotlib и seaborn, а также phik для построения матрицы корреляции. Данные датасетов сохраним в двух переменных: `df_i` и `df_p`."
   ]
  },
  {
   "cell_type": "code",
   "execution_count": 1,
   "id": "b8f9154b",
   "metadata": {},
   "outputs": [
    {
     "name": "stdout",
     "output_type": "stream",
     "text": [
      "Requirement already satisfied: phik in /opt/conda/lib/python3.9/site-packages (0.12.4)\n",
      "Requirement already satisfied: scipy>=1.5.2 in /opt/conda/lib/python3.9/site-packages (from phik) (1.9.1)\n",
      "Requirement already satisfied: numpy>=1.18.0 in /opt/conda/lib/python3.9/site-packages (from phik) (1.21.1)\n",
      "Requirement already satisfied: matplotlib>=2.2.3 in /opt/conda/lib/python3.9/site-packages (from phik) (3.3.4)\n",
      "Requirement already satisfied: joblib>=0.14.1 in /opt/conda/lib/python3.9/site-packages (from phik) (1.1.0)\n",
      "Requirement already satisfied: pandas>=0.25.1 in /opt/conda/lib/python3.9/site-packages (from phik) (1.2.4)\n",
      "Requirement already satisfied: python-dateutil>=2.1 in /opt/conda/lib/python3.9/site-packages (from matplotlib>=2.2.3->phik) (2.8.1)\n",
      "Requirement already satisfied: kiwisolver>=1.0.1 in /opt/conda/lib/python3.9/site-packages (from matplotlib>=2.2.3->phik) (1.4.4)\n",
      "Requirement already satisfied: pyparsing!=2.0.4,!=2.1.2,!=2.1.6,>=2.0.3 in /opt/conda/lib/python3.9/site-packages (from matplotlib>=2.2.3->phik) (2.4.7)\n",
      "Requirement already satisfied: cycler>=0.10 in /opt/conda/lib/python3.9/site-packages (from matplotlib>=2.2.3->phik) (0.11.0)\n",
      "Requirement already satisfied: pillow>=6.2.0 in /opt/conda/lib/python3.9/site-packages (from matplotlib>=2.2.3->phik) (8.4.0)\n",
      "Requirement already satisfied: pytz>=2017.3 in /opt/conda/lib/python3.9/site-packages (from pandas>=0.25.1->phik) (2021.1)\n",
      "Requirement already satisfied: six>=1.5 in /opt/conda/lib/python3.9/site-packages (from python-dateutil>=2.1->matplotlib>=2.2.3->phik) (1.16.0)\n"
     ]
    }
   ],
   "source": [
    "# Комментарий ревьюера 0\n",
    "# Для задания по расчету корреляции требуется установить библиотеку\n",
    "# Устанавливаем библиотеку phik\n",
    "!pip install phik -U    \n",
    "# Библиотека для расчета коэффициента корреляции phi_k\n",
    "#from phik import phik_matrix"
   ]
  },
  {
   "cell_type": "code",
   "execution_count": 2,
   "id": "cd9d067f-5707-4822-8131-03d54e4c3361",
   "metadata": {},
   "outputs": [],
   "source": [
    "# Импортируем библиотеки\n",
    "import pandas as pd\n",
    "\n",
    "# Загружаем библиотеки для визуализации данных\n",
    "import matplotlib.pyplot as plt\n",
    "import seaborn as sns\n",
    "\n",
    "# Загружаем библиотеку для расчёта коэффициента корреляции phi_k\n",
    "from phik import phik_matrix"
   ]
  },
  {
   "cell_type": "code",
   "execution_count": 3,
   "id": "caa4ad93-3dfe-4ac0-83c4-7342966ea6de",
   "metadata": {},
   "outputs": [],
   "source": [
    "# Выгружаем данные в переменные bank_df и clients_df\n",
    "df_i = pd.read_csv('https://code.s3.yandex.net/datasets/rest_info.csv')\n",
    "df_p = pd.read_csv('https://code.s3.yandex.net/datasets/rest_price.csv')"
   ]
  },
  {
   "cell_type": "markdown",
   "id": "d9f992d4-c7cf-41ba-aa03-242bc5cf0dbe",
   "metadata": {},
   "source": [
    "**Познакомимся с данными датасета `rest_info.csv`** — выведем первые строки методом head(), а информацию о датафрейме методом info():"
   ]
  },
  {
   "cell_type": "code",
   "execution_count": 4,
   "id": "784e4b85-f860-4079-9322-009a09966723",
   "metadata": {},
   "outputs": [
    {
     "name": "stdout",
     "output_type": "stream",
     "text": [
      "<class 'pandas.core.frame.DataFrame'>\n",
      "RangeIndex: 8406 entries, 0 to 8405\n",
      "Data columns (total 9 columns):\n",
      " #   Column    Non-Null Count  Dtype  \n",
      "---  ------    --------------  -----  \n",
      " 0   id        8406 non-null   object \n",
      " 1   name      8406 non-null   object \n",
      " 2   category  8406 non-null   object \n",
      " 3   address   8406 non-null   object \n",
      " 4   district  8406 non-null   object \n",
      " 5   hours     7870 non-null   object \n",
      " 6   rating    8406 non-null   float64\n",
      " 7   chain     8406 non-null   int64  \n",
      " 8   seats     4795 non-null   float64\n",
      "dtypes: float64(2), int64(1), object(6)\n",
      "memory usage: 591.2+ KB\n"
     ]
    }
   ],
   "source": [
    "# Выводим информацию о датафрейме\n",
    "df_i.info()"
   ]
  },
  {
   "cell_type": "code",
   "execution_count": 5,
   "id": "44814230-e063-469a-a721-948b10b9c42b",
   "metadata": {
    "scrolled": true
   },
   "outputs": [
    {
     "data": {
      "text/html": [
       "<div>\n",
       "<style scoped>\n",
       "    .dataframe tbody tr th:only-of-type {\n",
       "        vertical-align: middle;\n",
       "    }\n",
       "\n",
       "    .dataframe tbody tr th {\n",
       "        vertical-align: top;\n",
       "    }\n",
       "\n",
       "    .dataframe thead th {\n",
       "        text-align: right;\n",
       "    }\n",
       "</style>\n",
       "<table border=\"1\" class=\"dataframe\">\n",
       "  <thead>\n",
       "    <tr style=\"text-align: right;\">\n",
       "      <th></th>\n",
       "      <th>id</th>\n",
       "      <th>name</th>\n",
       "      <th>category</th>\n",
       "      <th>address</th>\n",
       "      <th>district</th>\n",
       "      <th>hours</th>\n",
       "      <th>rating</th>\n",
       "      <th>chain</th>\n",
       "      <th>seats</th>\n",
       "    </tr>\n",
       "  </thead>\n",
       "  <tbody>\n",
       "    <tr>\n",
       "      <th>8335</th>\n",
       "      <td>a68f201e58ee4baf9252df0f2b3c6fa0</td>\n",
       "      <td>Baer Coffee</td>\n",
       "      <td>кофейня</td>\n",
       "      <td>Москва, Окская улица, 1, корп. 1</td>\n",
       "      <td>Юго-Восточный административный округ</td>\n",
       "      <td>пн 00:00–21:00; вт-сб 09:00–21:00; вс 00:00–21:00</td>\n",
       "      <td>4.4</td>\n",
       "      <td>0</td>\n",
       "      <td>80.0</td>\n",
       "    </tr>\n",
       "    <tr>\n",
       "      <th>4982</th>\n",
       "      <td>1d1cb24badbc4723898cc67acc4ff285</td>\n",
       "      <td>Mañana</td>\n",
       "      <td>бар,паб</td>\n",
       "      <td>Москва, Пятницкая улица, 29</td>\n",
       "      <td>Центральный административный округ</td>\n",
       "      <td>пн-чт 12:00–00:00; пт,сб 12:00–03:00; вс 12:00...</td>\n",
       "      <td>4.7</td>\n",
       "      <td>0</td>\n",
       "      <td>306.0</td>\n",
       "    </tr>\n",
       "    <tr>\n",
       "      <th>3501</th>\n",
       "      <td>6be6143c358549e4885aad0d2b3bd35b</td>\n",
       "      <td>Americano Black Coffee &amp; Food</td>\n",
       "      <td>ресторан</td>\n",
       "      <td>Москва, Большой Козихинский переулок, 18/8</td>\n",
       "      <td>Центральный административный округ</td>\n",
       "      <td>ежедневно, 08:00–23:00</td>\n",
       "      <td>4.4</td>\n",
       "      <td>1</td>\n",
       "      <td>NaN</td>\n",
       "    </tr>\n",
       "    <tr>\n",
       "      <th>5137</th>\n",
       "      <td>bd225216d97d489d97e0da160b8df5ab</td>\n",
       "      <td>Knockout coffee</td>\n",
       "      <td>кофейня</td>\n",
       "      <td>Москва, Летниковская улица, 4, стр. 5</td>\n",
       "      <td>Центральный административный округ</td>\n",
       "      <td>пн-пт 08:00–19:00; сб 09:00–19:00</td>\n",
       "      <td>4.3</td>\n",
       "      <td>0</td>\n",
       "      <td>45.0</td>\n",
       "    </tr>\n",
       "    <tr>\n",
       "      <th>2509</th>\n",
       "      <td>1b2be3b3b9414f758b81f268b5770787</td>\n",
       "      <td>Донер кебаб</td>\n",
       "      <td>быстрое питание</td>\n",
       "      <td>Москва, Комсомольская площадь, 5</td>\n",
       "      <td>Центральный административный округ</td>\n",
       "      <td>ежедневно, круглосуточно</td>\n",
       "      <td>3.8</td>\n",
       "      <td>1</td>\n",
       "      <td>NaN</td>\n",
       "    </tr>\n",
       "    <tr>\n",
       "      <th>4629</th>\n",
       "      <td>ac6ab1330fea486bbbf27d46b2f54d55</td>\n",
       "      <td>ТрапеZа</td>\n",
       "      <td>столовая</td>\n",
       "      <td>Москва, улица Покровка, 47А</td>\n",
       "      <td>Центральный административный округ</td>\n",
       "      <td>пн-пт 09:00–18:00</td>\n",
       "      <td>4.1</td>\n",
       "      <td>1</td>\n",
       "      <td>NaN</td>\n",
       "    </tr>\n",
       "    <tr>\n",
       "      <th>3329</th>\n",
       "      <td>c6f67cdd79dd47ee9f8f89d022049709</td>\n",
       "      <td>Кафе-Столовая Sio</td>\n",
       "      <td>столовая</td>\n",
       "      <td>Москва, Кутузовский проспект, 36, стр. 4</td>\n",
       "      <td>Западный административный округ</td>\n",
       "      <td>пн-пт 09:30–18:00</td>\n",
       "      <td>4.0</td>\n",
       "      <td>0</td>\n",
       "      <td>NaN</td>\n",
       "    </tr>\n",
       "    <tr>\n",
       "      <th>7559</th>\n",
       "      <td>b5b8f22133e345cd9b5bd80965ebfc96</td>\n",
       "      <td>Кофе, шаурма, тандыр</td>\n",
       "      <td>быстрое питание</td>\n",
       "      <td>Москва, улица Судакова, 11, стр. 2</td>\n",
       "      <td>Юго-Восточный административный округ</td>\n",
       "      <td>ежедневно, 08:00–22:00</td>\n",
       "      <td>4.2</td>\n",
       "      <td>0</td>\n",
       "      <td>35.0</td>\n",
       "    </tr>\n",
       "    <tr>\n",
       "      <th>278</th>\n",
       "      <td>074c337d31a549bf9da00452b8335a82</td>\n",
       "      <td>MuiNe</td>\n",
       "      <td>ресторан</td>\n",
       "      <td>Москва, Староватутинский проезд, 14</td>\n",
       "      <td>Северо-Восточный административный округ</td>\n",
       "      <td>ежедневно, 10:00–22:00</td>\n",
       "      <td>3.4</td>\n",
       "      <td>0</td>\n",
       "      <td>100.0</td>\n",
       "    </tr>\n",
       "    <tr>\n",
       "      <th>2957</th>\n",
       "      <td>264eb2816a0d4666b7e058bb70976ea5</td>\n",
       "      <td>Отменная пельменная</td>\n",
       "      <td>кафе</td>\n",
       "      <td>Москва, Измайловское шоссе, 73Ж, стр. 5</td>\n",
       "      <td>Восточный административный округ</td>\n",
       "      <td>пн,вт,чт,пт,сб,вс 09:00–15:30</td>\n",
       "      <td>4.7</td>\n",
       "      <td>0</td>\n",
       "      <td>80.0</td>\n",
       "    </tr>\n",
       "  </tbody>\n",
       "</table>\n",
       "</div>"
      ],
      "text/plain": [
       "                                    id                           name  \\\n",
       "8335  a68f201e58ee4baf9252df0f2b3c6fa0                    Baer Coffee   \n",
       "4982  1d1cb24badbc4723898cc67acc4ff285                         Mañana   \n",
       "3501  6be6143c358549e4885aad0d2b3bd35b  Americano Black Coffee & Food   \n",
       "5137  bd225216d97d489d97e0da160b8df5ab                Knockout coffee   \n",
       "2509  1b2be3b3b9414f758b81f268b5770787                    Донер кебаб   \n",
       "4629  ac6ab1330fea486bbbf27d46b2f54d55                        ТрапеZа   \n",
       "3329  c6f67cdd79dd47ee9f8f89d022049709              Кафе-Столовая Sio   \n",
       "7559  b5b8f22133e345cd9b5bd80965ebfc96           Кофе, шаурма, тандыр   \n",
       "278   074c337d31a549bf9da00452b8335a82                          MuiNe   \n",
       "2957  264eb2816a0d4666b7e058bb70976ea5            Отменная пельменная   \n",
       "\n",
       "             category                                     address  \\\n",
       "8335          кофейня            Москва, Окская улица, 1, корп. 1   \n",
       "4982          бар,паб                 Москва, Пятницкая улица, 29   \n",
       "3501         ресторан  Москва, Большой Козихинский переулок, 18/8   \n",
       "5137          кофейня       Москва, Летниковская улица, 4, стр. 5   \n",
       "2509  быстрое питание            Москва, Комсомольская площадь, 5   \n",
       "4629         столовая                 Москва, улица Покровка, 47А   \n",
       "3329         столовая    Москва, Кутузовский проспект, 36, стр. 4   \n",
       "7559  быстрое питание          Москва, улица Судакова, 11, стр. 2   \n",
       "278          ресторан         Москва, Староватутинский проезд, 14   \n",
       "2957             кафе     Москва, Измайловское шоссе, 73Ж, стр. 5   \n",
       "\n",
       "                                     district  \\\n",
       "8335     Юго-Восточный административный округ   \n",
       "4982       Центральный административный округ   \n",
       "3501       Центральный административный округ   \n",
       "5137       Центральный административный округ   \n",
       "2509       Центральный административный округ   \n",
       "4629       Центральный административный округ   \n",
       "3329          Западный административный округ   \n",
       "7559     Юго-Восточный административный округ   \n",
       "278   Северо-Восточный административный округ   \n",
       "2957         Восточный административный округ   \n",
       "\n",
       "                                                  hours  rating  chain  seats  \n",
       "8335  пн 00:00–21:00; вт-сб 09:00–21:00; вс 00:00–21:00     4.4      0   80.0  \n",
       "4982  пн-чт 12:00–00:00; пт,сб 12:00–03:00; вс 12:00...     4.7      0  306.0  \n",
       "3501                             ежедневно, 08:00–23:00     4.4      1    NaN  \n",
       "5137                  пн-пт 08:00–19:00; сб 09:00–19:00     4.3      0   45.0  \n",
       "2509                           ежедневно, круглосуточно     3.8      1    NaN  \n",
       "4629                                  пн-пт 09:00–18:00     4.1      1    NaN  \n",
       "3329                                  пн-пт 09:30–18:00     4.0      0    NaN  \n",
       "7559                             ежедневно, 08:00–22:00     4.2      0   35.0  \n",
       "278                              ежедневно, 10:00–22:00     3.4      0  100.0  \n",
       "2957                      пн,вт,чт,пт,сб,вс 09:00–15:30     4.7      0   80.0  "
      ]
     },
     "execution_count": 5,
     "metadata": {},
     "output_type": "execute_result"
    }
   ],
   "source": [
    "# Выведим 10 случайных строк на экран\n",
    "df_i.sample(n=10, replace=True)"
   ]
  },
  {
   "cell_type": "markdown",
   "id": "08e5e9c7-6766-4727-8ed1-902e408f5123",
   "metadata": {},
   "source": [
    "*Датасет `rest_info.csv` содержит 9 столбцов и 8406 строк, в которых представлена информация о заведения общественного питаня в Москве.*\n",
    "\n",
    "После первичного анализа данных можно сделать следующие выводы:\n",
    "- Присутствует столбец `id`, которого не было в описании. По виду этот столбец показывает id заведения и должно иметь уникальное значение. Следует проверить его на дубликаты; \n",
    "- Названия столбцов корректны и представлены в едином стиле snake case;\n",
    "- Представленные данные имеют 3 типа:\n",
    "    - тип `object` - 6 столбцов `id`, `name`, `category`, `address`, `district` и `hours`;\n",
    "    - тип `float64` - 2 столбца `rating` и `seats`;\n",
    "    - тип `int64` столбец `chain` который показывает признак является ли заведение сетевым содержит значения 1 или 0 — размерность этих данных можно оптимизировать.\n",
    "- Пропуски содержатся в 2х столбцах `hours` и `seats` . Однако следует проверить и другие столбцы: в них могут встречаться значения-индикаторы, которые будут говорить об отсутствии данных.\n",
    "\n",
    "**Теперь познакомимся с данными датасета `rest_price.csv`.**"
   ]
  },
  {
   "cell_type": "code",
   "execution_count": 6,
   "id": "200c553b-cbf0-4f12-a58a-23ffbe54b296",
   "metadata": {},
   "outputs": [
    {
     "name": "stdout",
     "output_type": "stream",
     "text": [
      "<class 'pandas.core.frame.DataFrame'>\n",
      "RangeIndex: 4058 entries, 0 to 4057\n",
      "Data columns (total 5 columns):\n",
      " #   Column             Non-Null Count  Dtype  \n",
      "---  ------             --------------  -----  \n",
      " 0   id                 4058 non-null   object \n",
      " 1   price              3315 non-null   object \n",
      " 2   avg_bill           3816 non-null   object \n",
      " 3   middle_avg_bill    3149 non-null   float64\n",
      " 4   middle_coffee_cup  535 non-null    float64\n",
      "dtypes: float64(2), object(3)\n",
      "memory usage: 158.6+ KB\n"
     ]
    }
   ],
   "source": [
    "# Выводим информацию о датафрейме\n",
    "df_p.info()"
   ]
  },
  {
   "cell_type": "code",
   "execution_count": 7,
   "id": "da6a584f-d707-4ac8-a1cc-b85b100ffc06",
   "metadata": {
    "scrolled": true
   },
   "outputs": [
    {
     "data": {
      "text/html": [
       "<div>\n",
       "<style scoped>\n",
       "    .dataframe tbody tr th:only-of-type {\n",
       "        vertical-align: middle;\n",
       "    }\n",
       "\n",
       "    .dataframe tbody tr th {\n",
       "        vertical-align: top;\n",
       "    }\n",
       "\n",
       "    .dataframe thead th {\n",
       "        text-align: right;\n",
       "    }\n",
       "</style>\n",
       "<table border=\"1\" class=\"dataframe\">\n",
       "  <thead>\n",
       "    <tr style=\"text-align: right;\">\n",
       "      <th></th>\n",
       "      <th>id</th>\n",
       "      <th>price</th>\n",
       "      <th>avg_bill</th>\n",
       "      <th>middle_avg_bill</th>\n",
       "      <th>middle_coffee_cup</th>\n",
       "    </tr>\n",
       "  </thead>\n",
       "  <tbody>\n",
       "    <tr>\n",
       "      <th>1393</th>\n",
       "      <td>2293f7b006bb4cd59618bfdabd27fdc2</td>\n",
       "      <td>NaN</td>\n",
       "      <td>Цена чашки капучино:от 60 ₽</td>\n",
       "      <td>NaN</td>\n",
       "      <td>60.0</td>\n",
       "    </tr>\n",
       "    <tr>\n",
       "      <th>468</th>\n",
       "      <td>06e993464763467e92a8e478dd7ec74b</td>\n",
       "      <td>NaN</td>\n",
       "      <td>Средний счёт:150–200 ₽</td>\n",
       "      <td>175.0</td>\n",
       "      <td>NaN</td>\n",
       "    </tr>\n",
       "    <tr>\n",
       "      <th>2548</th>\n",
       "      <td>ecdc8b6e792642abba298f3c8dff5bc7</td>\n",
       "      <td>средние</td>\n",
       "      <td>Средний счёт:290–490 ₽</td>\n",
       "      <td>390.0</td>\n",
       "      <td>NaN</td>\n",
       "    </tr>\n",
       "    <tr>\n",
       "      <th>2246</th>\n",
       "      <td>298e19da5c384bb9a359b62f00caa92f</td>\n",
       "      <td>средние</td>\n",
       "      <td>Средний счёт:1000 ₽</td>\n",
       "      <td>1000.0</td>\n",
       "      <td>NaN</td>\n",
       "    </tr>\n",
       "    <tr>\n",
       "      <th>2977</th>\n",
       "      <td>3edde1ac13e346968a5d17f8f1d1f53b</td>\n",
       "      <td>средние</td>\n",
       "      <td>Средний счёт:390–460 ₽</td>\n",
       "      <td>425.0</td>\n",
       "      <td>NaN</td>\n",
       "    </tr>\n",
       "    <tr>\n",
       "      <th>3704</th>\n",
       "      <td>7a8473e6c5fb40b68f8f2d5aaeecb646</td>\n",
       "      <td>NaN</td>\n",
       "      <td>Средний счёт:от 30 ₽</td>\n",
       "      <td>30.0</td>\n",
       "      <td>NaN</td>\n",
       "    </tr>\n",
       "    <tr>\n",
       "      <th>3732</th>\n",
       "      <td>07f7bc3ddd8e47dc8d51d9fea178a154</td>\n",
       "      <td>средние</td>\n",
       "      <td>Средний счёт:100–300 ₽</td>\n",
       "      <td>200.0</td>\n",
       "      <td>NaN</td>\n",
       "    </tr>\n",
       "    <tr>\n",
       "      <th>1684</th>\n",
       "      <td>aff92ff5c7aa4de0854a5278d24493ec</td>\n",
       "      <td>средние</td>\n",
       "      <td>Средний счёт:1000 ₽</td>\n",
       "      <td>1000.0</td>\n",
       "      <td>NaN</td>\n",
       "    </tr>\n",
       "    <tr>\n",
       "      <th>2418</th>\n",
       "      <td>41f777a1dae741aba72aa036573f1598</td>\n",
       "      <td>средние</td>\n",
       "      <td>Средний счёт:600–800 ₽</td>\n",
       "      <td>700.0</td>\n",
       "      <td>NaN</td>\n",
       "    </tr>\n",
       "    <tr>\n",
       "      <th>2425</th>\n",
       "      <td>5dbffa38eddf42fda3155bf17442efbc</td>\n",
       "      <td>средние</td>\n",
       "      <td>Средний счёт:300–350 ₽</td>\n",
       "      <td>325.0</td>\n",
       "      <td>NaN</td>\n",
       "    </tr>\n",
       "  </tbody>\n",
       "</table>\n",
       "</div>"
      ],
      "text/plain": [
       "                                    id    price                     avg_bill  \\\n",
       "1393  2293f7b006bb4cd59618bfdabd27fdc2      NaN  Цена чашки капучино:от 60 ₽   \n",
       "468   06e993464763467e92a8e478dd7ec74b      NaN       Средний счёт:150–200 ₽   \n",
       "2548  ecdc8b6e792642abba298f3c8dff5bc7  средние       Средний счёт:290–490 ₽   \n",
       "2246  298e19da5c384bb9a359b62f00caa92f  средние          Средний счёт:1000 ₽   \n",
       "2977  3edde1ac13e346968a5d17f8f1d1f53b  средние       Средний счёт:390–460 ₽   \n",
       "3704  7a8473e6c5fb40b68f8f2d5aaeecb646      NaN         Средний счёт:от 30 ₽   \n",
       "3732  07f7bc3ddd8e47dc8d51d9fea178a154  средние       Средний счёт:100–300 ₽   \n",
       "1684  aff92ff5c7aa4de0854a5278d24493ec  средние          Средний счёт:1000 ₽   \n",
       "2418  41f777a1dae741aba72aa036573f1598  средние       Средний счёт:600–800 ₽   \n",
       "2425  5dbffa38eddf42fda3155bf17442efbc  средние       Средний счёт:300–350 ₽   \n",
       "\n",
       "      middle_avg_bill  middle_coffee_cup  \n",
       "1393              NaN               60.0  \n",
       "468             175.0                NaN  \n",
       "2548            390.0                NaN  \n",
       "2246           1000.0                NaN  \n",
       "2977            425.0                NaN  \n",
       "3704             30.0                NaN  \n",
       "3732            200.0                NaN  \n",
       "1684           1000.0                NaN  \n",
       "2418            700.0                NaN  \n",
       "2425            325.0                NaN  "
      ]
     },
     "execution_count": 7,
     "metadata": {},
     "output_type": "execute_result"
    }
   ],
   "source": [
    "# Выведим 10 случайных строк на экран\n",
    "df_p.sample(n=10, replace=True)"
   ]
  },
  {
   "cell_type": "markdown",
   "id": "16ee1150-e30f-4894-ba54-612022e0af3c",
   "metadata": {},
   "source": [
    "*Датасет `rest_price.csv` содержит 5 столбцов и 4058 строк, в которых представлена информация о среднем чеке в заведениях общественного питания.*\n",
    "\n",
    "По аналогии с предыдущим датасетом можно отметить, что:\n",
    "\n",
    "- Так же присутствует столбец `id`, которого не было в описании;\n",
    "- Названия столбцов корректны и представлены в едином стиле snake case;\n",
    "- Данные имеют 2 типа:\n",
    "    - тип `object` - 3 столбцов `id`, `price` и `avg_bill`;\n",
    "    - тип `float64` - 2 столбца `middle_avg_bill` и `middle_coffee_cup`;\n",
    "- Все столбцы имеют пропуски, кроме `id` \n",
    "- Значения и тип данных в столбцах соответствуют описанию.\n",
    "\n",
    "<div class=\"alert alert-lavender\" style=\"background-color: #e6e6fa; color: #000;\"> Первичное знакомство показывает, что количество строк в данных о заведении более чем в 2 раза чем в данных о среднем счете, это говорит о том что больше чем у половины заведений нет информации о среднем чеке. Так же есть пропуски с информацией о средней стоимости заказа. Все названия столбцов представлены в едином стиле, типы данных в большинстве случаев предоставлены корректны и они соответсвуют описанию. </div>"
   ]
  },
  {
   "cell_type": "markdown",
   "id": "822f5661-b852-4bcb-88e3-40b0eb6ddbe2",
   "metadata": {},
   "source": [
    "Теперь объединим датафреймы по столбцу `id` используя метод `merge()` Будем использовать левое приосединение, чтобы сохранить все данные по заведениям"
   ]
  },
  {
   "cell_type": "code",
   "execution_count": 8,
   "id": "ee0f379b-9dd6-4c83-87ca-884e3a4e0c32",
   "metadata": {},
   "outputs": [],
   "source": [
    "# Соединяем датафреймы по столбцу id\n",
    "df = df_i.merge(df_p, on = 'id', how = 'left')"
   ]
  },
  {
   "cell_type": "code",
   "execution_count": 9,
   "id": "673101b7-53d9-4c18-b373-c38a9b8a88c0",
   "metadata": {},
   "outputs": [
    {
     "name": "stdout",
     "output_type": "stream",
     "text": [
      "<class 'pandas.core.frame.DataFrame'>\n",
      "Int64Index: 8406 entries, 0 to 8405\n",
      "Data columns (total 13 columns):\n",
      " #   Column             Non-Null Count  Dtype  \n",
      "---  ------             --------------  -----  \n",
      " 0   id                 8406 non-null   object \n",
      " 1   name               8406 non-null   object \n",
      " 2   category           8406 non-null   object \n",
      " 3   address            8406 non-null   object \n",
      " 4   district           8406 non-null   object \n",
      " 5   hours              7870 non-null   object \n",
      " 6   rating             8406 non-null   float64\n",
      " 7   chain              8406 non-null   int64  \n",
      " 8   seats              4795 non-null   float64\n",
      " 9   price              3315 non-null   object \n",
      " 10  avg_bill           3816 non-null   object \n",
      " 11  middle_avg_bill    3149 non-null   float64\n",
      " 12  middle_coffee_cup  535 non-null    float64\n",
      "dtypes: float64(4), int64(1), object(8)\n",
      "memory usage: 919.4+ KB\n"
     ]
    }
   ],
   "source": [
    "# Снова выведим информацию уже объединенного датафрейма\n",
    "df.info()"
   ]
  },
  {
   "cell_type": "markdown",
   "id": "e42443a6-1c12-41ef-bcd3-b472d25baf56",
   "metadata": {},
   "source": [
    "---"
   ]
  },
  {
   "cell_type": "markdown",
   "id": "3bf3cdc4-0db4-4cf5-8e66-ae2ffb62f6d0",
   "metadata": {},
   "source": [
    "Мы закончили первый этап исследовательского анализа. На этом этамы мы сделали следующие действия:\n",
    "- Загрузили библиотеку pandas и библиотеки визуализации данных matplotlib и seaborn, а также phik для построения матрицы корреляции;\n",
    "- Загрузили данные из 2х датафреймов и познакомились с ними;\n",
    "- Объеденили данные двух датасетов в один, с которым продолжим работу;\n",
    "- После объединения у нас имеются данные из 8406 строк и 13 столбцов. В данных присутсвтуют пропуски, которые мы детально разберем в следующем шаге - предобработки данных. К нему и приступим. \n",
    "\n",
    "---"
   ]
  },
  {
   "cell_type": "code",
   "execution_count": 10,
   "id": "be4ef19f",
   "metadata": {},
   "outputs": [
    {
     "data": {
      "text/plain": [
       "8406"
      ]
     },
     "execution_count": 10,
     "metadata": {},
     "output_type": "execute_result"
    }
   ],
   "source": [
    "# Комментарий ревьюера 0\n",
    "# создаем копию датасета до преобразования для возможности проверить сделанные изменения после предобработки\n",
    "# только не надо эту копию потом использовать в проекте\n",
    "temp = df.copy() \n",
    "len(temp)"
   ]
  },
  {
   "cell_type": "markdown",
   "id": "b3248439-026c-4228-aec8-593db41a63b8",
   "metadata": {},
   "source": [
    "## 2. Предобработка данных\n",
    "\n",
    "### 2.1. Оптимизируем тип данных\n",
    "\n",
    "Приведем оптимизацию целочисленных данных по столбцу `chain`. Т.к. данные содеражт пропуски то используем специальный nullable type\n"
   ]
  },
  {
   "cell_type": "code",
   "execution_count": 11,
   "id": "08622d45-e68f-4292-a390-1f73ec07507e",
   "metadata": {},
   "outputs": [],
   "source": [
    "# Оптимизируем целочисленный тип данных в датафрейме\n",
    "df['chain'] = df['chain'].astype('Int8')"
   ]
  },
  {
   "cell_type": "markdown",
   "id": "58a80abb-8699-413c-8f8d-32244aa7465a",
   "metadata": {},
   "source": [
    "Уменьшим разрядность cтолбцах с вещественными значениями, т.к. данные имеют небольшие значения. Используем метод `pd.to_numeric` с аргументом `downcast='integer'`"
   ]
  },
  {
   "cell_type": "code",
   "execution_count": 12,
   "id": "580d1e03-b1ae-4fa9-8d92-ba261268f320",
   "metadata": {},
   "outputs": [],
   "source": [
    "# Оптимизируем тип данных в столбце rating\n",
    "for column in ['rating', 'middle_avg_bill','middle_coffee_cup','seats']:\n",
    "    df[column] = pd.to_numeric(df[column], downcast='float')    "
   ]
  },
  {
   "cell_type": "code",
   "execution_count": 13,
   "id": "1b849e11-fff6-452b-bd64-8c2f7fe3d7f8",
   "metadata": {},
   "outputs": [
    {
     "data": {
      "text/plain": [
       "id                    object\n",
       "name                  object\n",
       "category              object\n",
       "address               object\n",
       "district              object\n",
       "hours                 object\n",
       "rating               float32\n",
       "chain                   Int8\n",
       "seats                float32\n",
       "price                 object\n",
       "avg_bill              object\n",
       "middle_avg_bill      float32\n",
       "middle_coffee_cup    float32\n",
       "dtype: object"
      ]
     },
     "execution_count": 13,
     "metadata": {},
     "output_type": "execute_result"
    }
   ],
   "source": [
    "# Проверим типы данных в датафрейме с помощью атрибута dtypes\n",
    "df.dtypes"
   ]
  },
  {
   "cell_type": "markdown",
   "id": "41927d51-e6a9-4a36-a6a6-0eda854403f7",
   "metadata": {},
   "source": [
    "Типы данных были успешно оптимизированы с понижением размерности"
   ]
  },
  {
   "cell_type": "markdown",
   "id": "6f583b76-5ab4-4ebd-89c0-f59521eb1a2b",
   "metadata": {},
   "source": [
    "### 2.2. Проверяем наличие пропусков в данных\n",
    "\n",
    "При первичном анализе мы обнаружили пропуски в данных. \n",
    "\n",
    "Проверим пропуски в датафрейме. Узнаем абсолютное и относительное количество пропусков."
   ]
  },
  {
   "cell_type": "code",
   "execution_count": 14,
   "id": "ffd93fcc-b6eb-4650-86e7-e3247a25882e",
   "metadata": {},
   "outputs": [
    {
     "data": {
      "text/html": [
       "<style  type=\"text/css\" >\n",
       "#T_6d930_row0_col0{\n",
       "            background-color:  #b40426;\n",
       "            color:  #f1f1f1;\n",
       "        }#T_6d930_row1_col0{\n",
       "            background-color:  #f7b89c;\n",
       "            color:  #000000;\n",
       "        }#T_6d930_row2_col0{\n",
       "            background-color:  #f6bea4;\n",
       "            color:  #000000;\n",
       "        }#T_6d930_row3_col0{\n",
       "            background-color:  #efcebd;\n",
       "            color:  #000000;\n",
       "        }#T_6d930_row4_col0{\n",
       "            background-color:  #d2dbe8;\n",
       "            color:  #000000;\n",
       "        }#T_6d930_row5_col0{\n",
       "            background-color:  #4f69d9;\n",
       "            color:  #000000;\n",
       "        }#T_6d930_row6_col0,#T_6d930_row7_col0,#T_6d930_row8_col0,#T_6d930_row9_col0,#T_6d930_row10_col0,#T_6d930_row11_col0,#T_6d930_row12_col0{\n",
       "            background-color:  #3b4cc0;\n",
       "            color:  #f1f1f1;\n",
       "        }</style><table id=\"T_6d930_\" ><thead>    <tr>        <th class=\"blank level0\" ></th>        <th class=\"col_heading level0 col0\" >0</th>    </tr></thead><tbody>\n",
       "                <tr>\n",
       "                        <th id=\"T_6d930_level0_row0\" class=\"row_heading level0 row0\" >middle_coffee_cup</th>\n",
       "                        <td id=\"T_6d930_row0_col0\" class=\"data row0 col0\" >7871.00</td>\n",
       "            </tr>\n",
       "            <tr>\n",
       "                        <th id=\"T_6d930_level0_row1\" class=\"row_heading level0 row1\" >middle_avg_bill</th>\n",
       "                        <td id=\"T_6d930_row1_col0\" class=\"data row1 col0\" >5257.00</td>\n",
       "            </tr>\n",
       "            <tr>\n",
       "                        <th id=\"T_6d930_level0_row2\" class=\"row_heading level0 row2\" >price</th>\n",
       "                        <td id=\"T_6d930_row2_col0\" class=\"data row2 col0\" >5091.00</td>\n",
       "            </tr>\n",
       "            <tr>\n",
       "                        <th id=\"T_6d930_level0_row3\" class=\"row_heading level0 row3\" >avg_bill</th>\n",
       "                        <td id=\"T_6d930_row3_col0\" class=\"data row3 col0\" >4590.00</td>\n",
       "            </tr>\n",
       "            <tr>\n",
       "                        <th id=\"T_6d930_level0_row4\" class=\"row_heading level0 row4\" >seats</th>\n",
       "                        <td id=\"T_6d930_row4_col0\" class=\"data row4 col0\" >3611.00</td>\n",
       "            </tr>\n",
       "            <tr>\n",
       "                        <th id=\"T_6d930_level0_row5\" class=\"row_heading level0 row5\" >hours</th>\n",
       "                        <td id=\"T_6d930_row5_col0\" class=\"data row5 col0\" >536.00</td>\n",
       "            </tr>\n",
       "            <tr>\n",
       "                        <th id=\"T_6d930_level0_row6\" class=\"row_heading level0 row6\" >id</th>\n",
       "                        <td id=\"T_6d930_row6_col0\" class=\"data row6 col0\" >0.00</td>\n",
       "            </tr>\n",
       "            <tr>\n",
       "                        <th id=\"T_6d930_level0_row7\" class=\"row_heading level0 row7\" >name</th>\n",
       "                        <td id=\"T_6d930_row7_col0\" class=\"data row7 col0\" >0.00</td>\n",
       "            </tr>\n",
       "            <tr>\n",
       "                        <th id=\"T_6d930_level0_row8\" class=\"row_heading level0 row8\" >category</th>\n",
       "                        <td id=\"T_6d930_row8_col0\" class=\"data row8 col0\" >0.00</td>\n",
       "            </tr>\n",
       "            <tr>\n",
       "                        <th id=\"T_6d930_level0_row9\" class=\"row_heading level0 row9\" >address</th>\n",
       "                        <td id=\"T_6d930_row9_col0\" class=\"data row9 col0\" >0.00</td>\n",
       "            </tr>\n",
       "            <tr>\n",
       "                        <th id=\"T_6d930_level0_row10\" class=\"row_heading level0 row10\" >district</th>\n",
       "                        <td id=\"T_6d930_row10_col0\" class=\"data row10 col0\" >0.00</td>\n",
       "            </tr>\n",
       "            <tr>\n",
       "                        <th id=\"T_6d930_level0_row11\" class=\"row_heading level0 row11\" >rating</th>\n",
       "                        <td id=\"T_6d930_row11_col0\" class=\"data row11 col0\" >0.00</td>\n",
       "            </tr>\n",
       "            <tr>\n",
       "                        <th id=\"T_6d930_level0_row12\" class=\"row_heading level0 row12\" >chain</th>\n",
       "                        <td id=\"T_6d930_row12_col0\" class=\"data row12 col0\" >0.00</td>\n",
       "            </tr>\n",
       "    </tbody></table>"
      ],
      "text/plain": [
       "<pandas.io.formats.style.Styler at 0x7f7f49235940>"
      ]
     },
     "execution_count": 14,
     "metadata": {},
     "output_type": "execute_result"
    }
   ],
   "source": [
    "# Применяем метод isna() к датафрейму df\n",
    "df.isna().sum().to_frame().sort_values(by=0, ascending=False).style.background_gradient(cmap='coolwarm', axis=0).format(\"{:.2f}\")"
   ]
  },
  {
   "cell_type": "code",
   "execution_count": 15,
   "id": "38fd8574-25fc-4bb2-be9b-5c0688289620",
   "metadata": {},
   "outputs": [
    {
     "data": {
      "text/html": [
       "<style  type=\"text/css\" >\n",
       "#T_9b1ce_row0_col0{\n",
       "            background-color:  #b40426;\n",
       "            color:  #f1f1f1;\n",
       "        }#T_9b1ce_row1_col0{\n",
       "            background-color:  #f7b89c;\n",
       "            color:  #000000;\n",
       "        }#T_9b1ce_row2_col0{\n",
       "            background-color:  #f6bea4;\n",
       "            color:  #000000;\n",
       "        }#T_9b1ce_row3_col0{\n",
       "            background-color:  #efcebd;\n",
       "            color:  #000000;\n",
       "        }#T_9b1ce_row4_col0{\n",
       "            background-color:  #d2dbe8;\n",
       "            color:  #000000;\n",
       "        }#T_9b1ce_row5_col0{\n",
       "            background-color:  #4f69d9;\n",
       "            color:  #000000;\n",
       "        }#T_9b1ce_row6_col0,#T_9b1ce_row7_col0,#T_9b1ce_row8_col0,#T_9b1ce_row9_col0,#T_9b1ce_row10_col0,#T_9b1ce_row11_col0,#T_9b1ce_row12_col0{\n",
       "            background-color:  #3b4cc0;\n",
       "            color:  #f1f1f1;\n",
       "        }</style><table id=\"T_9b1ce_\" ><thead>    <tr>        <th class=\"blank level0\" ></th>        <th class=\"col_heading level0 col0\" >0</th>    </tr></thead><tbody>\n",
       "                <tr>\n",
       "                        <th id=\"T_9b1ce_level0_row0\" class=\"row_heading level0 row0\" >middle_coffee_cup</th>\n",
       "                        <td id=\"T_9b1ce_row0_col0\" class=\"data row0 col0\" >0.94</td>\n",
       "            </tr>\n",
       "            <tr>\n",
       "                        <th id=\"T_9b1ce_level0_row1\" class=\"row_heading level0 row1\" >middle_avg_bill</th>\n",
       "                        <td id=\"T_9b1ce_row1_col0\" class=\"data row1 col0\" >0.63</td>\n",
       "            </tr>\n",
       "            <tr>\n",
       "                        <th id=\"T_9b1ce_level0_row2\" class=\"row_heading level0 row2\" >price</th>\n",
       "                        <td id=\"T_9b1ce_row2_col0\" class=\"data row2 col0\" >0.61</td>\n",
       "            </tr>\n",
       "            <tr>\n",
       "                        <th id=\"T_9b1ce_level0_row3\" class=\"row_heading level0 row3\" >avg_bill</th>\n",
       "                        <td id=\"T_9b1ce_row3_col0\" class=\"data row3 col0\" >0.55</td>\n",
       "            </tr>\n",
       "            <tr>\n",
       "                        <th id=\"T_9b1ce_level0_row4\" class=\"row_heading level0 row4\" >seats</th>\n",
       "                        <td id=\"T_9b1ce_row4_col0\" class=\"data row4 col0\" >0.43</td>\n",
       "            </tr>\n",
       "            <tr>\n",
       "                        <th id=\"T_9b1ce_level0_row5\" class=\"row_heading level0 row5\" >hours</th>\n",
       "                        <td id=\"T_9b1ce_row5_col0\" class=\"data row5 col0\" >0.06</td>\n",
       "            </tr>\n",
       "            <tr>\n",
       "                        <th id=\"T_9b1ce_level0_row6\" class=\"row_heading level0 row6\" >id</th>\n",
       "                        <td id=\"T_9b1ce_row6_col0\" class=\"data row6 col0\" >0.00</td>\n",
       "            </tr>\n",
       "            <tr>\n",
       "                        <th id=\"T_9b1ce_level0_row7\" class=\"row_heading level0 row7\" >name</th>\n",
       "                        <td id=\"T_9b1ce_row7_col0\" class=\"data row7 col0\" >0.00</td>\n",
       "            </tr>\n",
       "            <tr>\n",
       "                        <th id=\"T_9b1ce_level0_row8\" class=\"row_heading level0 row8\" >category</th>\n",
       "                        <td id=\"T_9b1ce_row8_col0\" class=\"data row8 col0\" >0.00</td>\n",
       "            </tr>\n",
       "            <tr>\n",
       "                        <th id=\"T_9b1ce_level0_row9\" class=\"row_heading level0 row9\" >address</th>\n",
       "                        <td id=\"T_9b1ce_row9_col0\" class=\"data row9 col0\" >0.00</td>\n",
       "            </tr>\n",
       "            <tr>\n",
       "                        <th id=\"T_9b1ce_level0_row10\" class=\"row_heading level0 row10\" >district</th>\n",
       "                        <td id=\"T_9b1ce_row10_col0\" class=\"data row10 col0\" >0.00</td>\n",
       "            </tr>\n",
       "            <tr>\n",
       "                        <th id=\"T_9b1ce_level0_row11\" class=\"row_heading level0 row11\" >rating</th>\n",
       "                        <td id=\"T_9b1ce_row11_col0\" class=\"data row11 col0\" >0.00</td>\n",
       "            </tr>\n",
       "            <tr>\n",
       "                        <th id=\"T_9b1ce_level0_row12\" class=\"row_heading level0 row12\" >chain</th>\n",
       "                        <td id=\"T_9b1ce_row12_col0\" class=\"data row12 col0\" >0.00</td>\n",
       "            </tr>\n",
       "    </tbody></table>"
      ],
      "text/plain": [
       "<pandas.io.formats.style.Styler at 0x7f7f492229d0>"
      ]
     },
     "execution_count": 15,
     "metadata": {},
     "output_type": "execute_result"
    }
   ],
   "source": [
    "# Подсчитываем долю строк с пропусками\n",
    "df.isna().mean().to_frame().sort_values(by=0, ascending=False).style.background_gradient(cmap='coolwarm', axis=0).format(\"{:.2f}\")"
   ]
  },
  {
   "cell_type": "code",
   "execution_count": 16,
   "id": "eb6b6ad4",
   "metadata": {},
   "outputs": [
    {
     "data": {
      "text/html": [
       "<style  type=\"text/css\" >\n",
       "#T_2f0bd_row0_col0,#T_2f0bd_row0_col1{\n",
       "            background-color:  #b40426;\n",
       "            color:  #f1f1f1;\n",
       "        }#T_2f0bd_row1_col0,#T_2f0bd_row1_col1{\n",
       "            background-color:  #f6bfa6;\n",
       "            color:  #000000;\n",
       "        }#T_2f0bd_row2_col0,#T_2f0bd_row2_col1{\n",
       "            background-color:  #f4c6af;\n",
       "            color:  #000000;\n",
       "        }#T_2f0bd_row3_col0,#T_2f0bd_row3_col1{\n",
       "            background-color:  #ead5c9;\n",
       "            color:  #000000;\n",
       "        }#T_2f0bd_row4_col0,#T_2f0bd_row4_col1{\n",
       "            background-color:  #c6d6f1;\n",
       "            color:  #000000;\n",
       "        }#T_2f0bd_row5_col0,#T_2f0bd_row5_col1{\n",
       "            background-color:  #3b4cc0;\n",
       "            color:  #f1f1f1;\n",
       "        }</style><table id=\"T_2f0bd_\" ><thead>    <tr>        <th class=\"blank level0\" ></th>        <th class=\"col_heading level0 col0\" >Кол-во пропусков</th>        <th class=\"col_heading level0 col1\" >Доля пропусков</th>    </tr></thead><tbody>\n",
       "                <tr>\n",
       "                        <th id=\"T_2f0bd_level0_row0\" class=\"row_heading level0 row0\" >middle_coffee_cup</th>\n",
       "                        <td id=\"T_2f0bd_row0_col0\" class=\"data row0 col0\" >7871.00</td>\n",
       "                        <td id=\"T_2f0bd_row0_col1\" class=\"data row0 col1\" >0.94</td>\n",
       "            </tr>\n",
       "            <tr>\n",
       "                        <th id=\"T_2f0bd_level0_row1\" class=\"row_heading level0 row1\" >middle_avg_bill</th>\n",
       "                        <td id=\"T_2f0bd_row1_col0\" class=\"data row1 col0\" >5257.00</td>\n",
       "                        <td id=\"T_2f0bd_row1_col1\" class=\"data row1 col1\" >0.63</td>\n",
       "            </tr>\n",
       "            <tr>\n",
       "                        <th id=\"T_2f0bd_level0_row2\" class=\"row_heading level0 row2\" >price</th>\n",
       "                        <td id=\"T_2f0bd_row2_col0\" class=\"data row2 col0\" >5091.00</td>\n",
       "                        <td id=\"T_2f0bd_row2_col1\" class=\"data row2 col1\" >0.61</td>\n",
       "            </tr>\n",
       "            <tr>\n",
       "                        <th id=\"T_2f0bd_level0_row3\" class=\"row_heading level0 row3\" >avg_bill</th>\n",
       "                        <td id=\"T_2f0bd_row3_col0\" class=\"data row3 col0\" >4590.00</td>\n",
       "                        <td id=\"T_2f0bd_row3_col1\" class=\"data row3 col1\" >0.55</td>\n",
       "            </tr>\n",
       "            <tr>\n",
       "                        <th id=\"T_2f0bd_level0_row4\" class=\"row_heading level0 row4\" >seats</th>\n",
       "                        <td id=\"T_2f0bd_row4_col0\" class=\"data row4 col0\" >3611.00</td>\n",
       "                        <td id=\"T_2f0bd_row4_col1\" class=\"data row4 col1\" >0.43</td>\n",
       "            </tr>\n",
       "            <tr>\n",
       "                        <th id=\"T_2f0bd_level0_row5\" class=\"row_heading level0 row5\" >hours</th>\n",
       "                        <td id=\"T_2f0bd_row5_col0\" class=\"data row5 col0\" >536.00</td>\n",
       "                        <td id=\"T_2f0bd_row5_col1\" class=\"data row5 col1\" >0.06</td>\n",
       "            </tr>\n",
       "    </tbody></table>"
      ],
      "text/plain": [
       "<pandas.io.formats.style.Styler at 0x7f7f49235460>"
      ]
     },
     "execution_count": 16,
     "metadata": {},
     "output_type": "execute_result"
    }
   ],
   "source": [
    "# Комментарий ревьюера 0\n",
    "import pandas as pd        # Импортируем билиотеку (вдруг она не установлена в окружении)\n",
    "tmp = df.copy()            # Делаем копию текущего датасета\n",
    "missing_stats = pd.DataFrame({'Кол-во пропусков': tmp.isnull().sum(),'Доля пропусков': tmp.isnull().mean().round(4)})\n",
    "missing_stats = missing_stats[missing_stats['Кол-во пропусков'] > 0].sort_values(by = 'Кол-во пропусков', ascending=False)\n",
    "missing_stats.style.background_gradient(cmap='coolwarm').format(\"{:.2f}\") if not missing_stats.empty else \"Пропусков в данных нет\""
   ]
  },
  {
   "cell_type": "code",
   "execution_count": 17,
   "id": "ef0c3451-b10c-4ded-a93a-f91d2d8081e9",
   "metadata": {},
   "outputs": [
    {
     "name": "stdout",
     "output_type": "stream",
     "text": [
      "26956\n",
      "24.667362140595543\n"
     ]
    }
   ],
   "source": [
    "# Добавим новую переменную для подсчета общего кол-во пропусков в датафрейме в абсолютных и относительных значениях\n",
    "# Общее кол-во пропусков в датафрейме\n",
    "count_nan = df.isna().sum().sum()\n",
    "\n",
    "# Общее кол-во заполненных данных в датафрейме\n",
    "count_not_nan = df.notna().sum().sum()\n",
    "\n",
    "# Доля всех пропусков в датафрейме\n",
    "share_nan = count_nan / (count_not_nan + count_nan)\n",
    "\n",
    "print(count_nan)\n",
    "print(share_nan * 100) "
   ]
  },
  {
   "cell_type": "markdown",
   "id": "bfe06504-5639-4ac5-9fce-3201c441b8a0",
   "metadata": {},
   "source": [
    "Всего в  датафрейме обнаружено <font color='blue'> 26956 пропусков </font> что составляет <font color='blue'> 24.67% </font> всех данных. \n",
    "\n",
    "Большое кол-во пропусков связаны с объединением датафреймов. Данные по средней цене были только у половины заведений. Расмотримм пропуски по столбцам:\n",
    "- Самое большое кол-во пропусков в столбце `middle_coffee_cup` <font color='blue'> (7847) </font> — это <font color='blue'> 94%</font> данных. Т.к. данные в этом столбце заполняются только по заполненным полям с чашкой капучино, то пропуски могут быть связаны с заведением, например если это кафе или ресторан, то там вероятнее всего будет средний чек.  Стоит проверить столбец `avg_bill` со значением `Цена чашки капучино` если по таким строкам есть пропуски в `middle_coffee_cup` то сможем их заполнить, если нет то пропуски в данном случае случайные типа MAR. Так же стоит проверить категорию заведений `кофейня` и понять насколько информативен этот столбец для анализа т.к. заполненность его менее 6%.\n",
    "- По столбцу `middle_avg_bill` в котором <font color='blue'> 5257 пропусков </font> с долей <font color='blue'> 63%</font>. Аналогично проверим их по значению `Средний счёт` в столбце `avg_bill` если все данные заполнены то пропуски случайные или связаны с отсутсвием данных по средней цене.\n",
    "- По столбцу `price` в котором <font color='blue'> 5091 пропуска </font> с долей <font color='blue'> 61%</font>. Тут больше половины пропусков связаны с объединением датафрейма. Еще стоит посмотреть как присвоена катеогрия цены и зависимость от столбцов `avg_bill` если она есть то возможно заполнить данные значением, если явной зависимости нет то оставим без изменений.\n",
    "- По столбцу `avg_bill` всего <font color='blue'> 4590 пропусков </font> что равно <font color='blue'> 55% </font> Аналогично пропуски связанны с объединением датафреймов, изначально данные о ценах у нас были только у половины заведений. Оставим их без изменений что бы не потерять половину данных для анализа.\n",
    "- По столбцу `seats` обноружено <font color='blue'> 3611 пропуска </font> что составляет <font color='blue'> 43% </font> данных. Возможно в некоторых заведениях нет определенного кол-ва мест (например столовая или паб) так же данные могли быть утеряны при их сбре. Оставим эти пропуски без изменений. \n",
    "- И последний столбец с пропусками `hours` в нем: <font color='blue'> 536 пропусков </font>  — это <font color='blue'> 6% </font> данных. Пропуски могут быть связаны с техническими ошибками данных или с их сбором а так же заведении могло не указать время работы. Хоть их не так и много, удалять мы их так же не будем. "
   ]
  },
  {
   "cell_type": "markdown",
   "id": "35e31b95-1fe6-478d-a394-888e8d137204",
   "metadata": {},
   "source": [
    "**Проверим пропуски по `middle_coffee_cup`**"
   ]
  },
  {
   "cell_type": "code",
   "execution_count": 18,
   "id": "f066ea87-18d1-4489-97fc-e096adee5c35",
   "metadata": {},
   "outputs": [
    {
     "data": {
      "text/html": [
       "<div>\n",
       "<style scoped>\n",
       "    .dataframe tbody tr th:only-of-type {\n",
       "        vertical-align: middle;\n",
       "    }\n",
       "\n",
       "    .dataframe tbody tr th {\n",
       "        vertical-align: top;\n",
       "    }\n",
       "\n",
       "    .dataframe thead th {\n",
       "        text-align: right;\n",
       "    }\n",
       "</style>\n",
       "<table border=\"1\" class=\"dataframe\">\n",
       "  <thead>\n",
       "    <tr style=\"text-align: right;\">\n",
       "      <th></th>\n",
       "      <th>id</th>\n",
       "      <th>name</th>\n",
       "      <th>category</th>\n",
       "      <th>address</th>\n",
       "      <th>district</th>\n",
       "      <th>hours</th>\n",
       "      <th>rating</th>\n",
       "      <th>chain</th>\n",
       "      <th>seats</th>\n",
       "      <th>price</th>\n",
       "      <th>avg_bill</th>\n",
       "      <th>middle_avg_bill</th>\n",
       "      <th>middle_coffee_cup</th>\n",
       "    </tr>\n",
       "  </thead>\n",
       "  <tbody>\n",
       "  </tbody>\n",
       "</table>\n",
       "</div>"
      ],
      "text/plain": [
       "Empty DataFrame\n",
       "Columns: [id, name, category, address, district, hours, rating, chain, seats, price, avg_bill, middle_avg_bill, middle_coffee_cup]\n",
       "Index: []"
      ]
     },
     "execution_count": 18,
     "metadata": {},
     "output_type": "execute_result"
    }
   ],
   "source": [
    "# Проверяем по столбцу middle_coffee_cup и значения 'Цена чашки капучино'\n",
    "df.loc[df['avg_bill'].str.startswith('Цена чашки капучино', na=False) & df['middle_coffee_cup'].isna()]"
   ]
  },
  {
   "cell_type": "markdown",
   "id": "c0c93b52-7d37-417c-affc-818dbaf1225d",
   "metadata": {},
   "source": [
    "Пропущенных значенй с подстроки «Цена одной чашки капучино» по столбцу `avg_bill` нет, значит все пропуски в этих столбцах не случайны. Теперь посмотрим на категории заведений и посмотрим есть ли там кофейни, и по ним посмотрим пропущенные значения по столбцу `middle_coffee_cup`"
   ]
  },
  {
   "cell_type": "code",
   "execution_count": 19,
   "id": "43746f50-9498-4403-bd18-fbd8892a4740",
   "metadata": {},
   "outputs": [
    {
     "data": {
      "text/plain": [
       "кафе               2378\n",
       "ресторан           2043\n",
       "кофейня            1413\n",
       "бар,паб             765\n",
       "пиццерия            633\n",
       "быстрое питание     603\n",
       "столовая            315\n",
       "булочная            256\n",
       "Name: category, dtype: int64"
      ]
     },
     "execution_count": 19,
     "metadata": {},
     "output_type": "execute_result"
    }
   ],
   "source": [
    "# Выведим значения по столбцу 'category'\n",
    "df['category'].value_counts()"
   ]
  },
  {
   "cell_type": "markdown",
   "id": "b22f7dce-dc1a-44f8-8f1a-4eeb2e26d17f",
   "metadata": {},
   "source": [
    "1413 кофейн что составляет 16,8% от всех данных. Проверим пропуски только по кофейням"
   ]
  },
  {
   "cell_type": "code",
   "execution_count": 20,
   "id": "03393a4f-1b02-4be9-b616-15bced77607d",
   "metadata": {},
   "outputs": [
    {
     "data": {
      "text/html": [
       "<div>\n",
       "<style scoped>\n",
       "    .dataframe tbody tr th:only-of-type {\n",
       "        vertical-align: middle;\n",
       "    }\n",
       "\n",
       "    .dataframe tbody tr th {\n",
       "        vertical-align: top;\n",
       "    }\n",
       "\n",
       "    .dataframe thead th {\n",
       "        text-align: right;\n",
       "    }\n",
       "</style>\n",
       "<table border=\"1\" class=\"dataframe\">\n",
       "  <thead>\n",
       "    <tr style=\"text-align: right;\">\n",
       "      <th></th>\n",
       "      <th>middle_coffee_cup</th>\n",
       "      <th>middle_avg_bill</th>\n",
       "    </tr>\n",
       "  </thead>\n",
       "  <tbody>\n",
       "    <tr>\n",
       "      <th>sum</th>\n",
       "      <td>521.000000</td>\n",
       "      <td>200.000000</td>\n",
       "    </tr>\n",
       "    <tr>\n",
       "      <th>mean</th>\n",
       "      <td>0.368719</td>\n",
       "      <td>0.141543</td>\n",
       "    </tr>\n",
       "  </tbody>\n",
       "</table>\n",
       "</div>"
      ],
      "text/plain": [
       "      middle_coffee_cup  middle_avg_bill\n",
       "sum          521.000000       200.000000\n",
       "mean           0.368719         0.141543"
      ]
     },
     "execution_count": 20,
     "metadata": {},
     "output_type": "execute_result"
    }
   ],
   "source": [
    "# Фильтруем только кофейни\n",
    "coffee_shops = df[df['category'] == 'кофейня']\n",
    "\n",
    "# Считаем заполненные данные в нужных столбцах\n",
    "coffee_shops[['middle_coffee_cup', 'middle_avg_bill']].notna().agg(['sum', 'mean'])"
   ]
  },
  {
   "cell_type": "markdown",
   "id": "9b6ffc07-7086-48ab-adbd-a416613fafc7",
   "metadata": {},
   "source": [
    "Видим что по кофейням цены в большинстве указаны по столбцу `middle_coffee_cup` если полностью убрать столбец из исследования то можем потерять данные данные по 36% кофеин. Отсавим этот столбец в датафрейме"
   ]
  },
  {
   "cell_type": "markdown",
   "id": "dd2b3983-8e77-4151-b457-a0de9aace7df",
   "metadata": {},
   "source": [
    "**Проверим пропуски по `middle_avg_bill`**"
   ]
  },
  {
   "cell_type": "code",
   "execution_count": 21,
   "id": "8ac3af85-644d-4461-9e2d-f39e8c3f70a6",
   "metadata": {},
   "outputs": [
    {
     "data": {
      "text/html": [
       "<div>\n",
       "<style scoped>\n",
       "    .dataframe tbody tr th:only-of-type {\n",
       "        vertical-align: middle;\n",
       "    }\n",
       "\n",
       "    .dataframe tbody tr th {\n",
       "        vertical-align: top;\n",
       "    }\n",
       "\n",
       "    .dataframe thead th {\n",
       "        text-align: right;\n",
       "    }\n",
       "</style>\n",
       "<table border=\"1\" class=\"dataframe\">\n",
       "  <thead>\n",
       "    <tr style=\"text-align: right;\">\n",
       "      <th></th>\n",
       "      <th>id</th>\n",
       "      <th>name</th>\n",
       "      <th>category</th>\n",
       "      <th>address</th>\n",
       "      <th>district</th>\n",
       "      <th>hours</th>\n",
       "      <th>rating</th>\n",
       "      <th>chain</th>\n",
       "      <th>seats</th>\n",
       "      <th>price</th>\n",
       "      <th>avg_bill</th>\n",
       "      <th>middle_avg_bill</th>\n",
       "      <th>middle_coffee_cup</th>\n",
       "    </tr>\n",
       "  </thead>\n",
       "  <tbody>\n",
       "  </tbody>\n",
       "</table>\n",
       "</div>"
      ],
      "text/plain": [
       "Empty DataFrame\n",
       "Columns: [id, name, category, address, district, hours, rating, chain, seats, price, avg_bill, middle_avg_bill, middle_coffee_cup]\n",
       "Index: []"
      ]
     },
     "execution_count": 21,
     "metadata": {},
     "output_type": "execute_result"
    }
   ],
   "source": [
    "# Проверяем заполненые значения в middle_avg_bill если в avg_bill начинается с 'Средний счёт'\n",
    "df.loc[df['avg_bill'].str.startswith('Средний счёт', na=False) & df['middle_avg_bill'].isna()]"
   ]
  },
  {
   "cell_type": "markdown",
   "id": "5ecea0a6-6aec-40d6-bf97-ddb4beb4a7c5",
   "metadata": {},
   "source": [
    "Пропущенных значенй нет, значит все пропуски в этих столбцах не случайны. Оставим их без изменений"
   ]
  },
  {
   "cell_type": "markdown",
   "id": "7c019452-d108-421d-ac7b-d35ba66acef6",
   "metadata": {},
   "source": [
    "**Проверим пропуски по `price`**"
   ]
  },
  {
   "cell_type": "code",
   "execution_count": 22,
   "id": "47d9588d-a477-4258-b1be-fd1dbcf46cc0",
   "metadata": {
    "scrolled": true
   },
   "outputs": [
    {
     "data": {
      "text/html": [
       "<div>\n",
       "<style scoped>\n",
       "    .dataframe tbody tr th:only-of-type {\n",
       "        vertical-align: middle;\n",
       "    }\n",
       "\n",
       "    .dataframe tbody tr th {\n",
       "        vertical-align: top;\n",
       "    }\n",
       "\n",
       "    .dataframe thead th {\n",
       "        text-align: right;\n",
       "    }\n",
       "</style>\n",
       "<table border=\"1\" class=\"dataframe\">\n",
       "  <thead>\n",
       "    <tr style=\"text-align: right;\">\n",
       "      <th></th>\n",
       "      <th>id</th>\n",
       "      <th>name</th>\n",
       "      <th>category</th>\n",
       "      <th>address</th>\n",
       "      <th>district</th>\n",
       "      <th>hours</th>\n",
       "      <th>rating</th>\n",
       "      <th>chain</th>\n",
       "      <th>seats</th>\n",
       "      <th>price</th>\n",
       "      <th>avg_bill</th>\n",
       "      <th>middle_avg_bill</th>\n",
       "      <th>middle_coffee_cup</th>\n",
       "    </tr>\n",
       "  </thead>\n",
       "  <tbody>\n",
       "    <tr>\n",
       "      <th>3</th>\n",
       "      <td>03ac7cd772104f65b58b349dc59f03ee</td>\n",
       "      <td>Dormouse Coffee Shop</td>\n",
       "      <td>кофейня</td>\n",
       "      <td>Москва, улица Маршала Федоренко, 12</td>\n",
       "      <td>Северный административный округ</td>\n",
       "      <td>ежедневно, 09:00–22:00</td>\n",
       "      <td>5.0</td>\n",
       "      <td>0</td>\n",
       "      <td>NaN</td>\n",
       "      <td>NaN</td>\n",
       "      <td>Цена чашки капучино:155–185 ₽</td>\n",
       "      <td>NaN</td>\n",
       "      <td>170.0</td>\n",
       "    </tr>\n",
       "    <tr>\n",
       "      <th>27</th>\n",
       "      <td>cb3ade780c844bb496655304fe7f0db0</td>\n",
       "      <td>Шаурму Х@чу</td>\n",
       "      <td>быстрое питание</td>\n",
       "      <td>Москва, улица Дыбенко, 7, стр. 1</td>\n",
       "      <td>Северный административный округ</td>\n",
       "      <td>пн-пт 08:00–22:00; сб,вс 10:00–22:00</td>\n",
       "      <td>4.1</td>\n",
       "      <td>0</td>\n",
       "      <td>4.0</td>\n",
       "      <td>NaN</td>\n",
       "      <td>Средний счёт:от 240 ₽</td>\n",
       "      <td>240.0</td>\n",
       "      <td>NaN</td>\n",
       "    </tr>\n",
       "    <tr>\n",
       "      <th>32</th>\n",
       "      <td>4e5314c970cc47c58e5d24ee3ee70fa9</td>\n",
       "      <td>Додо Пицца</td>\n",
       "      <td>пиццерия</td>\n",
       "      <td>Москва, Коровинское шоссе, 23, корп. 1</td>\n",
       "      <td>Северный административный округ</td>\n",
       "      <td>ежедневно, 09:00–23:00</td>\n",
       "      <td>4.3</td>\n",
       "      <td>1</td>\n",
       "      <td>46.0</td>\n",
       "      <td>NaN</td>\n",
       "      <td>Средний счёт:328 ₽</td>\n",
       "      <td>328.0</td>\n",
       "      <td>NaN</td>\n",
       "    </tr>\n",
       "    <tr>\n",
       "      <th>34</th>\n",
       "      <td>629ac86faa0b4ca49eda1ee27cbda5bb</td>\n",
       "      <td>Домино'с Пицца</td>\n",
       "      <td>пиццерия</td>\n",
       "      <td>Москва, Клязьминская улица, 11, корп. 4</td>\n",
       "      <td>Северный административный округ</td>\n",
       "      <td>ежедневно, 10:00–23:00</td>\n",
       "      <td>4.2</td>\n",
       "      <td>1</td>\n",
       "      <td>247.0</td>\n",
       "      <td>NaN</td>\n",
       "      <td>Средний счёт:от 500 ₽</td>\n",
       "      <td>500.0</td>\n",
       "      <td>NaN</td>\n",
       "    </tr>\n",
       "    <tr>\n",
       "      <th>49</th>\n",
       "      <td>a8bbd74669074068ab44bc567022ee27</td>\n",
       "      <td>2U-Ту-Ю</td>\n",
       "      <td>пиццерия</td>\n",
       "      <td>Москва, Ижорская улица, 8А</td>\n",
       "      <td>Северный административный округ</td>\n",
       "      <td>ежедневно, круглосуточно</td>\n",
       "      <td>2.7</td>\n",
       "      <td>0</td>\n",
       "      <td>NaN</td>\n",
       "      <td>NaN</td>\n",
       "      <td>Средний счёт:900 ₽</td>\n",
       "      <td>900.0</td>\n",
       "      <td>NaN</td>\n",
       "    </tr>\n",
       "    <tr>\n",
       "      <th>...</th>\n",
       "      <td>...</td>\n",
       "      <td>...</td>\n",
       "      <td>...</td>\n",
       "      <td>...</td>\n",
       "      <td>...</td>\n",
       "      <td>...</td>\n",
       "      <td>...</td>\n",
       "      <td>...</td>\n",
       "      <td>...</td>\n",
       "      <td>...</td>\n",
       "      <td>...</td>\n",
       "      <td>...</td>\n",
       "      <td>...</td>\n",
       "    </tr>\n",
       "    <tr>\n",
       "      <th>8366</th>\n",
       "      <td>119c3237f9ac45c789debbc0f377784d</td>\n",
       "      <td>Ситипицца</td>\n",
       "      <td>пиццерия</td>\n",
       "      <td>Москва, Ферганская улица, 12</td>\n",
       "      <td>Юго-Восточный административный округ</td>\n",
       "      <td>ежедневно, 10:00–23:00</td>\n",
       "      <td>4.2</td>\n",
       "      <td>0</td>\n",
       "      <td>4.0</td>\n",
       "      <td>NaN</td>\n",
       "      <td>Средний счёт:300–700 ₽</td>\n",
       "      <td>500.0</td>\n",
       "      <td>NaN</td>\n",
       "    </tr>\n",
       "    <tr>\n",
       "      <th>8383</th>\n",
       "      <td>3abfb264a4a6489e84167880bad5f109</td>\n",
       "      <td>Pizza24/7</td>\n",
       "      <td>пиццерия</td>\n",
       "      <td>Москва, улица Юных Ленинцев, 10/15к1</td>\n",
       "      <td>Юго-Восточный административный округ</td>\n",
       "      <td>ежедневно, круглосуточно</td>\n",
       "      <td>4.2</td>\n",
       "      <td>0</td>\n",
       "      <td>NaN</td>\n",
       "      <td>NaN</td>\n",
       "      <td>Средний счёт:150 ₽</td>\n",
       "      <td>150.0</td>\n",
       "      <td>NaN</td>\n",
       "    </tr>\n",
       "    <tr>\n",
       "      <th>8385</th>\n",
       "      <td>86a33e2c440d4a888d865295ecaa24ed</td>\n",
       "      <td>Cafio</td>\n",
       "      <td>кофейня</td>\n",
       "      <td>Москва, Новохохловская улица, 49</td>\n",
       "      <td>Юго-Восточный административный округ</td>\n",
       "      <td>пн-пт 07:00–22:00; сб,вс 07:00–21:00</td>\n",
       "      <td>4.7</td>\n",
       "      <td>0</td>\n",
       "      <td>NaN</td>\n",
       "      <td>NaN</td>\n",
       "      <td>Цена чашки капучино:80–120 ₽</td>\n",
       "      <td>NaN</td>\n",
       "      <td>100.0</td>\n",
       "    </tr>\n",
       "    <tr>\n",
       "      <th>8399</th>\n",
       "      <td>71cc394927204d45b81c3a91edb47955</td>\n",
       "      <td>Пекарня, кафе-гриль</td>\n",
       "      <td>булочная</td>\n",
       "      <td>Москва, Болотниковская улица, 52, корп. 2</td>\n",
       "      <td>Юго-Западный административный округ</td>\n",
       "      <td>ежедневно, круглосуточно</td>\n",
       "      <td>4.2</td>\n",
       "      <td>0</td>\n",
       "      <td>50.0</td>\n",
       "      <td>NaN</td>\n",
       "      <td>Средний счёт:50–250 ₽</td>\n",
       "      <td>150.0</td>\n",
       "      <td>NaN</td>\n",
       "    </tr>\n",
       "    <tr>\n",
       "      <th>8403</th>\n",
       "      <td>62e8c64d4c89467aba608e39ef87616b</td>\n",
       "      <td>Самовар</td>\n",
       "      <td>кафе</td>\n",
       "      <td>Москва, Люблинская улица, 112А, стр. 1</td>\n",
       "      <td>Юго-Восточный административный округ</td>\n",
       "      <td>ежедневно, круглосуточно</td>\n",
       "      <td>3.9</td>\n",
       "      <td>0</td>\n",
       "      <td>150.0</td>\n",
       "      <td>NaN</td>\n",
       "      <td>Средний счёт:от 150 ₽</td>\n",
       "      <td>150.0</td>\n",
       "      <td>NaN</td>\n",
       "    </tr>\n",
       "  </tbody>\n",
       "</table>\n",
       "<p>743 rows × 13 columns</p>\n",
       "</div>"
      ],
      "text/plain": [
       "                                    id                  name         category  \\\n",
       "3     03ac7cd772104f65b58b349dc59f03ee  Dormouse Coffee Shop          кофейня   \n",
       "27    cb3ade780c844bb496655304fe7f0db0           Шаурму Х@чу  быстрое питание   \n",
       "32    4e5314c970cc47c58e5d24ee3ee70fa9            Додо Пицца         пиццерия   \n",
       "34    629ac86faa0b4ca49eda1ee27cbda5bb        Домино'с Пицца         пиццерия   \n",
       "49    a8bbd74669074068ab44bc567022ee27               2U-Ту-Ю         пиццерия   \n",
       "...                                ...                   ...              ...   \n",
       "8366  119c3237f9ac45c789debbc0f377784d             Ситипицца         пиццерия   \n",
       "8383  3abfb264a4a6489e84167880bad5f109             Pizza24/7         пиццерия   \n",
       "8385  86a33e2c440d4a888d865295ecaa24ed                 Cafio          кофейня   \n",
       "8399  71cc394927204d45b81c3a91edb47955   Пекарня, кафе-гриль         булочная   \n",
       "8403  62e8c64d4c89467aba608e39ef87616b               Самовар             кафе   \n",
       "\n",
       "                                        address  \\\n",
       "3           Москва, улица Маршала Федоренко, 12   \n",
       "27             Москва, улица Дыбенко, 7, стр. 1   \n",
       "32       Москва, Коровинское шоссе, 23, корп. 1   \n",
       "34      Москва, Клязьминская улица, 11, корп. 4   \n",
       "49                   Москва, Ижорская улица, 8А   \n",
       "...                                         ...   \n",
       "8366               Москва, Ферганская улица, 12   \n",
       "8383       Москва, улица Юных Ленинцев, 10/15к1   \n",
       "8385           Москва, Новохохловская улица, 49   \n",
       "8399  Москва, Болотниковская улица, 52, корп. 2   \n",
       "8403     Москва, Люблинская улица, 112А, стр. 1   \n",
       "\n",
       "                                  district  \\\n",
       "3          Северный административный округ   \n",
       "27         Северный административный округ   \n",
       "32         Северный административный округ   \n",
       "34         Северный административный округ   \n",
       "49         Северный административный округ   \n",
       "...                                    ...   \n",
       "8366  Юго-Восточный административный округ   \n",
       "8383  Юго-Восточный административный округ   \n",
       "8385  Юго-Восточный административный округ   \n",
       "8399   Юго-Западный административный округ   \n",
       "8403  Юго-Восточный административный округ   \n",
       "\n",
       "                                     hours  rating  chain  seats price  \\\n",
       "3                   ежедневно, 09:00–22:00     5.0      0    NaN   NaN   \n",
       "27    пн-пт 08:00–22:00; сб,вс 10:00–22:00     4.1      0    4.0   NaN   \n",
       "32                  ежедневно, 09:00–23:00     4.3      1   46.0   NaN   \n",
       "34                  ежедневно, 10:00–23:00     4.2      1  247.0   NaN   \n",
       "49                ежедневно, круглосуточно     2.7      0    NaN   NaN   \n",
       "...                                    ...     ...    ...    ...   ...   \n",
       "8366                ежедневно, 10:00–23:00     4.2      0    4.0   NaN   \n",
       "8383              ежедневно, круглосуточно     4.2      0    NaN   NaN   \n",
       "8385  пн-пт 07:00–22:00; сб,вс 07:00–21:00     4.7      0    NaN   NaN   \n",
       "8399              ежедневно, круглосуточно     4.2      0   50.0   NaN   \n",
       "8403              ежедневно, круглосуточно     3.9      0  150.0   NaN   \n",
       "\n",
       "                           avg_bill  middle_avg_bill  middle_coffee_cup  \n",
       "3     Цена чашки капучино:155–185 ₽              NaN              170.0  \n",
       "27            Средний счёт:от 240 ₽            240.0                NaN  \n",
       "32               Средний счёт:328 ₽            328.0                NaN  \n",
       "34            Средний счёт:от 500 ₽            500.0                NaN  \n",
       "49               Средний счёт:900 ₽            900.0                NaN  \n",
       "...                             ...              ...                ...  \n",
       "8366         Средний счёт:300–700 ₽            500.0                NaN  \n",
       "8383             Средний счёт:150 ₽            150.0                NaN  \n",
       "8385   Цена чашки капучино:80–120 ₽              NaN              100.0  \n",
       "8399          Средний счёт:50–250 ₽            150.0                NaN  \n",
       "8403          Средний счёт:от 150 ₽            150.0                NaN  \n",
       "\n",
       "[743 rows x 13 columns]"
      ]
     },
     "execution_count": 22,
     "metadata": {},
     "output_type": "execute_result"
    }
   ],
   "source": [
    "# Проверим пропуски по столбцу 'price' и заполненные поля по 'avg_bill'\n",
    "df.loc[df['price'].isna() & ~ df['avg_bill'].isna()]"
   ]
  },
  {
   "cell_type": "markdown",
   "id": "6da0cc86-8aff-4184-9e48-165c1f776ed1",
   "metadata": {},
   "source": [
    "Видим что данные в `avg_bill` заполнены по 353 строкам это 6,9% данных можем заполнить по столбцу `price`. Теперь посмотрим как распределяется категория цен по столбцу price в зависимости от `middle_avg_bill` и `middle_coffee_cup` посмотрим медиану, среднее, минимальное и максимальные значения. Применим метод `pivot_table()`"
   ]
  },
  {
   "cell_type": "code",
   "execution_count": 23,
   "id": "6f1a38de-c3a3-4b48-bb14-d4adada55de0",
   "metadata": {},
   "outputs": [
    {
     "data": {
      "text/html": [
       "<div>\n",
       "<style scoped>\n",
       "    .dataframe tbody tr th:only-of-type {\n",
       "        vertical-align: middle;\n",
       "    }\n",
       "\n",
       "    .dataframe tbody tr th {\n",
       "        vertical-align: top;\n",
       "    }\n",
       "\n",
       "    .dataframe thead tr th {\n",
       "        text-align: left;\n",
       "    }\n",
       "\n",
       "    .dataframe thead tr:last-of-type th {\n",
       "        text-align: right;\n",
       "    }\n",
       "</style>\n",
       "<table border=\"1\" class=\"dataframe\">\n",
       "  <thead>\n",
       "    <tr>\n",
       "      <th></th>\n",
       "      <th>median</th>\n",
       "      <th>mean</th>\n",
       "      <th>max</th>\n",
       "      <th>min</th>\n",
       "      <th>count</th>\n",
       "    </tr>\n",
       "    <tr>\n",
       "      <th></th>\n",
       "      <th>middle_avg_bill</th>\n",
       "      <th>middle_avg_bill</th>\n",
       "      <th>middle_avg_bill</th>\n",
       "      <th>middle_avg_bill</th>\n",
       "      <th>middle_avg_bill</th>\n",
       "    </tr>\n",
       "    <tr>\n",
       "      <th>price</th>\n",
       "      <th></th>\n",
       "      <th></th>\n",
       "      <th></th>\n",
       "      <th></th>\n",
       "      <th></th>\n",
       "    </tr>\n",
       "  </thead>\n",
       "  <tbody>\n",
       "    <tr>\n",
       "      <th>высокие</th>\n",
       "      <td>2000.0</td>\n",
       "      <td>2472.631592</td>\n",
       "      <td>35000.0</td>\n",
       "      <td>0.0</td>\n",
       "      <td>437</td>\n",
       "    </tr>\n",
       "    <tr>\n",
       "      <th>выше среднего</th>\n",
       "      <td>1250.0</td>\n",
       "      <td>1344.189209</td>\n",
       "      <td>4500.0</td>\n",
       "      <td>375.0</td>\n",
       "      <td>481</td>\n",
       "    </tr>\n",
       "    <tr>\n",
       "      <th>низкие</th>\n",
       "      <td>180.0</td>\n",
       "      <td>217.311829</td>\n",
       "      <td>600.0</td>\n",
       "      <td>90.0</td>\n",
       "      <td>93</td>\n",
       "    </tr>\n",
       "    <tr>\n",
       "      <th>средние</th>\n",
       "      <td>500.0</td>\n",
       "      <td>598.908264</td>\n",
       "      <td>2150.0</td>\n",
       "      <td>165.0</td>\n",
       "      <td>1668</td>\n",
       "    </tr>\n",
       "  </tbody>\n",
       "</table>\n",
       "</div>"
      ],
      "text/plain": [
       "                       median            mean             max             min  \\\n",
       "              middle_avg_bill middle_avg_bill middle_avg_bill middle_avg_bill   \n",
       "price                                                                           \n",
       "высокие                2000.0     2472.631592         35000.0             0.0   \n",
       "выше среднего          1250.0     1344.189209          4500.0           375.0   \n",
       "низкие                  180.0      217.311829           600.0            90.0   \n",
       "средние                 500.0      598.908264          2150.0           165.0   \n",
       "\n",
       "                        count  \n",
       "              middle_avg_bill  \n",
       "price                          \n",
       "высокие                   437  \n",
       "выше среднего             481  \n",
       "низкие                     93  \n",
       "средние                  1668  "
      ]
     },
     "execution_count": 23,
     "metadata": {},
     "output_type": "execute_result"
    }
   ],
   "source": [
    "df.pivot_table(index = 'price', values = 'middle_avg_bill', aggfunc = ['median', 'mean', 'max', 'min', 'count'])"
   ]
  },
  {
   "cell_type": "code",
   "execution_count": 24,
   "id": "83189973-cce5-44a1-aa20-61424d6b0f5f",
   "metadata": {},
   "outputs": [
    {
     "data": {
      "text/html": [
       "<div>\n",
       "<style scoped>\n",
       "    .dataframe tbody tr th:only-of-type {\n",
       "        vertical-align: middle;\n",
       "    }\n",
       "\n",
       "    .dataframe tbody tr th {\n",
       "        vertical-align: top;\n",
       "    }\n",
       "\n",
       "    .dataframe thead tr th {\n",
       "        text-align: left;\n",
       "    }\n",
       "\n",
       "    .dataframe thead tr:last-of-type th {\n",
       "        text-align: right;\n",
       "    }\n",
       "</style>\n",
       "<table border=\"1\" class=\"dataframe\">\n",
       "  <thead>\n",
       "    <tr>\n",
       "      <th></th>\n",
       "      <th>median</th>\n",
       "      <th>mean</th>\n",
       "      <th>max</th>\n",
       "      <th>min</th>\n",
       "      <th>count</th>\n",
       "    </tr>\n",
       "    <tr>\n",
       "      <th></th>\n",
       "      <th>middle_coffee_cup</th>\n",
       "      <th>middle_coffee_cup</th>\n",
       "      <th>middle_coffee_cup</th>\n",
       "      <th>middle_coffee_cup</th>\n",
       "      <th>middle_coffee_cup</th>\n",
       "    </tr>\n",
       "    <tr>\n",
       "      <th>price</th>\n",
       "      <th></th>\n",
       "      <th></th>\n",
       "      <th></th>\n",
       "      <th></th>\n",
       "      <th></th>\n",
       "    </tr>\n",
       "  </thead>\n",
       "  <tbody>\n",
       "    <tr>\n",
       "      <th>высокие</th>\n",
       "      <td>250.0</td>\n",
       "      <td>250.000000</td>\n",
       "      <td>250.0</td>\n",
       "      <td>250.0</td>\n",
       "      <td>1</td>\n",
       "    </tr>\n",
       "    <tr>\n",
       "      <th>выше среднего</th>\n",
       "      <td>203.0</td>\n",
       "      <td>203.000000</td>\n",
       "      <td>256.0</td>\n",
       "      <td>150.0</td>\n",
       "      <td>2</td>\n",
       "    </tr>\n",
       "    <tr>\n",
       "      <th>низкие</th>\n",
       "      <td>139.0</td>\n",
       "      <td>136.614029</td>\n",
       "      <td>256.0</td>\n",
       "      <td>60.0</td>\n",
       "      <td>57</td>\n",
       "    </tr>\n",
       "    <tr>\n",
       "      <th>средние</th>\n",
       "      <td>200.0</td>\n",
       "      <td>209.403671</td>\n",
       "      <td>1568.0</td>\n",
       "      <td>60.0</td>\n",
       "      <td>218</td>\n",
       "    </tr>\n",
       "  </tbody>\n",
       "</table>\n",
       "</div>"
      ],
      "text/plain": [
       "                         median              mean               max  \\\n",
       "              middle_coffee_cup middle_coffee_cup middle_coffee_cup   \n",
       "price                                                                 \n",
       "высокие                   250.0        250.000000             250.0   \n",
       "выше среднего             203.0        203.000000             256.0   \n",
       "низкие                    139.0        136.614029             256.0   \n",
       "средние                   200.0        209.403671            1568.0   \n",
       "\n",
       "                            min             count  \n",
       "              middle_coffee_cup middle_coffee_cup  \n",
       "price                                              \n",
       "высокие                   250.0                 1  \n",
       "выше среднего             150.0                 2  \n",
       "низкие                     60.0                57  \n",
       "средние                    60.0               218  "
      ]
     },
     "execution_count": 24,
     "metadata": {},
     "output_type": "execute_result"
    }
   ],
   "source": [
    "df.pivot_table(index = 'price', values = 'middle_coffee_cup', aggfunc = ['median', 'mean', 'max', 'min', 'count'])"
   ]
  },
  {
   "cell_type": "markdown",
   "id": "5a654779-9718-4253-8ab2-04ca1cdc3cfb",
   "metadata": {},
   "source": [
    "Можно сразу обратить внимание на анамальное распределение: например в категории высоких цен есть позиции у которыx минимальная цена = 0 или чашка капучино за 1568 (что скорее всего явлется выбросом, которые мы проверим позже) находится в категории средней цены а не высокой, максимальное значение чашки кофе у всех категорий похожи, а заначит категории цен определяют и другие факторы, такие как например расположение места. Оставим этим пропуски без изменений"
   ]
  },
  {
   "cell_type": "markdown",
   "id": "6a32304a-ca79-42f4-bfc9-dbf32c97efc2",
   "metadata": {},
   "source": [
    "### 2.3. Явные и неявные дубликаты в данных"
   ]
  },
  {
   "cell_type": "markdown",
   "id": "3f7234ec-397e-433d-a91d-19b76181c69e",
   "metadata": {},
   "source": [
    "Сначала проверим данные на полные дубликаты в датафреймах:"
   ]
  },
  {
   "cell_type": "code",
   "execution_count": 25,
   "id": "3a6d36a7-1356-42a2-a5a7-7a6b81788e4e",
   "metadata": {},
   "outputs": [
    {
     "data": {
      "text/plain": [
       "0"
      ]
     },
     "execution_count": 25,
     "metadata": {},
     "output_type": "execute_result"
    }
   ],
   "source": [
    "# Проверяем полные дубликаты\n",
    "df.duplicated().sum()"
   ]
  },
  {
   "cell_type": "markdown",
   "id": "43c381d3-1f03-4614-b5ed-a19eab7d7a7e",
   "metadata": {},
   "source": [
    "В датафреймах нет полных дубликатов строк. Тепер посмотрим на уникальные значения в категорийных данных — среди них административный район и категория заведения."
   ]
  },
  {
   "cell_type": "code",
   "execution_count": 26,
   "id": "0e16326b-252b-4505-aa8e-c903b5f6fd3b",
   "metadata": {},
   "outputs": [
    {
     "name": "stdout",
     "output_type": "stream",
     "text": [
      "Уникальные значения в столбце district:\n",
      "['Восточный административный округ' 'Западный административный округ'\n",
      " 'Северный административный округ'\n",
      " 'Северо-Восточный административный округ'\n",
      " 'Северо-Западный административный округ'\n",
      " 'Центральный административный округ'\n",
      " 'Юго-Восточный административный округ'\n",
      " 'Юго-Западный административный округ' 'Южный административный округ']\n",
      "\n",
      "Уникальные значения в столбце category:\n",
      "['бар,паб' 'булочная' 'быстрое питание' 'кафе' 'кофейня' 'пиццерия'\n",
      " 'ресторан' 'столовая']\n",
      "\n"
     ]
    }
   ],
   "source": [
    "# Проверяем уникальные значения в столбцах\n",
    "for column in ['district', 'category']:\n",
    "    print(f'Уникальные значения в столбце {column}:')\n",
    "    print(df_i[column].sort_values().unique())\n",
    "    print()"
   ]
  },
  {
   "cell_type": "markdown",
   "id": "aa9e747e-9ecc-4bd1-8c07-45fa7080fc8a",
   "metadata": {},
   "source": [
    "Все значения уникальны. Предлагаю переименовать названия административных районов, сократив их до аббревиатуры для удобства восприятия"
   ]
  },
  {
   "cell_type": "code",
   "execution_count": 27,
   "id": "35391855-6723-405c-937f-edaf65b0b3eb",
   "metadata": {},
   "outputs": [],
   "source": [
    "# Создадим словарь аббревиатуры для административных районов Москвы\n",
    "new_columns_district = {'Восточный административный округ':'ВАО', \n",
    "                        'Западный административный округ':'ЗАО',                                               \n",
    "                        'Северный административный округ':'CАО',                         \n",
    "                        'Северо-Восточный административный округ':'СВАО',\n",
    "                        'Северо-Западный административный округ':'СЗАО',\n",
    "                        'Центральный административный округ':'ЦАО',\n",
    "                        'Юго-Восточный административный округ':'ЮВАО',\n",
    "                        'Юго-Западный административный округ':'ЮЗАО',\n",
    "                        'Южный административный округ':'ЮАО'}\n",
    "df['district'] = df['district'].replace(new_columns_district)"
   ]
  },
  {
   "cell_type": "code",
   "execution_count": 28,
   "id": "298aed64-fc80-4046-9a6c-ae8c95ce746d",
   "metadata": {},
   "outputs": [
    {
     "data": {
      "text/plain": [
       "ЦАО     2242\n",
       "CАО      900\n",
       "ЮАО      892\n",
       "СВАО     891\n",
       "ЗАО      851\n",
       "ВАО      798\n",
       "ЮВАО     714\n",
       "ЮЗАО     709\n",
       "СЗАО     409\n",
       "Name: district, dtype: int64"
      ]
     },
     "execution_count": 28,
     "metadata": {},
     "output_type": "execute_result"
    }
   ],
   "source": [
    "df['district'].value_counts()"
   ]
  },
  {
   "cell_type": "markdown",
   "id": "e2baa0ea-7095-4189-8011-a059c26b56c4",
   "metadata": {},
   "source": [
    "Отлично, все значения переименованы. Видим что в центральном районе больше всего заведений, это и неудивительно."
   ]
  },
  {
   "cell_type": "markdown",
   "id": "9b6e44db-6bd6-4a41-bdc9-084fc5c5899d",
   "metadata": {},
   "source": [
    "Теперь проверим текстовые поля такие как наименование заведений и адрес. Т.к. заведения могут быть написаны по разному, то перезапишем все названия в нижний регистр и уберем лишние пробелы. "
   ]
  },
  {
   "cell_type": "code",
   "execution_count": 29,
   "id": "d72785c7-83ab-4060-b8f5-d8f406e36d79",
   "metadata": {},
   "outputs": [
    {
     "data": {
      "text/plain": [
       "5614"
      ]
     },
     "metadata": {},
     "output_type": "display_data"
    },
    {
     "data": {
      "text/plain": [
       "5753"
      ]
     },
     "metadata": {},
     "output_type": "display_data"
    }
   ],
   "source": [
    "# Посчитаем количество уникальных значений в наименовании и адресе заведений\n",
    "display(df['name'].nunique())\n",
    "display(df['address'].nunique())"
   ]
  },
  {
   "cell_type": "markdown",
   "id": "fcbdb6de-ea79-4efa-8510-9ef9c934698d",
   "metadata": {},
   "source": [
    "Сразу видно отличе в кол-ве наименования и адреса, это говорит о наличии сетевых заведений. "
   ]
  },
  {
   "cell_type": "code",
   "execution_count": 30,
   "id": "c2cffc9f-f399-484f-a278-dfdb35069b5b",
   "metadata": {},
   "outputs": [],
   "source": [
    "# Выгрузим библиотеку для работы с регулярными выражениями\n",
    "import re\n",
    "# Создадим функцию для приведения текста в нижний регистр и удаления лишних знаков препинания и пробелов\n",
    "def normalize_text(text):\n",
    "    if not isinstance(text, str):\n",
    "        return text\n",
    "    text = text.lower()\n",
    "    text = re.sub(r'[^\\w\\s]', '', text.strip())\n",
    "    return text\n",
    "\n",
    "# Применяем к столбцам с текстом\n",
    "df['name'] = df_i['name'].apply(normalize_text)\n",
    "df['address'] = df_i['address'].apply(normalize_text)"
   ]
  },
  {
   "cell_type": "code",
   "execution_count": 31,
   "id": "e6abe50f-a822-4006-ae93-87ee9cf2a372",
   "metadata": {},
   "outputs": [
    {
     "data": {
      "text/plain": [
       "5498"
      ]
     },
     "metadata": {},
     "output_type": "display_data"
    },
    {
     "data": {
      "text/plain": [
       "5751"
      ]
     },
     "metadata": {},
     "output_type": "display_data"
    }
   ],
   "source": [
    "# Снова посчитаем количество уникальных значений в наименовании заведений\n",
    "display(df['name'].nunique())\n",
    "display(df['address'].nunique())"
   ]
  },
  {
   "cell_type": "markdown",
   "id": "e9ae6b30-1826-4211-a2d4-76d4c35b6d91",
   "metadata": {},
   "source": [
    "Убрали 116 что чуть больше 2% неявных дубликатов в столбце 'name' преобразовав наименование заведений и всего 2 строчки адреса, но даже маленькие результаты делают наши данные чище 😀"
   ]
  },
  {
   "cell_type": "markdown",
   "id": "e4de213b-40fd-4f99-95e0-354a14f03da4",
   "metadata": {},
   "source": [
    "Т.к. название заведения и его адрес - дожны быть уникальными, потому что не может быть 2 одинаковых заведений по 1 адресу, то следует проверить на неявные дубликаты объеденим эти 2 столбца"
   ]
  },
  {
   "cell_type": "code",
   "execution_count": 32,
   "id": "471c43f9-c991-4880-9ea8-ea99f88205e0",
   "metadata": {},
   "outputs": [
    {
     "data": {
      "text/html": [
       "<div>\n",
       "<style scoped>\n",
       "    .dataframe tbody tr th:only-of-type {\n",
       "        vertical-align: middle;\n",
       "    }\n",
       "\n",
       "    .dataframe tbody tr th {\n",
       "        vertical-align: top;\n",
       "    }\n",
       "\n",
       "    .dataframe thead th {\n",
       "        text-align: right;\n",
       "    }\n",
       "</style>\n",
       "<table border=\"1\" class=\"dataframe\">\n",
       "  <thead>\n",
       "    <tr style=\"text-align: right;\">\n",
       "      <th></th>\n",
       "      <th>name</th>\n",
       "      <th>address</th>\n",
       "      <th>count</th>\n",
       "    </tr>\n",
       "  </thead>\n",
       "  <tbody>\n",
       "    <tr>\n",
       "      <th>1453</th>\n",
       "      <td>more poke</td>\n",
       "      <td>москва волоколамское шоссе 11 стр 2</td>\n",
       "      <td>2</td>\n",
       "    </tr>\n",
       "    <tr>\n",
       "      <th>3045</th>\n",
       "      <td>в парке вкуснее</td>\n",
       "      <td>москва северный административный округ район л...</td>\n",
       "      <td>2</td>\n",
       "    </tr>\n",
       "    <tr>\n",
       "      <th>4249</th>\n",
       "      <td>кафе</td>\n",
       "      <td>москва парк ангарские пруды</td>\n",
       "      <td>2</td>\n",
       "    </tr>\n",
       "    <tr>\n",
       "      <th>6194</th>\n",
       "      <td>раковарня клешни и хвосты</td>\n",
       "      <td>москва проспект мира 118</td>\n",
       "      <td>2</td>\n",
       "    </tr>\n",
       "    <tr>\n",
       "      <th>7483</th>\n",
       "      <td>хлеб да выпечка</td>\n",
       "      <td>москва ярцевская улица 19</td>\n",
       "      <td>2</td>\n",
       "    </tr>\n",
       "  </tbody>\n",
       "</table>\n",
       "</div>"
      ],
      "text/plain": [
       "                           name  \\\n",
       "1453                  more poke   \n",
       "3045            в парке вкуснее   \n",
       "4249                       кафе   \n",
       "6194  раковарня клешни и хвосты   \n",
       "7483            хлеб да выпечка   \n",
       "\n",
       "                                                address  count  \n",
       "1453                москва волоколамское шоссе 11 стр 2      2  \n",
       "3045  москва северный административный округ район л...      2  \n",
       "4249                        москва парк ангарские пруды      2  \n",
       "6194                           москва проспект мира 118      2  \n",
       "7483                          москва ярцевская улица 19      2  "
      ]
     },
     "metadata": {},
     "output_type": "display_data"
    }
   ],
   "source": [
    "potential_duplicates = df.groupby(['name', 'address']).size().reset_index(name='count')\n",
    "duplicates = potential_duplicates[potential_duplicates['count'] > 1]\n",
    "display(duplicates)"
   ]
  },
  {
   "cell_type": "markdown",
   "id": "e7989ed7-7001-4e1c-a4fb-17df49beed1a",
   "metadata": {},
   "source": [
    "Вот и нашли еще 5 неявных дубликатов."
   ]
  },
  {
   "cell_type": "code",
   "execution_count": 33,
   "id": "8a089988-8258-42e0-bd0c-13c20eab84cc",
   "metadata": {},
   "outputs": [
    {
     "name": "stdout",
     "output_type": "stream",
     "text": [
      "Было строк: 8406\n",
      "Стало строк: 8401\n",
      "Удалено дубликатов: 5\n"
     ]
    }
   ],
   "source": [
    "# Удаляем дубликаты\n",
    "df = df.drop_duplicates(subset=['name', 'address'], keep='first')\n",
    "\n",
    "# Проверим результат\n",
    "print(f\"Было строк: {len(temp)}\")\n",
    "print(f\"Стало строк: {len(df)}\")\n",
    "print(f\"Удалено дубликатов: {len(temp) - len(df)}\")"
   ]
  },
  {
   "cell_type": "markdown",
   "id": "24a06458-62e9-449d-9a6e-8526c19f3991",
   "metadata": {},
   "source": [
    "Проверим неявные дубликаты по `id` этот столбец должен иметь уникальное значение:"
   ]
  },
  {
   "cell_type": "code",
   "execution_count": 34,
   "id": "8392e693-770d-4fad-8617-418b0fd48dff",
   "metadata": {},
   "outputs": [
    {
     "data": {
      "text/plain": [
       "0"
      ]
     },
     "execution_count": 34,
     "metadata": {},
     "output_type": "execute_result"
    }
   ],
   "source": [
    "# Проверяем неявные дубликаты в датафрейме\n",
    "df.duplicated(subset=['id']).sum()"
   ]
  },
  {
   "cell_type": "markdown",
   "id": "71e835af-ee35-44e6-8a49-ee744d671d60",
   "metadata": {},
   "source": [
    "Мы проверили данные на явные и неявные дубликаты. Явных дубликатов не обнаружено, убрали 2% неявных дубликатов в датафрейме в столбце `name` приведя наименование заведений к нижнему регистру и удалив лишние пробелы и знаки препинания. А так же нашли неявные дубликати в связке наименования заведения + адрес и удалили 5 неполных дубликатов, что составило всего 0,06%. И датафрейм сократился до 8401 строки"
   ]
  },
  {
   "cell_type": "markdown",
   "id": "f550fbfd-15dc-495f-a04c-f450e9350411",
   "metadata": {},
   "source": [
    "### 2.4. Добавляем новый столбец is_24_7"
   ]
  },
  {
   "cell_type": "markdown",
   "id": "d10785bc-4b0c-414a-9e65-259246159787",
   "metadata": {},
   "source": [
    "Создадим новый столбец `is_24_7` с обозначением того, что заведение работает ежедневно и круглосуточно, то есть 24/7:\n",
    "- логическое значение `True` — если заведение работает ежедневно и круглосуточно;\n",
    "- логическое значение `False` — в противоположном случае."
   ]
  },
  {
   "cell_type": "markdown",
   "id": "97138fd3-fbbd-4535-96ca-bcba4933ceb3",
   "metadata": {},
   "source": [
    "Используем метод `str.contains()` для поиска подстрок или шаблонов в текстовых данных."
   ]
  },
  {
   "cell_type": "code",
   "execution_count": 35,
   "id": "824babca-7150-45c0-870d-bedb78febdb4",
   "metadata": {},
   "outputs": [
    {
     "data": {
      "text/plain": [
       "False    7136\n",
       "True      730\n",
       "Name: is_24_7, dtype: int64"
      ]
     },
     "execution_count": 35,
     "metadata": {},
     "output_type": "execute_result"
    }
   ],
   "source": [
    "# Создаем новый столбец is_24_7\n",
    "df['is_24_7'] = df['hours'].str.contains(r'ежедневно, круглосуточно', case=False, regex=True)\n",
    "\n",
    "df['is_24_7'].value_counts()"
   ]
  },
  {
   "cell_type": "code",
   "execution_count": 36,
   "id": "5bc782e6",
   "metadata": {},
   "outputs": [
    {
     "name": "stdout",
     "output_type": "stream",
     "text": [
      " Количество не работающих ежедневно и круглосуточно 7671 \n",
      " Количество работающих ежедневно и круглосуточно 730 \n",
      "\n",
      "Количество категорий полученное в проекте:\n"
     ]
    },
    {
     "data": {
      "text/plain": [
       "False    7136\n",
       "True      730\n",
       "Name: is_24_7, dtype: int64"
      ]
     },
     "execution_count": 36,
     "metadata": {},
     "output_type": "execute_result"
    }
   ],
   "source": [
    "# Комментарий ревьюера 0\n",
    "# Проверим правильность категоризации\n",
    "tmp0, col1 = df.copy(), 'is_24_7'\n",
    "a1 = len(tmp0[tmp0.hours != 'ежедневно, круглосуточно'])\n",
    "a2 = len(tmp0[tmp0.hours == 'ежедневно, круглосуточно'])\n",
    "\n",
    "print(\" Количество не работающих ежедневно и круглосуточно\", a1,\n",
    "      '\\n', \"Количество работающих ежедневно и круглосуточно\", a2,'\\n')\n",
    "print(\"Количество категорий полученное в проекте:\")\n",
    "tmp0[col1].value_counts()"
   ]
  },
  {
   "cell_type": "markdown",
   "id": "6ee2b0cc-d5ce-4960-8107-c6203ef36310",
   "metadata": {},
   "source": [
    "730 заведения, которые работают круглосуточно."
   ]
  },
  {
   "cell_type": "code",
   "execution_count": 37,
   "id": "e5da9712",
   "metadata": {},
   "outputs": [
    {
     "name": "stdout",
     "output_type": "stream",
     "text": [
      " Было строк в исходном датасете 8406 \n",
      " Осталось строк в датасете после обработки 8401 \n",
      " Удалено строк в датасете после обработки 5 \n",
      " Процент потерь 0.06\n"
     ]
    }
   ],
   "source": [
    "# Комментарий ревьюера 0\n",
    "# Проверим сколько удалено строк датасета\n",
    "a, b = len(temp), len(df)\n",
    "print(\" Было строк в исходном датасете\", a,\n",
    "      '\\n', \"Осталось строк в датасете после обработки\", b,\n",
    "      '\\n', \"Удалено строк в датасете после обработки\", a-b,\n",
    "      '\\n', \"Процент потерь\", round((a-b)/a*100, 2))"
   ]
  },
  {
   "cell_type": "markdown",
   "id": "fa045a02-6054-4eae-86c8-1e558ee39d41",
   "metadata": {},
   "source": [
    "### 2.5. Промежуточные выводы после предобработки\n",
    "\n",
    "На этом предобработка завершена. \n",
    "\n",
    "В результате предобработки данных были выполнены следующие действия:\n",
    "\n",
    "- Мы объединили датафрейм о заведениях общественного питания `rest_info.csv` и датафрейм о среднем чеке в заведениях общественного питания `rest_price.csv` использовав левое присоединение, что бы сохранить все данные о заведении для дальнейшего анализа.\n",
    "- После объединения датафреймой мы получили почти 25% пропусков всех данных. Все пропуски мы оставили без изменений что бы не исказить результаты исследования;\n",
    "- Скорректировали значения по столбцу `district` сократив наименование на аббревиатуры по административным районам Москвы для лучшей читаемости;\n",
    "- Проверили данные на неявные дубликаты в столбце `name` и нашли 2% преобразовав наименование заведений. Так же обнаружили 5 строк (0,06%) неаявных дубликатов в свяке наименование + адрес и удалилии эти данные из датасета;\n",
    "- Проверили данные на явные дубликаты - их в данных нет;\n",
    "- Добавили новый столбец `is_24_7` в датафрейм который показывает работает заведение круглосуточно или нет. Столбец имеет будевое значение, если `True` — если заведение работает ежедневно и круглосуточно `False` — в противоположном случае;\n",
    "- Всего в датафрейме осталос 8401 строк для дальнейшего анализа. А было очищено 0,06% данных\n",
    "\n",
    "---  \n"
   ]
  },
  {
   "cell_type": "markdown",
   "id": "d50f7981-e3db-4f30-a61a-a7ea86b986c2",
   "metadata": {},
   "source": [
    "## 3. Исследовательский анализ данных"
   ]
  },
  {
   "cell_type": "markdown",
   "id": "07120f68-95a2-4215-b674-97a7aa79b1c9",
   "metadata": {},
   "source": [
    "### 3.1. Категории заведений\n",
    "\n",
    "Начнём с категории заведений. Рассмотрим какие категории заведений представлены в данных? Исследуем количество объектов общественного питания по каждой категории. Для этого построим столбчатую диаграмму, которая показывает сравнение количественных значений между категориями"
   ]
  },
  {
   "cell_type": "code",
   "execution_count": 38,
   "id": "5b7614ca-4101-4ab6-8c09-bae006c4dd58",
   "metadata": {},
   "outputs": [
    {
     "data": {
      "image/png": "[encoded data removed]",
      "text/plain": [
       "<Figure size 504x216 with 1 Axes>"
      ]
     },
     "metadata": {
      "needs_background": "light"
     },
     "output_type": "display_data"
    }
   ],
   "source": [
    "# Создаём контейнер графика matplotlib и задаём его размер\n",
    "plt.figure(figsize=(7, 3))\n",
    "\n",
    "# Строим столбчатую диаграмму с использованием plot(kind='bar')\n",
    "df['category'].value_counts().plot(kind = 'bar',\n",
    "                                   rot = 45,\n",
    "                                  legend = False,\n",
    "                                  title = f'Распределение заведений по категориям',\n",
    "                                  xlabel = 'Категория заведения', \n",
    "                                  ylabel = 'Количество')\n",
    "\n",
    "# Добавляем сетку графика\n",
    "plt.grid(axis='y', linestyle='--', alpha=0.7)\n",
    "\n",
    "# Выводим график\n",
    "plt.show()"
   ]
  },
  {
   "cell_type": "code",
   "execution_count": 39,
   "id": "8a3034f1-a6f0-46ca-926f-e10a71686491",
   "metadata": {},
   "outputs": [
    {
     "data": {
      "text/html": [
       "<style  type=\"text/css\" >\n",
       "#T_4feca_row0_col0,#T_4feca_row0_col1{\n",
       "            background-color:  #b40426;\n",
       "            color:  #f1f1f1;\n",
       "        }#T_4feca_row1_col0,#T_4feca_row1_col1{\n",
       "            background-color:  #e57058;\n",
       "            color:  #000000;\n",
       "        }#T_4feca_row2_col0,#T_4feca_row2_col1{\n",
       "            background-color:  #e8d6cc;\n",
       "            color:  #000000;\n",
       "        }#T_4feca_row3_col0,#T_4feca_row3_col1{\n",
       "            background-color:  #89acfd;\n",
       "            color:  #000000;\n",
       "        }#T_4feca_row4_col0,#T_4feca_row4_col1{\n",
       "            background-color:  #7396f5;\n",
       "            color:  #000000;\n",
       "        }#T_4feca_row5_col0{\n",
       "            background-color:  #6e90f2;\n",
       "            color:  #000000;\n",
       "        }#T_4feca_row5_col1{\n",
       "            background-color:  #6f92f3;\n",
       "            color:  #000000;\n",
       "        }#T_4feca_row6_col0,#T_4feca_row6_col1{\n",
       "            background-color:  #4358cb;\n",
       "            color:  #f1f1f1;\n",
       "        }#T_4feca_row7_col0,#T_4feca_row7_col1{\n",
       "            background-color:  #3b4cc0;\n",
       "            color:  #f1f1f1;\n",
       "        }</style><table id=\"T_4feca_\" ><thead>    <tr>        <th class=\"blank level0\" ></th>        <th class=\"col_heading level0 col0\" >Количество</th>        <th class=\"col_heading level0 col1\" >Доля (%)</th>    </tr></thead><tbody>\n",
       "                <tr>\n",
       "                        <th id=\"T_4feca_level0_row0\" class=\"row_heading level0 row0\" >кафе</th>\n",
       "                        <td id=\"T_4feca_row0_col0\" class=\"data row0 col0\" >2376.0</td>\n",
       "                        <td id=\"T_4feca_row0_col1\" class=\"data row0 col1\" >28.3</td>\n",
       "            </tr>\n",
       "            <tr>\n",
       "                        <th id=\"T_4feca_level0_row1\" class=\"row_heading level0 row1\" >ресторан</th>\n",
       "                        <td id=\"T_4feca_row1_col0\" class=\"data row1 col0\" >2042.0</td>\n",
       "                        <td id=\"T_4feca_row1_col1\" class=\"data row1 col1\" >24.3</td>\n",
       "            </tr>\n",
       "            <tr>\n",
       "                        <th id=\"T_4feca_level0_row2\" class=\"row_heading level0 row2\" >кофейня</th>\n",
       "                        <td id=\"T_4feca_row2_col0\" class=\"data row2 col0\" >1412.0</td>\n",
       "                        <td id=\"T_4feca_row2_col1\" class=\"data row2 col1\" >16.8</td>\n",
       "            </tr>\n",
       "            <tr>\n",
       "                        <th id=\"T_4feca_level0_row3\" class=\"row_heading level0 row3\" >бар,паб</th>\n",
       "                        <td id=\"T_4feca_row3_col0\" class=\"data row3 col0\" >764.0</td>\n",
       "                        <td id=\"T_4feca_row3_col1\" class=\"data row3 col1\" >9.1</td>\n",
       "            </tr>\n",
       "            <tr>\n",
       "                        <th id=\"T_4feca_level0_row4\" class=\"row_heading level0 row4\" >пиццерия</th>\n",
       "                        <td id=\"T_4feca_row4_col0\" class=\"data row4 col0\" >633.0</td>\n",
       "                        <td id=\"T_4feca_row4_col1\" class=\"data row4 col1\" >7.5</td>\n",
       "            </tr>\n",
       "            <tr>\n",
       "                        <th id=\"T_4feca_level0_row5\" class=\"row_heading level0 row5\" >быстрое питание</th>\n",
       "                        <td id=\"T_4feca_row5_col0\" class=\"data row5 col0\" >603.0</td>\n",
       "                        <td id=\"T_4feca_row5_col1\" class=\"data row5 col1\" >7.2</td>\n",
       "            </tr>\n",
       "            <tr>\n",
       "                        <th id=\"T_4feca_level0_row6\" class=\"row_heading level0 row6\" >столовая</th>\n",
       "                        <td id=\"T_4feca_row6_col0\" class=\"data row6 col0\" >315.0</td>\n",
       "                        <td id=\"T_4feca_row6_col1\" class=\"data row6 col1\" >3.7</td>\n",
       "            </tr>\n",
       "            <tr>\n",
       "                        <th id=\"T_4feca_level0_row7\" class=\"row_heading level0 row7\" >булочная</th>\n",
       "                        <td id=\"T_4feca_row7_col0\" class=\"data row7 col0\" >256.0</td>\n",
       "                        <td id=\"T_4feca_row7_col1\" class=\"data row7 col1\" >3.0</td>\n",
       "            </tr>\n",
       "    </tbody></table>"
      ],
      "text/plain": [
       "<pandas.io.formats.style.Styler at 0x7f7f40980f40>"
      ]
     },
     "execution_count": 39,
     "metadata": {},
     "output_type": "execute_result"
    }
   ],
   "source": [
    "# Считаем проценты\n",
    "counts_with_percent = (df['category'].value_counts(normalize=True) * 100).round(1)\n",
    "\n",
    "# Объединяем в одну таблицу\n",
    "result_table = pd.DataFrame({\n",
    "    'Количество': df['category'].value_counts(),\n",
    "    'Доля (%)': counts_with_percent\n",
    "})\n",
    "result_table.style.background_gradient(cmap='coolwarm', axis=0).format(\"{:.1f}\")"
   ]
  },
  {
   "cell_type": "markdown",
   "id": "48607ed9-e5a6-4df3-a76d-90d768360a25",
   "metadata": {},
   "source": [
    "<div class=\"alert alert-lavender\" style=\"background-color: #e6e6fa; color: #000;\"> По графику и таблице видно что кафе и рестораны составляют более 50% всех заведений, кофейни тоже популярны они занимает 3 место с 16,8% рынка. Бары, пабы занимают 9% рынка. Пиццерия и быстрое питание занимают 7,5%рынка, менее восстребованые столовые и булоччные у них 3% рынка. При открытии заведении стоит учитывать этот факт. </div>"
   ]
  },
  {
   "cell_type": "markdown",
   "id": "55776523-0709-4c26-8937-34ea013edcf6",
   "metadata": {},
   "source": [
    "### 3.2. Административные районы Москвы\n",
    "\n",
    "Рассмотри теперь административные районы Москвы и исследуем распределение количества заведений по административным районам Москвы, а также отдельно распределение заведений каждой категории в Центральном административном округе Москвы."
   ]
  },
  {
   "cell_type": "code",
   "execution_count": 40,
   "id": "a3f40265-68f6-47d7-b7a3-9bca4a6d9fa8",
   "metadata": {},
   "outputs": [
    {
     "data": {
      "image/png": "[encoded data removed]",
      "text/plain": [
       "<Figure size 504x216 with 1 Axes>"
      ]
     },
     "metadata": {
      "needs_background": "light"
     },
     "output_type": "display_data"
    }
   ],
   "source": [
    "# Создаём контейнер графика matplotlib и задаём его размер\n",
    "plt.figure(figsize=(7, 3))\n",
    "\n",
    "# Строим столбчатую диаграмму с использованием plot(kind='bar')\n",
    "df['district'].value_counts().plot(kind = 'barh',\n",
    "                                   rot = 0,\n",
    "                                  legend = False,\n",
    "                                  title = f'Распределение заведений по административным округам Москвы',\n",
    "                                  xlabel = 'Количество заведений', \n",
    "                                  ylabel = 'Округ Москвы')\n",
    "\n",
    "# Добавляем сетку графика\n",
    "plt.grid(axis='x', linestyle='--', alpha=0.7)\n",
    "\n",
    "# Выводим график\n",
    "plt.show()"
   ]
  },
  {
   "cell_type": "code",
   "execution_count": 41,
   "id": "71dbfbcd-1ef6-4c4c-95c9-c201a7cb7401",
   "metadata": {},
   "outputs": [
    {
     "data": {
      "text/html": [
       "<style  type=\"text/css\" >\n",
       "#T_ed523_row0_col0,#T_ed523_row0_col1{\n",
       "            background-color:  #b40426;\n",
       "            color:  #f1f1f1;\n",
       "        }#T_ed523_row1_col0,#T_ed523_row1_col1{\n",
       "            background-color:  #93b5fe;\n",
       "            color:  #000000;\n",
       "        }#T_ed523_row2_col0,#T_ed523_row3_col0{\n",
       "            background-color:  #92b4fe;\n",
       "            color:  #000000;\n",
       "        }#T_ed523_row2_col1,#T_ed523_row3_col1{\n",
       "            background-color:  #90b2fe;\n",
       "            color:  #000000;\n",
       "        }#T_ed523_row4_col0,#T_ed523_row4_col1{\n",
       "            background-color:  #89acfd;\n",
       "            color:  #000000;\n",
       "        }#T_ed523_row5_col0,#T_ed523_row5_col1{\n",
       "            background-color:  #80a3fa;\n",
       "            color:  #000000;\n",
       "        }#T_ed523_row6_col0,#T_ed523_row6_col1{\n",
       "            background-color:  #6f92f3;\n",
       "            color:  #000000;\n",
       "        }#T_ed523_row7_col0,#T_ed523_row7_col1{\n",
       "            background-color:  #6e90f2;\n",
       "            color:  #000000;\n",
       "        }#T_ed523_row8_col0,#T_ed523_row8_col1{\n",
       "            background-color:  #3b4cc0;\n",
       "            color:  #f1f1f1;\n",
       "        }</style><table id=\"T_ed523_\" ><thead>    <tr>        <th class=\"blank level0\" ></th>        <th class=\"col_heading level0 col0\" >Количество</th>        <th class=\"col_heading level0 col1\" >Доля (%)</th>    </tr></thead><tbody>\n",
       "                <tr>\n",
       "                        <th id=\"T_ed523_level0_row0\" class=\"row_heading level0 row0\" >ЦАО</th>\n",
       "                        <td id=\"T_ed523_row0_col0\" class=\"data row0 col0\" >2242.0</td>\n",
       "                        <td id=\"T_ed523_row0_col1\" class=\"data row0 col1\" >26.7</td>\n",
       "            </tr>\n",
       "            <tr>\n",
       "                        <th id=\"T_ed523_level0_row1\" class=\"row_heading level0 row1\" >CАО</th>\n",
       "                        <td id=\"T_ed523_row1_col0\" class=\"data row1 col0\" >897.0</td>\n",
       "                        <td id=\"T_ed523_row1_col1\" class=\"data row1 col1\" >10.7</td>\n",
       "            </tr>\n",
       "            <tr>\n",
       "                        <th id=\"T_ed523_level0_row2\" class=\"row_heading level0 row2\" >ЮАО</th>\n",
       "                        <td id=\"T_ed523_row2_col0\" class=\"data row2 col0\" >892.0</td>\n",
       "                        <td id=\"T_ed523_row2_col1\" class=\"data row2 col1\" >10.6</td>\n",
       "            </tr>\n",
       "            <tr>\n",
       "                        <th id=\"T_ed523_level0_row3\" class=\"row_heading level0 row3\" >СВАО</th>\n",
       "                        <td id=\"T_ed523_row3_col0\" class=\"data row3 col0\" >890.0</td>\n",
       "                        <td id=\"T_ed523_row3_col1\" class=\"data row3 col1\" >10.6</td>\n",
       "            </tr>\n",
       "            <tr>\n",
       "                        <th id=\"T_ed523_level0_row4\" class=\"row_heading level0 row4\" >ЗАО</th>\n",
       "                        <td id=\"T_ed523_row4_col0\" class=\"data row4 col0\" >850.0</td>\n",
       "                        <td id=\"T_ed523_row4_col1\" class=\"data row4 col1\" >10.1</td>\n",
       "            </tr>\n",
       "            <tr>\n",
       "                        <th id=\"T_ed523_level0_row5\" class=\"row_heading level0 row5\" >ВАО</th>\n",
       "                        <td id=\"T_ed523_row5_col0\" class=\"data row5 col0\" >798.0</td>\n",
       "                        <td id=\"T_ed523_row5_col1\" class=\"data row5 col1\" >9.5</td>\n",
       "            </tr>\n",
       "            <tr>\n",
       "                        <th id=\"T_ed523_level0_row6\" class=\"row_heading level0 row6\" >ЮВАО</th>\n",
       "                        <td id=\"T_ed523_row6_col0\" class=\"data row6 col0\" >714.0</td>\n",
       "                        <td id=\"T_ed523_row6_col1\" class=\"data row6 col1\" >8.5</td>\n",
       "            </tr>\n",
       "            <tr>\n",
       "                        <th id=\"T_ed523_level0_row7\" class=\"row_heading level0 row7\" >ЮЗАО</th>\n",
       "                        <td id=\"T_ed523_row7_col0\" class=\"data row7 col0\" >709.0</td>\n",
       "                        <td id=\"T_ed523_row7_col1\" class=\"data row7 col1\" >8.4</td>\n",
       "            </tr>\n",
       "            <tr>\n",
       "                        <th id=\"T_ed523_level0_row8\" class=\"row_heading level0 row8\" >СЗАО</th>\n",
       "                        <td id=\"T_ed523_row8_col0\" class=\"data row8 col0\" >409.0</td>\n",
       "                        <td id=\"T_ed523_row8_col1\" class=\"data row8 col1\" >4.9</td>\n",
       "            </tr>\n",
       "    </tbody></table>"
      ],
      "text/plain": [
       "<pandas.io.formats.style.Styler at 0x7f7f40980520>"
      ]
     },
     "execution_count": 41,
     "metadata": {},
     "output_type": "execute_result"
    }
   ],
   "source": [
    "# Считаем проценты\n",
    "counts_with_percent = (df['district'].value_counts(normalize=True) * 100).round(1)\n",
    "\n",
    "# Объединяем в одну таблицу\n",
    "result_table = pd.DataFrame({\n",
    "    'Количество': df['district'].value_counts(),\n",
    "    'Доля (%)': counts_with_percent\n",
    "})\n",
    "result_table.style.background_gradient(cmap='coolwarm', axis=0).format(\"{:.1f}\")"
   ]
  },
  {
   "cell_type": "markdown",
   "id": "2bd209e7-2ece-4993-b4ba-a0a1c416f93e",
   "metadata": {},
   "source": [
    "<div class=\"alert alert-lavender\" style=\"background-color: #e6e6fa; color: #000;\"> Лидер по кол-ву заведений конечно же Центральный округ, в нем располагается 2242 заведения что занимает 26,7%. Второе место с долей чуть больше 10% делят сразу 4 округа это - Северный, Южный, Свеверо-Восточный и Западный. Меньше всего заведений в Северо-Западном округе всего 409 с долей 4,9% </div>"
   ]
  },
  {
   "cell_type": "markdown",
   "id": "aec33162-9efc-43d6-86ed-ebb838ed8fb6",
   "metadata": {},
   "source": [
    "Рассмотрим теперь отдельно Центрально административный округ Москвы и посмотрим какие заведения там преобладают. Для этого построим линейчатую диаграмму"
   ]
  },
  {
   "cell_type": "code",
   "execution_count": 42,
   "id": "75a1b395-e4a7-4862-bb88-059728d397f7",
   "metadata": {},
   "outputs": [
    {
     "data": {
      "image/png": "[encoded data removed]",
      "text/plain": [
       "<Figure size 504x288 with 1 Axes>"
      ]
     },
     "metadata": {
      "needs_background": "light"
     },
     "output_type": "display_data"
    }
   ],
   "source": [
    "# Отфильтруем датафрейм по административному району Москвы\n",
    "cao_df = df[df['district'] == 'ЦАО']\n",
    "\n",
    "# Создаём контейнер графика matplotlib и задаём его размер\n",
    "plt.figure(figsize=(7, 4))\n",
    "\n",
    "# Строим линейчатую диаграмму с использованием plot(kind='barh')\n",
    "cao_df['category'].value_counts().sort_values(ascending=True).plot(kind = 'barh',\n",
    "                                   rot = 0,\n",
    "                                  legend = False,\n",
    "                                  title = f'Распределение категорий заведений в ЦАО',\n",
    "                                  xlabel = 'Количество заведений', \n",
    "                                  ylabel = 'Категория заведений')\n",
    "\n",
    "# Добавляем сетку графика\n",
    "plt.grid(axis='x', linestyle='--', alpha=0.7)\n",
    "\n",
    "# Выводим график\n",
    "plt.show()"
   ]
  },
  {
   "cell_type": "code",
   "execution_count": 43,
   "id": "f80d8ef4-bb57-46d2-b9b3-10fac2a1d080",
   "metadata": {},
   "outputs": [
    {
     "data": {
      "text/html": [
       "<style  type=\"text/css\" >\n",
       "#T_66888_row0_col0,#T_66888_row0_col1{\n",
       "            background-color:  #b40426;\n",
       "            color:  #f1f1f1;\n",
       "        }#T_66888_row1_col0,#T_66888_row1_col1{\n",
       "            background-color:  #f7b89c;\n",
       "            color:  #000000;\n",
       "        }#T_66888_row2_col0,#T_66888_row2_col1{\n",
       "            background-color:  #f3c8b2;\n",
       "            color:  #000000;\n",
       "        }#T_66888_row3_col0,#T_66888_row3_col1{\n",
       "            background-color:  #dedcdb;\n",
       "            color:  #000000;\n",
       "        }#T_66888_row4_col0{\n",
       "            background-color:  #5a78e4;\n",
       "            color:  #000000;\n",
       "        }#T_66888_row4_col1{\n",
       "            background-color:  #5977e3;\n",
       "            color:  #000000;\n",
       "        }#T_66888_row5_col0,#T_66888_row5_col1{\n",
       "            background-color:  #4c66d6;\n",
       "            color:  #000000;\n",
       "        }#T_66888_row6_col0,#T_66888_row6_col1{\n",
       "            background-color:  #4257c9;\n",
       "            color:  #f1f1f1;\n",
       "        }#T_66888_row7_col0,#T_66888_row7_col1{\n",
       "            background-color:  #3b4cc0;\n",
       "            color:  #f1f1f1;\n",
       "        }</style><table id=\"T_66888_\" ><thead>    <tr>        <th class=\"blank level0\" ></th>        <th class=\"col_heading level0 col0\" >Количество</th>        <th class=\"col_heading level0 col1\" >Доля (%)</th>    </tr></thead><tbody>\n",
       "                <tr>\n",
       "                        <th id=\"T_66888_level0_row0\" class=\"row_heading level0 row0\" >ресторан</th>\n",
       "                        <td id=\"T_66888_row0_col0\" class=\"data row0 col0\" >670.0</td>\n",
       "                        <td id=\"T_66888_row0_col1\" class=\"data row0 col1\" >29.9</td>\n",
       "            </tr>\n",
       "            <tr>\n",
       "                        <th id=\"T_66888_level0_row1\" class=\"row_heading level0 row1\" >кафе</th>\n",
       "                        <td id=\"T_66888_row1_col0\" class=\"data row1 col0\" >464.0</td>\n",
       "                        <td id=\"T_66888_row1_col1\" class=\"data row1 col1\" >20.7</td>\n",
       "            </tr>\n",
       "            <tr>\n",
       "                        <th id=\"T_66888_level0_row2\" class=\"row_heading level0 row2\" >кофейня</th>\n",
       "                        <td id=\"T_66888_row2_col0\" class=\"data row2 col0\" >428.0</td>\n",
       "                        <td id=\"T_66888_row2_col1\" class=\"data row2 col1\" >19.1</td>\n",
       "            </tr>\n",
       "            <tr>\n",
       "                        <th id=\"T_66888_level0_row3\" class=\"row_heading level0 row3\" >бар,паб</th>\n",
       "                        <td id=\"T_66888_row3_col0\" class=\"data row3 col0\" >364.0</td>\n",
       "                        <td id=\"T_66888_row3_col1\" class=\"data row3 col1\" >16.2</td>\n",
       "            </tr>\n",
       "            <tr>\n",
       "                        <th id=\"T_66888_level0_row4\" class=\"row_heading level0 row4\" >пиццерия</th>\n",
       "                        <td id=\"T_66888_row4_col0\" class=\"data row4 col0\" >113.0</td>\n",
       "                        <td id=\"T_66888_row4_col1\" class=\"data row4 col1\" >5.0</td>\n",
       "            </tr>\n",
       "            <tr>\n",
       "                        <th id=\"T_66888_level0_row5\" class=\"row_heading level0 row5\" >быстрое питание</th>\n",
       "                        <td id=\"T_66888_row5_col0\" class=\"data row5 col0\" >87.0</td>\n",
       "                        <td id=\"T_66888_row5_col1\" class=\"data row5 col1\" >3.9</td>\n",
       "            </tr>\n",
       "            <tr>\n",
       "                        <th id=\"T_66888_level0_row6\" class=\"row_heading level0 row6\" >столовая</th>\n",
       "                        <td id=\"T_66888_row6_col0\" class=\"data row6 col0\" >66.0</td>\n",
       "                        <td id=\"T_66888_row6_col1\" class=\"data row6 col1\" >2.9</td>\n",
       "            </tr>\n",
       "            <tr>\n",
       "                        <th id=\"T_66888_level0_row7\" class=\"row_heading level0 row7\" >булочная</th>\n",
       "                        <td id=\"T_66888_row7_col0\" class=\"data row7 col0\" >50.0</td>\n",
       "                        <td id=\"T_66888_row7_col1\" class=\"data row7 col1\" >2.2</td>\n",
       "            </tr>\n",
       "    </tbody></table>"
      ],
      "text/plain": [
       "<pandas.io.formats.style.Styler at 0x7f7f408188b0>"
      ]
     },
     "execution_count": 43,
     "metadata": {},
     "output_type": "execute_result"
    }
   ],
   "source": [
    "# Считаем проценты\n",
    "counts_with_percent = (cao_df['category'].value_counts(normalize=True) * 100).round(1)\n",
    "\n",
    "# Объединяем в одну таблицу\n",
    "result_table = pd.DataFrame({\n",
    "    'Количество': cao_df['category'].value_counts(),\n",
    "    'Доля (%)': counts_with_percent\n",
    "})\n",
    "result_table.style.background_gradient(cmap='coolwarm', axis=0).format(\"{:.1f}\")"
   ]
  },
  {
   "cell_type": "markdown",
   "id": "aaecabc0-f7b8-4615-bc3b-a371e5ff5922",
   "metadata": {},
   "source": [
    "<div class=\"alert alert-lavender\" style=\"background-color: #e6e6fa; color: #000;\"> Больше всего в ЦАО находится ресторанов их почти 30% от всех заведений в этом районе и 32% они занимают долю среди всех ресторанов Москвы. Так же популярны кафе и кофейни, что неудивительно ведь этот район самый насыщенный для прогулок и по посещению туристов, которые любят зайти куда-то перекусить или просто взять кофе с собой. Интересный факт что почти половина пабов и баров 47% - 364 заведения из 765 располагаются в ЦАО и занимают там 16% рынка. А вот такие категории заведений как: пиццерия, быстрое питание, столовая и булочная занимают малую долю около 14% всех заведений в этом округе, видимо не сильно они восстребованы в центре Москвы. </div>"
   ]
  },
  {
   "cell_type": "markdown",
   "id": "4c646e19-5cbb-4335-8c00-c0856e7d8d7f",
   "metadata": {},
   "source": [
    "### 3.3. Сетевые и несетевые заведения\n",
    "\n",
    "Рассмотри соотношение сетевых и несетевых заведений в целом по всем данным и в разрезе категорий заведения. На основе данных узнаем каких заведений больше — сетевых или несетевых? Какие категории заведений чаще являются сетевыми? "
   ]
  },
  {
   "cell_type": "markdown",
   "id": "c22e73e5-1e40-4b08-849c-ff21b7d88b22",
   "metadata": {},
   "source": [
    "Для начала построи круговую диаграмму и посмотреим распределение сетевых и несетвых заведений в общем по Москве"
   ]
  },
  {
   "cell_type": "code",
   "execution_count": 44,
   "id": "e645ba47-758c-4b1c-9f6a-5b76882b7d1d",
   "metadata": {},
   "outputs": [
    {
     "data": {
      "image/png": "[encoded data removed]",
      "text/plain": [
       "<Figure size 216x216 with 1 Axes>"
      ]
     },
     "metadata": {},
     "output_type": "display_data"
    },
    {
     "data": {
      "text/plain": [
       "Несетевые    5199\n",
       "Сетевые      3202\n",
       "Name: chain, dtype: int64"
      ]
     },
     "execution_count": 44,
     "metadata": {},
     "output_type": "execute_result"
    }
   ],
   "source": [
    "# Создаём контейнер графика matplotlib и задаём его размер\n",
    "plt.figure(figsize=(3, 3))\n",
    "\n",
    "# Строим круговую диаграмму с использованием plot(kind='pie')\n",
    "df['chain'].value_counts().plot(kind = 'pie',\n",
    "                                labels=None,\n",
    "                                title = f'Соотношение сетевых и несетевых заведений в Москве',\n",
    "                                autopct='%1.1f%%',  \n",
    "                                colors=['#3b4cc0', '#b40426'])\n",
    "\n",
    "# Настроим легенду и оси \n",
    "plt.legend([f'{label} ({count})' for label, count in zip(['Несетевые', 'Сетевые'], df['chain'].value_counts())],\n",
    "    title=\"Количество заведений\", loc='upper right', bbox_to_anchor=(1.7, 1))\n",
    "plt.ylabel('') \n",
    "plt.show()\n",
    "df['chain'].map({0: 'Несетевые', 1: 'Сетевые'}).value_counts()"
   ]
  },
  {
   "cell_type": "markdown",
   "id": "00583732-f25b-4147-8a4e-6b875a22bd43",
   "metadata": {},
   "source": [
    "<div class=\"alert alert-lavender\" style=\"background-color: #e6e6fa; color: #000;\">  Соотношение 2:1 создает здоровую конкуренцию между сетевыми и независимыми форматами. \n",
    "\n",
    "Несетевых заведений больше почти на 24% Высокий процент (62%) несетевых заведений указывают на развитую культуру малого предпринимательства в сфере общепита. Потребителям нравится уникальность заведений. Умеренное присутствие сетевых заведений (38%) - типичный показатель для крупных городов, почти каждое 3 заведение сетевое, что показывает значительные инвестиции в этот сегмент. </div>"
   ]
  },
  {
   "cell_type": "markdown",
   "id": "d2c14d26-82e5-4052-91a2-5a58eb3b3b49",
   "metadata": {},
   "source": [
    "Проверим какие категории заведений являются больше сетевыми а какие нет. Создадим сводную таблицу с кол-вом сетевых и не сетевых завдедений и долей сетевых заведений. "
   ]
  },
  {
   "cell_type": "code",
   "execution_count": 45,
   "id": "60b0f5a3-96c5-4c9d-8e5c-2a0d05bf619a",
   "metadata": {},
   "outputs": [
    {
     "data": {
      "text/html": [
       "<style  type=\"text/css\" >\n",
       "#T_94019_row0_col1,#T_94019_row6_col2{\n",
       "            background-color:  #3b4cc0;\n",
       "            color:  #f1f1f1;\n",
       "        }#T_94019_row0_col2{\n",
       "            background-color:  #5977e3;\n",
       "            color:  #000000;\n",
       "        }#T_94019_row1_col1{\n",
       "            background-color:  #6485ec;\n",
       "            color:  #000000;\n",
       "        }#T_94019_row1_col2{\n",
       "            background-color:  #afcafc;\n",
       "            color:  #000000;\n",
       "        }#T_94019_row2_col1{\n",
       "            background-color:  #bfd3f6;\n",
       "            color:  #000000;\n",
       "        }#T_94019_row2_col2{\n",
       "            background-color:  #d24b40;\n",
       "            color:  #f1f1f1;\n",
       "        }#T_94019_row3_col1{\n",
       "            background-color:  #7597f6;\n",
       "            color:  #000000;\n",
       "        }#T_94019_row3_col2{\n",
       "            background-color:  #7ea1fa;\n",
       "            color:  #000000;\n",
       "        }#T_94019_row4_col1{\n",
       "            background-color:  #ec7f63;\n",
       "            color:  #000000;\n",
       "        }#T_94019_row4_col2{\n",
       "            background-color:  #cd423b;\n",
       "            color:  #f1f1f1;\n",
       "        }#T_94019_row5_col1,#T_94019_row5_col2{\n",
       "            background-color:  #b40426;\n",
       "            color:  #f1f1f1;\n",
       "        }#T_94019_row6_col1{\n",
       "            background-color:  #5470de;\n",
       "            color:  #000000;\n",
       "        }#T_94019_row7_col1{\n",
       "            background-color:  #a9c6fd;\n",
       "            color:  #000000;\n",
       "        }#T_94019_row7_col2{\n",
       "            background-color:  #5e7de7;\n",
       "            color:  #000000;\n",
       "        }</style><table id=\"T_94019_\" ><thead>    <tr>        <th class=\"index_name level0\" >chain</th>        <th class=\"col_heading level0 col0\" >category</th>        <th class=\"col_heading level0 col1\" >Несетевые</th>        <th class=\"col_heading level0 col2\" >Сетевые</th>        <th class=\"col_heading level0 col3\" >Доля сетевых</th>    </tr></thead><tbody>\n",
       "                <tr>\n",
       "                        <th id=\"T_94019_level0_row0\" class=\"row_heading level0 row0\" >1</th>\n",
       "                        <td id=\"T_94019_row0_col0\" class=\"data row0 col0\" >булочная</td>\n",
       "                        <td id=\"T_94019_row0_col1\" class=\"data row0 col1\" >99</td>\n",
       "                        <td id=\"T_94019_row0_col2\" class=\"data row0 col2\" >157</td>\n",
       "                        <td id=\"T_94019_row0_col3\" class=\"data row0 col3\" >61.3%</td>\n",
       "            </tr>\n",
       "            <tr>\n",
       "                        <th id=\"T_94019_level0_row1\" class=\"row_heading level0 row1\" >5</th>\n",
       "                        <td id=\"T_94019_row1_col0\" class=\"data row1 col0\" >пиццерия</td>\n",
       "                        <td id=\"T_94019_row1_col1\" class=\"data row1 col1\" >303</td>\n",
       "                        <td id=\"T_94019_row1_col2\" class=\"data row1 col2\" >330</td>\n",
       "                        <td id=\"T_94019_row1_col3\" class=\"data row1 col3\" >52.1%</td>\n",
       "            </tr>\n",
       "            <tr>\n",
       "                        <th id=\"T_94019_level0_row2\" class=\"row_heading level0 row2\" >4</th>\n",
       "                        <td id=\"T_94019_row2_col0\" class=\"data row2 col0\" >кофейня</td>\n",
       "                        <td id=\"T_94019_row2_col1\" class=\"data row2 col1\" >693</td>\n",
       "                        <td id=\"T_94019_row2_col2\" class=\"data row2 col2\" >719</td>\n",
       "                        <td id=\"T_94019_row2_col3\" class=\"data row2 col3\" >50.9%</td>\n",
       "            </tr>\n",
       "            <tr>\n",
       "                        <th id=\"T_94019_level0_row3\" class=\"row_heading level0 row3\" >2</th>\n",
       "                        <td id=\"T_94019_row3_col0\" class=\"data row3 col0\" >быстрое питание</td>\n",
       "                        <td id=\"T_94019_row3_col1\" class=\"data row3 col1\" >371</td>\n",
       "                        <td id=\"T_94019_row3_col2\" class=\"data row3 col2\" >232</td>\n",
       "                        <td id=\"T_94019_row3_col3\" class=\"data row3 col3\" >38.5%</td>\n",
       "            </tr>\n",
       "            <tr>\n",
       "                        <th id=\"T_94019_level0_row4\" class=\"row_heading level0 row4\" >6</th>\n",
       "                        <td id=\"T_94019_row4_col0\" class=\"data row4 col0\" >ресторан</td>\n",
       "                        <td id=\"T_94019_row4_col1\" class=\"data row4 col1\" >1313</td>\n",
       "                        <td id=\"T_94019_row4_col2\" class=\"data row4 col2\" >729</td>\n",
       "                        <td id=\"T_94019_row4_col3\" class=\"data row4 col3\" >35.7%</td>\n",
       "            </tr>\n",
       "            <tr>\n",
       "                        <th id=\"T_94019_level0_row5\" class=\"row_heading level0 row5\" >3</th>\n",
       "                        <td id=\"T_94019_row5_col0\" class=\"data row5 col0\" >кафе</td>\n",
       "                        <td id=\"T_94019_row5_col1\" class=\"data row5 col1\" >1597</td>\n",
       "                        <td id=\"T_94019_row5_col2\" class=\"data row5 col2\" >779</td>\n",
       "                        <td id=\"T_94019_row5_col3\" class=\"data row5 col3\" >32.8%</td>\n",
       "            </tr>\n",
       "            <tr>\n",
       "                        <th id=\"T_94019_level0_row6\" class=\"row_heading level0 row6\" >7</th>\n",
       "                        <td id=\"T_94019_row6_col0\" class=\"data row6 col0\" >столовая</td>\n",
       "                        <td id=\"T_94019_row6_col1\" class=\"data row6 col1\" >227</td>\n",
       "                        <td id=\"T_94019_row6_col2\" class=\"data row6 col2\" >88</td>\n",
       "                        <td id=\"T_94019_row6_col3\" class=\"data row6 col3\" >27.9%</td>\n",
       "            </tr>\n",
       "            <tr>\n",
       "                        <th id=\"T_94019_level0_row7\" class=\"row_heading level0 row7\" >0</th>\n",
       "                        <td id=\"T_94019_row7_col0\" class=\"data row7 col0\" >бар,паб</td>\n",
       "                        <td id=\"T_94019_row7_col1\" class=\"data row7 col1\" >596</td>\n",
       "                        <td id=\"T_94019_row7_col2\" class=\"data row7 col2\" >168</td>\n",
       "                        <td id=\"T_94019_row7_col3\" class=\"data row7 col3\" >22.0%</td>\n",
       "            </tr>\n",
       "    </tbody></table>"
      ],
      "text/plain": [
       "<pandas.io.formats.style.Styler at 0x7f7f4087e220>"
      ]
     },
     "execution_count": 45,
     "metadata": {},
     "output_type": "execute_result"
    }
   ],
   "source": [
    "# Создаем сводную таблицу с количеством\n",
    "pivot = df.pivot_table(index = 'category', columns = 'chain', aggfunc = 'size').reset_index() \n",
    "\n",
    "# Переименовываем столбцы для ясности\n",
    "pivot = pivot.rename(columns={0: 'Несетевые', 1: 'Сетевые'})\n",
    "\n",
    "# Добавляем столбец с долей\n",
    "pivot['Доля сетевых'] = pivot['Сетевые'] / (pivot['Несетевые'] + pivot['Сетевые'])\n",
    "\n",
    "# Форматируем вывод\n",
    "pivot['Доля сетевых'] = pivot['Доля сетевых'].map('{:.1%}'.format)\n",
    "\n",
    "# Сортируем по доле сетевых заведений\n",
    "pivot.sort_values('Доля сетевых', ascending=False).style.background_gradient(cmap='coolwarm', axis=0)"
   ]
  },
  {
   "cell_type": "markdown",
   "id": "72f25adc-3546-4dc5-adf7-8ec613ceb744",
   "metadata": {},
   "source": [
    "Построим график по созданной таблице"
   ]
  },
  {
   "cell_type": "code",
   "execution_count": 46,
   "id": "5c6d82be-278c-493c-bb72-7fa1a6d068bc",
   "metadata": {},
   "outputs": [
    {
     "data": {
      "image/png": "[encoded data removed]",
      "text/plain": [
       "<Figure size 576x216 with 1 Axes>"
      ]
     },
     "metadata": {
      "needs_background": "light"
     },
     "output_type": "display_data"
    }
   ],
   "source": [
    "# Создаём контейнер графика matplotlib и задаём его размер\n",
    "plt.figure(figsize=(8, 3))\n",
    "\n",
    "# Строим столбчатуб диаграмму\n",
    "df.groupby('category')['chain'].mean().mul(100).sort_values(ascending=False).plot(kind='bar', \n",
    "                                                                                  width=0.8, \n",
    "                                                                                  rot = 30,\n",
    "                                                                                 title = f'Доля сетевых заведений по категориям',\n",
    "                                                                                 ylabel = 'Доля сетевых заведений (%)', \n",
    "                                                                                 xlabel = 'Категория заведения')\n",
    "\n",
    "# Добавляем сетку графика\n",
    "plt.grid(axis='y', linestyle='--', alpha=0.7)"
   ]
  },
  {
   "cell_type": "markdown",
   "id": "704a78da-a8d7-4c81-a0ec-582cabedb9ce",
   "metadata": {},
   "source": [
    "<div class=\"alert alert-lavender\" style=\"background-color: #e6e6fa; color: #000;\"> Больше всего сетевых заведений это булочные - их доля составляет 61%, второе место делят пиццерия (52%) и кофейня (51%). По этим трем категориям сетевые заведения преобладают над несетевыми, что говорит о том что люди предопочитают уже более популярные и известные заведения, а так же бизнес модель этих заведений проще маштабировать в сетевой формат. Середину занимают заведения с категориями: быстрое питание (38%) рестораны (35%) и кафе (32%) тут уже соотноешение несетевых к сетевым примерно 3:1 что говорит о здоровой конкуренции между частным предпринимательством и сетей. Меньше всего сетевых заведений по категориям столовая (28%) и паб, бар (22%) по столовым можно сказать что тут играет локальная специфика, часто они располагаются в общественных места(больница, завод) и сложно этот формат маштабировать в сетевой, а бары часто посетители ценят аутентичную атмосферу и индивидуальный стиль заведений, что объясняет низкую долю сетевых заведений. </div>"
   ]
  },
  {
   "cell_type": "markdown",
   "id": "95cfa570-0ecb-48e5-98a1-6edae66e57de",
   "metadata": {},
   "source": [
    "### 3.4. Количество посадочных мест"
   ]
  },
  {
   "cell_type": "markdown",
   "id": "22104b26-5d54-4ddc-897a-96d72b3c7664",
   "metadata": {},
   "source": [
    "Исследуем количество посадочных мест в заведениях. Посмотрим встречаются ли в данных аномальные значения или выбросы? Посмотрим для каждой категории заведений наиболее типичное для него количество посадочных мест."
   ]
  },
  {
   "cell_type": "markdown",
   "id": "dc4faa73-8b28-451d-9b51-5b1bd497f2c4",
   "metadata": {},
   "source": [
    "При знакомстве с данными вначале стоит оценить статические показатели. Для этого используем метод `describe()`:"
   ]
  },
  {
   "cell_type": "code",
   "execution_count": 47,
   "id": "38da6958-1399-4166-804e-e0df4cadfeb6",
   "metadata": {},
   "outputs": [
    {
     "data": {
      "text/plain": [
       "count    4792.000000\n",
       "mean      108.361435\n",
       "std       122.841133\n",
       "min         0.000000\n",
       "25%        40.000000\n",
       "50%        75.000000\n",
       "75%       140.000000\n",
       "max      1288.000000\n",
       "Name: seats, dtype: float64"
      ]
     },
     "execution_count": 47,
     "metadata": {},
     "output_type": "execute_result"
    }
   ],
   "source": [
    "# Посмотрим общие данные \n",
    "df['seats'].describe()"
   ]
  },
  {
   "cell_type": "markdown",
   "id": "6183e5c0-3210-4df7-b73b-d0ade56fbf6f",
   "metadata": {},
   "source": [
    "Можно предположить что данные имеют правое асимметричное распределение т.к. максимальное значение сильно больше медианы и стандартное отклонение имеет большое значение что говорит о широком разбросе в данных."
   ]
  },
  {
   "cell_type": "markdown",
   "id": "da15ee1e-ab1f-4039-ba6c-38d0a3cc3a06",
   "metadata": {},
   "source": [
    "дополнительно посмотрим значения 90, и с 95 по 99 процентилей "
   ]
  },
  {
   "cell_type": "code",
   "execution_count": 48,
   "id": "ef137ba9-4387-42dc-be8e-59a642aed1ba",
   "metadata": {},
   "outputs": [
    {
     "data": {
      "text/plain": [
       "count    4792.000000\n",
       "mean      108.361435\n",
       "std       122.841133\n",
       "min         0.000000\n",
       "50%        75.000000\n",
       "90%       240.000000\n",
       "95%       307.000000\n",
       "96%       350.000000\n",
       "97%       350.000000\n",
       "98%       480.000000\n",
       "99%       625.000000\n",
       "max      1288.000000\n",
       "Name: seats, dtype: float64"
      ]
     },
     "execution_count": 48,
     "metadata": {},
     "output_type": "execute_result"
    }
   ],
   "source": [
    "df['seats'].describe(percentiles=[0.9, 0.95, 0.96, 0.97, 0.98, 0.99])"
   ]
  },
  {
   "cell_type": "markdown",
   "id": "ca71ae8d-4bc4-420d-b16f-309401edf680",
   "metadata": {},
   "source": [
    "Видим что 99% процентиль - имеет большое значение 625 что может говорить о большом ресторане или баре, который подразумаевается как ночной клуб действительно такое кол-во мест имеет место быть. А в от максимальное значение большое. Дополнительно проверим это и построим гистограмму распределения значений и диаграмму размаха для столбца с балансом."
   ]
  },
  {
   "cell_type": "code",
   "execution_count": 1,
   "id": "5b15b141-65cc-40f7-914e-3014accac63d",
   "metadata": {},
   "outputs": [
    {
     "ename": "NameError",
     "evalue": "name 'plt' is not defined",
     "output_type": "error",
     "traceback": [
      "\u001b[1;31m---------------------------------------------------------------------------\u001b[0m",
      "\u001b[1;31mNameError\u001b[0m                                 Traceback (most recent call last)",
      "Cell \u001b[1;32mIn[1], line 2\u001b[0m\n\u001b[0;32m      1\u001b[0m \u001b[38;5;66;03m# Создаём контейнер графика matplotlib и задаём его размер\u001b[39;00m\n\u001b[1;32m----> 2\u001b[0m plt\u001b[38;5;241m.\u001b[39mfigure(figsize\u001b[38;5;241m=\u001b[39m(\u001b[38;5;241m7\u001b[39m, \u001b[38;5;241m5\u001b[39m))\n\u001b[0;32m      4\u001b[0m \u001b[38;5;66;03m# Строим гистограмму с помощью pandas через plot(kind='hist')\u001b[39;00m\n\u001b[0;32m      5\u001b[0m df[\u001b[38;5;124m'\u001b[39m\u001b[38;5;124mseats\u001b[39m\u001b[38;5;124m'\u001b[39m]\u001b[38;5;241m.\u001b[39mplot(\n\u001b[0;32m      6\u001b[0m                 kind\u001b[38;5;241m=\u001b[39m\u001b[38;5;124m'\u001b[39m\u001b[38;5;124mhist\u001b[39m\u001b[38;5;124m'\u001b[39m, \n\u001b[0;32m      7\u001b[0m                 bins\u001b[38;5;241m=\u001b[39m\u001b[38;5;241m80\u001b[39m, \n\u001b[0;32m      8\u001b[0m                 alpha\u001b[38;5;241m=\u001b[39m\u001b[38;5;241m0.75\u001b[39m,\n\u001b[0;32m      9\u001b[0m                 edgecolor\u001b[38;5;241m=\u001b[39m\u001b[38;5;124m'\u001b[39m\u001b[38;5;124mblack\u001b[39m\u001b[38;5;124m'\u001b[39m,\n\u001b[0;32m     10\u001b[0m                 rot\u001b[38;5;241m=\u001b[39m\u001b[38;5;241m0\u001b[39m, log_scale\u001b[38;5;241m=\u001b[39m\u001b[38;5;28;01mTrue\u001b[39;00m)\n",
      "\u001b[1;31mNameError\u001b[0m: name 'plt' is not defined"
     ]
    }
   ],
   "source": [
    "# Создаём контейнер графика matplotlib и задаём его размер\n",
    "plt.figure(figsize=(7, 5))\n",
    "\n",
    "# Строим гистограмму с помощью pandas через plot(kind='hist')\n",
    "df['seats'].plot(\n",
    "                kind='hist', \n",
    "                bins=80, \n",
    "                alpha=0.75,\n",
    "                edgecolor='black',\n",
    "                rot=0,)\n",
    "\n",
    "# Настраиваем оформление графика\n",
    "plt.title('Количество посадочных мест')\n",
    "plt.xlabel('Кол-во мест')\n",
    "plt.ylabel('Кол-во заведений')\n",
    "\n",
    "# Добавляем сетку графика\n",
    "plt.grid(axis='y', linestyle='--', alpha=0.7)\n",
    "\n",
    "# Выводим график\n",
    "plt.show()"
   ]
  },
  {
   "cell_type": "code",
   "execution_count": 50,
   "id": "352d47fe-d4bf-4490-94ba-7f78234bb02b",
   "metadata": {},
   "outputs": [
    {
     "data": {
      "image/png": "[encoded data removed]",
      "text/plain": [
       "<Figure size 576x144 with 1 Axes>"
      ]
     },
     "metadata": {
      "needs_background": "light"
     },
     "output_type": "display_data"
    }
   ],
   "source": [
    "# Создаём контейнер графика matplotlib и задаём его размер\n",
    "plt.figure(figsize=(8, 2))\n",
    "\n",
    "# Строим диаграмму размаха значений в столбце seats\n",
    "df.boxplot(column='seats', vert=False, flierprops=dict(markerfacecolor='r', marker='o'))\n",
    "\n",
    "# Добавляем заголовок и метки оси\n",
    "plt.title('Количество посадочных мест в заведении')\n",
    "plt.xlabel('Кол-во мест')\n",
    "\n",
    "# Выводим график\n",
    "plt.show()"
   ]
  },
  {
   "cell_type": "markdown",
   "id": "0d170fd0-d2fa-465a-b381-4f07cba23ecb",
   "metadata": {},
   "source": [
    "Распределение действительно имеет правоасимметричное распределение и мы видим много значений выходящие за границы «усов» что не всегда может говорить о выбросах, т.к. заведения с большим количеством мест имеют место быть и стоит проверить их по категориям, что мы сейчас и сделаем."
   ]
  },
  {
   "cell_type": "code",
   "execution_count": 51,
   "id": "6f9f2893-7562-485a-bd71-5a888d514f56",
   "metadata": {},
   "outputs": [
    {
     "data": {
      "text/html": [
       "<div>\n",
       "<style scoped>\n",
       "    .dataframe tbody tr th:only-of-type {\n",
       "        vertical-align: middle;\n",
       "    }\n",
       "\n",
       "    .dataframe tbody tr th {\n",
       "        vertical-align: top;\n",
       "    }\n",
       "\n",
       "    .dataframe thead th {\n",
       "        text-align: right;\n",
       "    }\n",
       "</style>\n",
       "<table border=\"1\" class=\"dataframe\">\n",
       "  <thead>\n",
       "    <tr style=\"text-align: right;\">\n",
       "      <th></th>\n",
       "      <th>mean</th>\n",
       "      <th>median</th>\n",
       "      <th>count</th>\n",
       "      <th>max</th>\n",
       "      <th>min</th>\n",
       "    </tr>\n",
       "    <tr>\n",
       "      <th>category</th>\n",
       "      <th></th>\n",
       "      <th></th>\n",
       "      <th></th>\n",
       "      <th></th>\n",
       "      <th></th>\n",
       "    </tr>\n",
       "  </thead>\n",
       "  <tbody>\n",
       "    <tr>\n",
       "      <th>ресторан</th>\n",
       "      <td>121.892044</td>\n",
       "      <td>86.0</td>\n",
       "      <td>1269</td>\n",
       "      <td>1288.0</td>\n",
       "      <td>0.0</td>\n",
       "    </tr>\n",
       "    <tr>\n",
       "      <th>бар,паб</th>\n",
       "      <td>124.477516</td>\n",
       "      <td>82.0</td>\n",
       "      <td>467</td>\n",
       "      <td>1288.0</td>\n",
       "      <td>0.0</td>\n",
       "    </tr>\n",
       "    <tr>\n",
       "      <th>кофейня</th>\n",
       "      <td>111.199730</td>\n",
       "      <td>80.0</td>\n",
       "      <td>751</td>\n",
       "      <td>1288.0</td>\n",
       "      <td>0.0</td>\n",
       "    </tr>\n",
       "    <tr>\n",
       "      <th>столовая</th>\n",
       "      <td>99.750000</td>\n",
       "      <td>75.5</td>\n",
       "      <td>164</td>\n",
       "      <td>1200.0</td>\n",
       "      <td>0.0</td>\n",
       "    </tr>\n",
       "    <tr>\n",
       "      <th>быстрое питание</th>\n",
       "      <td>98.891121</td>\n",
       "      <td>65.0</td>\n",
       "      <td>349</td>\n",
       "      <td>1040.0</td>\n",
       "      <td>0.0</td>\n",
       "    </tr>\n",
       "    <tr>\n",
       "      <th>кафе</th>\n",
       "      <td>97.365654</td>\n",
       "      <td>60.0</td>\n",
       "      <td>1217</td>\n",
       "      <td>1288.0</td>\n",
       "      <td>0.0</td>\n",
       "    </tr>\n",
       "    <tr>\n",
       "      <th>пиццерия</th>\n",
       "      <td>94.496490</td>\n",
       "      <td>55.0</td>\n",
       "      <td>427</td>\n",
       "      <td>1288.0</td>\n",
       "      <td>0.0</td>\n",
       "    </tr>\n",
       "    <tr>\n",
       "      <th>булочная</th>\n",
       "      <td>89.385132</td>\n",
       "      <td>50.0</td>\n",
       "      <td>148</td>\n",
       "      <td>625.0</td>\n",
       "      <td>0.0</td>\n",
       "    </tr>\n",
       "  </tbody>\n",
       "</table>\n",
       "</div>"
      ],
      "text/plain": [
       "                       mean  median  count     max  min\n",
       "category                                               \n",
       "ресторан         121.892044    86.0   1269  1288.0  0.0\n",
       "бар,паб          124.477516    82.0    467  1288.0  0.0\n",
       "кофейня          111.199730    80.0    751  1288.0  0.0\n",
       "столовая          99.750000    75.5    164  1200.0  0.0\n",
       "быстрое питание   98.891121    65.0    349  1040.0  0.0\n",
       "кафе              97.365654    60.0   1217  1288.0  0.0\n",
       "пиццерия          94.496490    55.0    427  1288.0  0.0\n",
       "булочная          89.385132    50.0    148   625.0  0.0"
      ]
     },
     "execution_count": 51,
     "metadata": {},
     "output_type": "execute_result"
    }
   ],
   "source": [
    "# Сгруппируем зведения по категории\n",
    "category_seats = df.groupby('category')['seats'].agg(['mean', 'median', 'count', 'max', 'min'])\n",
    "category_seats.sort_values('median', ascending=False)"
   ]
  },
  {
   "cell_type": "markdown",
   "id": "db8ae84e-dedf-425f-aad7-7c859ed2cb27",
   "metadata": {},
   "source": [
    "Построим диаграмму размаха по категориям"
   ]
  },
  {
   "cell_type": "code",
   "execution_count": 52,
   "id": "99dce3fc-7469-46fb-8b0f-ffa8177a9e24",
   "metadata": {},
   "outputs": [
    {
     "data": {
      "image/png": "[encoded data removed]",
      "text/plain": [
       "<Figure size 720x576 with 1 Axes>"
      ]
     },
     "metadata": {
      "needs_background": "light"
     },
     "output_type": "display_data"
    }
   ],
   "source": [
    "# Создаём контейнер графика matplotlib и задаём его размер\n",
    "plt.figure(figsize=(10, 8))\n",
    "\n",
    "# Строим диаграмму размаха значений в столбце seats\n",
    "sns.boxplot(data=df, x='category',\n",
    "             y='seats', flierprops=dict(markerfacecolor='r', marker='o'))\n",
    "# Добавляем заголовок и метки оси\n",
    "plt.title('Количество посадочных мест в заведении по категориям')\n",
    "plt.ylabel('Кол-во мест')\n",
    "plt.xlabel('Категория заведения')\n",
    "\n",
    "# Добавляем сетку графика\n",
    "plt.grid(axis='y', linestyle='--', alpha=0.7)\n",
    "\n",
    "# Выводим график\n",
    "plt.show()"
   ]
  },
  {
   "cell_type": "markdown",
   "id": "d2a4a8d8-fa5b-46b3-8c50-24363976a7dc",
   "metadata": {},
   "source": [
    "Отключим отображение 'выбросов' на диаграмме аргументом `showfliers=False`"
   ]
  },
  {
   "cell_type": "code",
   "execution_count": 53,
   "id": "5c902237-be6f-4f4b-b2e3-63d36019518d",
   "metadata": {},
   "outputs": [
    {
     "data": {
      "image/png": "[encoded data removed]",
      "text/plain": [
       "<Figure size 720x576 with 1 Axes>"
      ]
     },
     "metadata": {
      "needs_background": "light"
     },
     "output_type": "display_data"
    }
   ],
   "source": [
    "# Создаём контейнер графика matplotlib и задаём его размер\n",
    "plt.figure(figsize=(10, 8))\n",
    "\n",
    "# Строим диаграмму размаха значений в столбце seats\n",
    "sns.boxplot(data = df,\n",
    "             x='category',\n",
    "             y='seats',\n",
    "             showfliers=False)\n",
    "# Добавляем заголовок и метки оси\n",
    "plt.title('Количество посадочных мест в заведении по категориям')\n",
    "plt.ylabel('Кол-во мест')\n",
    "plt.xlabel('Категория заведения')\n",
    "\n",
    "# Добавляем линию среднего рейтинга\n",
    "plt.axhline(y = df['seats'].median(), color='red', linestyle='--', label=f\"Среднее: {df['seats'].median():.2f}\")\n",
    "\n",
    "# Добавляем сетку графика\n",
    "plt.grid(axis='y', linestyle='--', alpha=0.7)\n",
    "\n",
    "# Выводим график\n",
    "plt.show()"
   ]
  },
  {
   "cell_type": "markdown",
   "id": "a6df30b5-9781-4573-8385-a8304554ce84",
   "metadata": {},
   "source": [
    "<div class=\"alert alert-lavender\" style=\"background-color: #e6e6fa; color: #000;\"> Практически во всех категориях присутствуют выбросы (точки за пределами “усов” boxplot), что указывает на наличие заведений с аномально большим количеством посадочных мест. Эти выбросы могут быть крупными ресторанами, банкетными залами или крупными футкортами с большим количеством мест.\n",
    "\n",
    "Медианное количество посадочных мест довольно схоже для большинства категорий (кафе, ресторан, кофейня, пиццерия, бар/паб, быстрое питание, булочная, столовая), в основном находятся в диапазоне от 50 до 86. Это говорит о том, что “типичное” заведение каждой категории имеет примерно одинаковое количество мест.\n",
    "Разброс значительно различается между категориями. Это указывает на то, что, хотя медианные значения схожи, в некоторых категориях есть заведения как с очень малым, так и с очень большим количеством посадочных мест. </div>"
   ]
  },
  {
   "cell_type": "markdown",
   "id": "4731f38c-4fc0-4d9a-b707-fb91973aab57",
   "metadata": {},
   "source": [
    "### 3.5. Рейтинг заведений"
   ]
  },
  {
   "cell_type": "markdown",
   "id": "bcec6467-1d1f-4eea-9212-9e54e41dc1b4",
   "metadata": {},
   "source": [
    "Исследуем рейтинг заведений. Посмотрим распределение средних рейтингов по категориям заведений. "
   ]
  },
  {
   "cell_type": "markdown",
   "id": "3ab065fa-1612-4af3-a57d-44469a211835",
   "metadata": {},
   "source": [
    "Оценим статические показатели для столбца `rating` и посмотрим как он распределяется."
   ]
  },
  {
   "cell_type": "code",
   "execution_count": 54,
   "id": "989a0725-7c56-4d33-8d07-90ef234fef25",
   "metadata": {},
   "outputs": [
    {
     "data": {
      "text/plain": [
       "count    8401.000000\n",
       "mean        4.230258\n",
       "std         0.469826\n",
       "min         1.000000\n",
       "25%         4.100000\n",
       "50%         4.300000\n",
       "75%         4.400000\n",
       "max         5.000000\n",
       "Name: rating, dtype: float64"
      ]
     },
     "execution_count": 54,
     "metadata": {},
     "output_type": "execute_result"
    }
   ],
   "source": [
    "# Посмотрим общие данные \n",
    "df['rating'].describe()"
   ]
  },
  {
   "cell_type": "markdown",
   "id": "57fc4e32-2f90-4cb4-ab15-7bab17ccf3d4",
   "metadata": {},
   "source": [
    "По статическим показателям видим нормальное распределение значений рейтинга, нет аномальных значений. Медианное значение почти равно среднему. Посмотрим на распределениена гистрограмме."
   ]
  },
  {
   "cell_type": "code",
   "execution_count": 55,
   "id": "d7d450b0-875d-43ef-bc53-5351922520b6",
   "metadata": {},
   "outputs": [
    {
     "data": {
      "image/png": "[encoded data removed]",
      "text/plain": [
       "<Figure size 432x288 with 1 Axes>"
      ]
     },
     "metadata": {
      "needs_background": "light"
     },
     "output_type": "display_data"
    }
   ],
   "source": [
    "# Создаём контейнер графика matplotlib и задаём его размер\n",
    "plt.figure(figsize=(6, 4))\n",
    "\n",
    "# Строим гистограмму с помощью pandas через plot(kind='hist')\n",
    "sns.histplot(data=df['rating'],\n",
    "              bins=100,\n",
    "              kde=True,\n",
    "              alpha=0.75,\n",
    "              edgecolor='black',\n",
    "              stat='count') \n",
    "\n",
    "# Настраиваем оформление графика\n",
    "plt.title('Распределение рейтинга')\n",
    "plt.xlabel('Рейтинг заведения')\n",
    "plt.ylabel('Количество заведений')\n",
    "plt.axvline(df['rating'].mean(), color='red', linestyle='--', label=f'Среднее: {df[\"rating\"].mean():.2f}')\n",
    "plt.legend()\n",
    "# Добавляем сетку графика\n",
    "plt.grid(axis='y', linestyle='--', alpha=0.7)\n",
    "\n",
    "# Выводим график\n",
    "plt.show()"
   ]
  },
  {
   "cell_type": "markdown",
   "id": "765ce457-5564-4abe-9866-4d35f814d2fc",
   "metadata": {},
   "source": [
    "Гистограмма показала что распределения немного скошено влево, это значит что заведений с рейтингом выше среднего больше, чем заведений с рейтингом ниже среднего. Посмотрим как средний рейтинг распределяется по категориям заведений. Для этого построим столбчатую диаграмму."
   ]
  },
  {
   "cell_type": "code",
   "execution_count": 56,
   "id": "b5070b3d-6716-4a85-8ba3-879bf830a51b",
   "metadata": {},
   "outputs": [
    {
     "data": {
      "image/png": "[encoded data removed]",
      "text/plain": [
       "<Figure size 576x288 with 1 Axes>"
      ]
     },
     "metadata": {
      "needs_background": "light"
     },
     "output_type": "display_data"
    }
   ],
   "source": [
    "# Создаём контейнер графика matplotlib и задаём его размер\n",
    "plt.figure(figsize=(8, 4))\n",
    "\n",
    "# Строим столбчатуб диаграмму\n",
    "df.groupby('category')['rating'].mean().sort_values(ascending=False).plot(kind='bar',\n",
    "                                 width=0.8,\n",
    "                                 rot = 30,\n",
    "                                 title = f'Рапсределение рейтинга заведений по категориям',\n",
    "                                 ylabel = 'Средний рейтинг заведения', \n",
    "                                 xlabel = 'Категория заведения')\n",
    "\n",
    "# Добавляем линию среднего рейтинга\n",
    "plt.axhline(y = df['rating'].mean(), color='red', linestyle='--', label=f'Среднее: {df[\"rating\"].mean():.2f}')\n",
    "\n",
    "# Добавляем сетку графика\n",
    "plt.grid(axis='y', linestyle='--', alpha=0.7)\n",
    "\n",
    "# Выводим график\n",
    "plt.show()"
   ]
  },
  {
   "cell_type": "code",
   "execution_count": 57,
   "id": "fdb31bef",
   "metadata": {},
   "outputs": [
    {
     "data": {
      "text/html": [
       "<div>\n",
       "<style scoped>\n",
       "    .dataframe tbody tr th:only-of-type {\n",
       "        vertical-align: middle;\n",
       "    }\n",
       "\n",
       "    .dataframe tbody tr th {\n",
       "        vertical-align: top;\n",
       "    }\n",
       "\n",
       "    .dataframe thead th {\n",
       "        text-align: right;\n",
       "    }\n",
       "</style>\n",
       "<table border=\"1\" class=\"dataframe\">\n",
       "  <thead>\n",
       "    <tr style=\"text-align: right;\">\n",
       "      <th></th>\n",
       "      <th>count</th>\n",
       "      <th>mean</th>\n",
       "      <th>std</th>\n",
       "      <th>min</th>\n",
       "      <th>25%</th>\n",
       "      <th>50%</th>\n",
       "      <th>75%</th>\n",
       "      <th>max</th>\n",
       "    </tr>\n",
       "    <tr>\n",
       "      <th>category</th>\n",
       "      <th></th>\n",
       "      <th></th>\n",
       "      <th></th>\n",
       "      <th></th>\n",
       "      <th></th>\n",
       "      <th></th>\n",
       "      <th></th>\n",
       "      <th></th>\n",
       "    </tr>\n",
       "  </thead>\n",
       "  <tbody>\n",
       "    <tr>\n",
       "      <th>бар,паб</th>\n",
       "      <td>764.0</td>\n",
       "      <td>4.387697</td>\n",
       "      <td>0.380392</td>\n",
       "      <td>1.1</td>\n",
       "      <td>4.3</td>\n",
       "      <td>4.4</td>\n",
       "      <td>4.6</td>\n",
       "      <td>5.0</td>\n",
       "    </tr>\n",
       "    <tr>\n",
       "      <th>пиццерия</th>\n",
       "      <td>633.0</td>\n",
       "      <td>4.301264</td>\n",
       "      <td>0.336162</td>\n",
       "      <td>1.0</td>\n",
       "      <td>4.2</td>\n",
       "      <td>4.3</td>\n",
       "      <td>4.4</td>\n",
       "      <td>5.0</td>\n",
       "    </tr>\n",
       "    <tr>\n",
       "      <th>ресторан</th>\n",
       "      <td>2042.0</td>\n",
       "      <td>4.290401</td>\n",
       "      <td>0.413143</td>\n",
       "      <td>1.0</td>\n",
       "      <td>4.2</td>\n",
       "      <td>4.3</td>\n",
       "      <td>4.5</td>\n",
       "      <td>5.0</td>\n",
       "    </tr>\n",
       "    <tr>\n",
       "      <th>кофейня</th>\n",
       "      <td>1412.0</td>\n",
       "      <td>4.278753</td>\n",
       "      <td>0.368250</td>\n",
       "      <td>1.4</td>\n",
       "      <td>4.1</td>\n",
       "      <td>4.3</td>\n",
       "      <td>4.4</td>\n",
       "      <td>5.0</td>\n",
       "    </tr>\n",
       "    <tr>\n",
       "      <th>булочная</th>\n",
       "      <td>256.0</td>\n",
       "      <td>4.268360</td>\n",
       "      <td>0.386303</td>\n",
       "      <td>1.3</td>\n",
       "      <td>4.2</td>\n",
       "      <td>4.3</td>\n",
       "      <td>4.4</td>\n",
       "      <td>5.0</td>\n",
       "    </tr>\n",
       "    <tr>\n",
       "      <th>столовая</th>\n",
       "      <td>315.0</td>\n",
       "      <td>4.211429</td>\n",
       "      <td>0.454205</td>\n",
       "      <td>1.0</td>\n",
       "      <td>4.1</td>\n",
       "      <td>4.3</td>\n",
       "      <td>4.4</td>\n",
       "      <td>5.0</td>\n",
       "    </tr>\n",
       "    <tr>\n",
       "      <th>кафе</th>\n",
       "      <td>2376.0</td>\n",
       "      <td>4.124284</td>\n",
       "      <td>0.566001</td>\n",
       "      <td>1.0</td>\n",
       "      <td>4.0</td>\n",
       "      <td>4.2</td>\n",
       "      <td>4.4</td>\n",
       "      <td>5.0</td>\n",
       "    </tr>\n",
       "    <tr>\n",
       "      <th>быстрое питание</th>\n",
       "      <td>603.0</td>\n",
       "      <td>4.050249</td>\n",
       "      <td>0.560949</td>\n",
       "      <td>1.1</td>\n",
       "      <td>3.9</td>\n",
       "      <td>4.2</td>\n",
       "      <td>4.3</td>\n",
       "      <td>5.0</td>\n",
       "    </tr>\n",
       "  </tbody>\n",
       "</table>\n",
       "</div>"
      ],
      "text/plain": [
       "                  count      mean       std  min  25%  50%  75%  max\n",
       "category                                                            \n",
       "бар,паб           764.0  4.387697  0.380392  1.1  4.3  4.4  4.6  5.0\n",
       "пиццерия          633.0  4.301264  0.336162  1.0  4.2  4.3  4.4  5.0\n",
       "ресторан         2042.0  4.290401  0.413143  1.0  4.2  4.3  4.5  5.0\n",
       "кофейня          1412.0  4.278753  0.368250  1.4  4.1  4.3  4.4  5.0\n",
       "булочная          256.0  4.268360  0.386303  1.3  4.2  4.3  4.4  5.0\n",
       "столовая          315.0  4.211429  0.454205  1.0  4.1  4.3  4.4  5.0\n",
       "кафе             2376.0  4.124284  0.566001  1.0  4.0  4.2  4.4  5.0\n",
       "быстрое питание   603.0  4.050249  0.560949  1.1  3.9  4.2  4.3  5.0"
      ]
     },
     "execution_count": 57,
     "metadata": {},
     "output_type": "execute_result"
    }
   ],
   "source": [
    "# Посмотрим как распределяются статическим показатели рейтинга по категориям заведения\n",
    "df.groupby('category')['rating'].describe().sort_values(by = 'mean', ascending=False)"
   ]
  },
  {
   "cell_type": "markdown",
   "id": "1a556057-81f6-4e9d-8bbb-c8abb9993144",
   "metadata": {},
   "source": [
    "<div class=\"alert alert-lavender\" style=\"background-color: #e6e6fa; color: #000;\"> Средний рейтинг заведений составляет 4,23. Максимальное кол-во располагается выше среднего, основная концентрация рейтинга между 4 - 4,5 что говорит о том что заведения стараются держать положительные оценки. Присутствуют плохой ретинг ниже 3, но их значительно меньше положительных. По категориям самые высокие оценки получили заведения - бары и пабы, видимо все уходят с хорошим настроением 😀 Кафе имеет максимальный разброс по оценкам, пиццерия и булочная более стабильны - у них самый маленький разброс, а вот быстрое питание лидирует по самым низким оценкам. </div>"
   ]
  },
  {
   "cell_type": "markdown",
   "id": "b7f453b8-1b46-444c-b2c7-c0b952a31f32",
   "metadata": {},
   "source": [
    "### 3.6. Изучение взаимосвязей между данными"
   ]
  },
  {
   "cell_type": "markdown",
   "id": "1b6df834-c3d1-42c7-87df-d605d9b3fd23",
   "metadata": {},
   "source": [
    "Рассмотрим с какими данными показывают самую сильную корреляцию рейтинги заведений. Построим и визуализируем матрицу корреляции рейтинга заведения с разными данными: его категория, положение (административный район Москвы), статус сетевого заведения, количество мест, ценовая категория и признак, является ли заведения круглосуточным. "
   ]
  },
  {
   "cell_type": "markdown",
   "id": "eccea726-e9ff-4e26-bd09-3e991e855fad",
   "metadata": {},
   "source": [
    "Рассчитаем матрицу корреляции `phi_k`"
   ]
  },
  {
   "cell_type": "code",
   "execution_count": 58,
   "id": "6c8f161e-7733-4b1f-b749-77be1366b5ee",
   "metadata": {},
   "outputs": [
    {
     "name": "stdout",
     "output_type": "stream",
     "text": [
      "interval columns not set, guessing: ['rating', 'chain', 'seats']\n"
     ]
    },
    {
     "data": {
      "image/png": "[encoded data removed]",
      "text/plain": [
       "<Figure size 144x432 with 1 Axes>"
      ]
     },
     "metadata": {
      "needs_background": "light"
     },
     "output_type": "display_data"
    },
    {
     "data": {
      "text/html": [
       "<div>\n",
       "<style scoped>\n",
       "    .dataframe tbody tr th:only-of-type {\n",
       "        vertical-align: middle;\n",
       "    }\n",
       "\n",
       "    .dataframe tbody tr th {\n",
       "        vertical-align: top;\n",
       "    }\n",
       "\n",
       "    .dataframe thead th {\n",
       "        text-align: right;\n",
       "    }\n",
       "</style>\n",
       "<table border=\"1\" class=\"dataframe\">\n",
       "  <thead>\n",
       "    <tr style=\"text-align: right;\">\n",
       "      <th></th>\n",
       "      <th>rating</th>\n",
       "    </tr>\n",
       "  </thead>\n",
       "  <tbody>\n",
       "    <tr>\n",
       "      <th>price</th>\n",
       "      <td>0.262056</td>\n",
       "    </tr>\n",
       "    <tr>\n",
       "      <th>category</th>\n",
       "      <td>0.199065</td>\n",
       "    </tr>\n",
       "    <tr>\n",
       "      <th>district</th>\n",
       "      <td>0.189582</td>\n",
       "    </tr>\n",
       "    <tr>\n",
       "      <th>is_24_7</th>\n",
       "      <td>0.186460</td>\n",
       "    </tr>\n",
       "    <tr>\n",
       "      <th>chain</th>\n",
       "      <td>0.118926</td>\n",
       "    </tr>\n",
       "    <tr>\n",
       "      <th>seats</th>\n",
       "      <td>0.000000</td>\n",
       "    </tr>\n",
       "  </tbody>\n",
       "</table>\n",
       "</div>"
      ],
      "text/plain": [
       "            rating\n",
       "price     0.262056\n",
       "category  0.199065\n",
       "district  0.189582\n",
       "is_24_7   0.186460\n",
       "chain     0.118926\n",
       "seats     0.000000"
      ]
     },
     "execution_count": 58,
     "metadata": {},
     "output_type": "execute_result"
    }
   ],
   "source": [
    "# Вычисляем корреляционную матрицу с использованием phi_k\n",
    "correlation_matrix = df[['rating', 'category', 'district', 'chain', 'seats', 'price',\n",
    "                         'is_24_7']].phik_matrix()\n",
    "\n",
    "# Сохраняем матрицу корреляции признака rating с другими признаками заведений\n",
    "data_heatmap = correlation_matrix.loc[correlation_matrix.index != 'rating'][['rating']].sort_values(by='rating', ascending=False)\n",
    "plt.figure(figsize=(2, 6))\n",
    "sns.heatmap(data_heatmap,\n",
    "            annot=True, # Отображаем численные значения в ячейках карты\n",
    "            fmt='.2f', # Форматируем значения корреляции: два знака после точки\n",
    "            cmap='coolwarm', # Устанавливаем цветовую гамму от красного (макс. значение) к синему\n",
    "            linewidths=0.5, # Форматируем линию между ячейками карты\n",
    "            cbar=False # Отключаем цветовую шкалу\n",
    "           )\n",
    "\n",
    "# Добавляем заголовок и подпись по оси Х\n",
    "plt.title('Тепловая карта коэффициента phi_k \\n для данных rating')\n",
    "\n",
    "# Выводим график\n",
    "plt.show()\n",
    "data_heatmap"
   ]
  },
  {
   "cell_type": "markdown",
   "id": "e7e027a4-bd30-4bb4-b317-79129056da57",
   "metadata": {},
   "source": [
    "Матрица показывает что самая сильная связь с ретингом заведением связана с категорией цены. Давайте проверим эту связь"
   ]
  },
  {
   "cell_type": "code",
   "execution_count": 59,
   "id": "56ef0f9f-a011-4d9b-b3c8-26830cab64d3",
   "metadata": {},
   "outputs": [
    {
     "data": {
      "image/png": "[encoded data removed]",
      "text/plain": [
       "<Figure size 720x432 with 1 Axes>"
      ]
     },
     "metadata": {
      "needs_background": "light"
     },
     "output_type": "display_data"
    },
    {
     "data": {
      "text/html": [
       "<div>\n",
       "<style scoped>\n",
       "    .dataframe tbody tr th:only-of-type {\n",
       "        vertical-align: middle;\n",
       "    }\n",
       "\n",
       "    .dataframe tbody tr th {\n",
       "        vertical-align: top;\n",
       "    }\n",
       "\n",
       "    .dataframe thead th {\n",
       "        text-align: right;\n",
       "    }\n",
       "</style>\n",
       "<table border=\"1\" class=\"dataframe\">\n",
       "  <thead>\n",
       "    <tr style=\"text-align: right;\">\n",
       "      <th></th>\n",
       "      <th>mean</th>\n",
       "      <th>count</th>\n",
       "    </tr>\n",
       "    <tr>\n",
       "      <th>price</th>\n",
       "      <th></th>\n",
       "      <th></th>\n",
       "    </tr>\n",
       "  </thead>\n",
       "  <tbody>\n",
       "    <tr>\n",
       "      <th>высокие</th>\n",
       "      <td>4.436611</td>\n",
       "      <td>478</td>\n",
       "    </tr>\n",
       "    <tr>\n",
       "      <th>выше среднего</th>\n",
       "      <td>4.386348</td>\n",
       "      <td>564</td>\n",
       "    </tr>\n",
       "    <tr>\n",
       "      <th>низкие</th>\n",
       "      <td>4.173077</td>\n",
       "      <td>156</td>\n",
       "    </tr>\n",
       "    <tr>\n",
       "      <th>средние</th>\n",
       "      <td>4.297874</td>\n",
       "      <td>2117</td>\n",
       "    </tr>\n",
       "  </tbody>\n",
       "</table>\n",
       "</div>"
      ],
      "text/plain": [
       "                   mean  count\n",
       "price                         \n",
       "высокие        4.436611    478\n",
       "выше среднего  4.386348    564\n",
       "низкие         4.173077    156\n",
       "средние        4.297874   2117"
      ]
     },
     "metadata": {},
     "output_type": "display_data"
    }
   ],
   "source": [
    "# Создаём контейнер графика matplotlib и задаём его размер\n",
    "plt.figure(figsize=(10, 6))\n",
    "\n",
    "# Строим диаграмму размаха значений в столбце rating\n",
    "sns.boxplot(data = df,\n",
    "             x='price',\n",
    "             y='rating', \n",
    "             showfliers=False)\n",
    "\n",
    "# Добавляем заголовок и названия осей\n",
    "plt.title('Рапределение рейтинга заведений по категориям цен')\n",
    "plt.xlabel('Категория цены')\n",
    "plt.ylabel('Рейтинг')\n",
    "\n",
    "# Добавляем линию среднего рейтинга\n",
    "plt.axhline(y = df['rating'].mean(), color='red', linestyle='--', label=f'Среднее: {df[\"rating\"].mean():.2f}')\n",
    "\n",
    "# Добавляем сетку графика\n",
    "plt.grid(axis='y', linestyle='--', alpha=0.7)\n",
    "\n",
    "# Выводим график\n",
    "plt.show()\n",
    "\n",
    "display(df.groupby('price')['rating'].agg(['mean', 'count']))"
   ]
  },
  {
   "cell_type": "markdown",
   "id": "9292b6a9-5fd5-4fab-bb27-16a7ef473ea4",
   "metadata": {},
   "source": [
    "<div class=\"alert alert-lavender\" style=\"background-color: #e6e6fa; color: #000;\"> Больше половины данных отсутствуют для выявления точной зависимости, но по тем данным которые у нас есть, можно заметить связь. Чем выше категория цены тем выше рейтинг и более маленький разброс. Заведения с низкими категориями цен имеют рейтинг ниже среднего и у них больше разброс цен они имеют как максимальные оценки так и минимальные. Это говорит о том что дорогие заведения более стабильны по качеству обслуживания и стараются деражть высокие оценки.  </div>"
   ]
  },
  {
   "cell_type": "markdown",
   "id": "826652b6-7c2c-4aa9-a80e-3c20bab1aa87",
   "metadata": {},
   "source": [
    "### 3.7. Изучим сетевые заведения Москвы"
   ]
  },
  {
   "cell_type": "markdown",
   "id": "e0e82345-65d2-46c9-a00d-7749ef07125d",
   "metadata": {},
   "source": [
    "Сгруппируем данные по названиям заведений и найдем топ-15 популярных сетей в Москве. Посчитаем значения среднего рейтинга."
   ]
  },
  {
   "cell_type": "code",
   "execution_count": 60,
   "id": "a627a16f-d6d4-485b-a9f9-d8bbc1b8f91b",
   "metadata": {},
   "outputs": [
    {
     "data": {
      "text/html": [
       "<style  type=\"text/css\" >\n",
       "#T_06f85_row0_col2,#T_06f85_row14_col3{\n",
       "            background-color:  #b40426;\n",
       "            color:  #f1f1f1;\n",
       "        }#T_06f85_row0_col3{\n",
       "            background-color:  #e1dad6;\n",
       "            color:  #000000;\n",
       "        }#T_06f85_row1_col2{\n",
       "            background-color:  #ead4c8;\n",
       "            color:  #000000;\n",
       "        }#T_06f85_row1_col3{\n",
       "            background-color:  #dddcdc;\n",
       "            color:  #000000;\n",
       "        }#T_06f85_row2_col2{\n",
       "            background-color:  #e6d7cf;\n",
       "            color:  #000000;\n",
       "        }#T_06f85_row2_col3{\n",
       "            background-color:  #f7ac8e;\n",
       "            color:  #000000;\n",
       "        }#T_06f85_row3_col2{\n",
       "            background-color:  #dedcdb;\n",
       "            color:  #000000;\n",
       "        }#T_06f85_row3_col3{\n",
       "            background-color:  #a7c5fe;\n",
       "            color:  #000000;\n",
       "        }#T_06f85_row4_col2{\n",
       "            background-color:  #d9dce1;\n",
       "            color:  #000000;\n",
       "        }#T_06f85_row4_col3,#T_06f85_row14_col2{\n",
       "            background-color:  #3b4cc0;\n",
       "            color:  #f1f1f1;\n",
       "        }#T_06f85_row5_col2{\n",
       "            background-color:  #cdd9ec;\n",
       "            color:  #000000;\n",
       "        }#T_06f85_row5_col3{\n",
       "            background-color:  #adc9fd;\n",
       "            color:  #000000;\n",
       "        }#T_06f85_row6_col2{\n",
       "            background-color:  #97b8ff;\n",
       "            color:  #000000;\n",
       "        }#T_06f85_row6_col3{\n",
       "            background-color:  #c3d5f4;\n",
       "            color:  #000000;\n",
       "        }#T_06f85_row7_col2{\n",
       "            background-color:  #7da0f9;\n",
       "            color:  #000000;\n",
       "        }#T_06f85_row7_col3{\n",
       "            background-color:  #d4dbe6;\n",
       "            color:  #000000;\n",
       "        }#T_06f85_row8_col2{\n",
       "            background-color:  #7295f4;\n",
       "            color:  #000000;\n",
       "        }#T_06f85_row8_col3{\n",
       "            background-color:  #da5a49;\n",
       "            color:  #000000;\n",
       "        }#T_06f85_row9_col2{\n",
       "            background-color:  #6788ee;\n",
       "            color:  #000000;\n",
       "        }#T_06f85_row9_col3{\n",
       "            background-color:  #bed2f6;\n",
       "            color:  #000000;\n",
       "        }#T_06f85_row10_col2{\n",
       "            background-color:  #5673e0;\n",
       "            color:  #000000;\n",
       "        }#T_06f85_row10_col3{\n",
       "            background-color:  #7396f5;\n",
       "            color:  #000000;\n",
       "        }#T_06f85_row11_col2{\n",
       "            background-color:  #465ecf;\n",
       "            color:  #f1f1f1;\n",
       "        }#T_06f85_row11_col3{\n",
       "            background-color:  #6180e9;\n",
       "            color:  #000000;\n",
       "        }#T_06f85_row12_col2{\n",
       "            background-color:  #4358cb;\n",
       "            color:  #f1f1f1;\n",
       "        }#T_06f85_row12_col3{\n",
       "            background-color:  #d0473d;\n",
       "            color:  #f1f1f1;\n",
       "        }#T_06f85_row13_col2{\n",
       "            background-color:  #4055c8;\n",
       "            color:  #f1f1f1;\n",
       "        }#T_06f85_row13_col3{\n",
       "            background-color:  #90b2fe;\n",
       "            color:  #000000;\n",
       "        }</style><table id=\"T_06f85_\" ><thead>    <tr>        <th class=\"blank level0\" ></th>        <th class=\"col_heading level0 col0\" >name</th>        <th class=\"col_heading level0 col1\" >category</th>        <th class=\"col_heading level0 col2\" >количество</th>        <th class=\"col_heading level0 col3\" >средний рейтинг</th>    </tr></thead><tbody>\n",
       "                <tr>\n",
       "                        <th id=\"T_06f85_level0_row0\" class=\"row_heading level0 row0\" >1</th>\n",
       "                        <td id=\"T_06f85_row0_col0\" class=\"data row0 col0\" >шоколадница</td>\n",
       "                        <td id=\"T_06f85_row0_col1\" class=\"data row0 col1\" >кофейня</td>\n",
       "                        <td id=\"T_06f85_row0_col2\" class=\"data row0 col2\" >119</td>\n",
       "                        <td id=\"T_06f85_row0_col3\" class=\"data row0 col3\" >4.178151</td>\n",
       "            </tr>\n",
       "            <tr>\n",
       "                        <th id=\"T_06f85_level0_row1\" class=\"row_heading level0 row1\" >2</th>\n",
       "                        <td id=\"T_06f85_row1_col0\" class=\"data row1 col0\" >доминос пицца</td>\n",
       "                        <td id=\"T_06f85_row1_col1\" class=\"data row1 col1\" >пиццерия</td>\n",
       "                        <td id=\"T_06f85_row1_col2\" class=\"data row1 col2\" >76</td>\n",
       "                        <td id=\"T_06f85_row1_col3\" class=\"data row1 col3\" >4.169737</td>\n",
       "            </tr>\n",
       "            <tr>\n",
       "                        <th id=\"T_06f85_level0_row2\" class=\"row_heading level0 row2\" >3</th>\n",
       "                        <td id=\"T_06f85_row2_col0\" class=\"data row2 col0\" >додо пицца</td>\n",
       "                        <td id=\"T_06f85_row2_col1\" class=\"data row2 col1\" >пиццерия</td>\n",
       "                        <td id=\"T_06f85_row2_col2\" class=\"data row2 col2\" >74</td>\n",
       "                        <td id=\"T_06f85_row2_col3\" class=\"data row2 col3\" >4.286487</td>\n",
       "            </tr>\n",
       "            <tr>\n",
       "                        <th id=\"T_06f85_level0_row3\" class=\"row_heading level0 row3\" >4</th>\n",
       "                        <td id=\"T_06f85_row3_col0\" class=\"data row3 col0\" >one price coffee</td>\n",
       "                        <td id=\"T_06f85_row3_col1\" class=\"data row3 col1\" >кофейня</td>\n",
       "                        <td id=\"T_06f85_row3_col2\" class=\"data row3 col2\" >71</td>\n",
       "                        <td id=\"T_06f85_row3_col3\" class=\"data row3 col3\" >4.064789</td>\n",
       "            </tr>\n",
       "            <tr>\n",
       "                        <th id=\"T_06f85_level0_row4\" class=\"row_heading level0 row4\" >5</th>\n",
       "                        <td id=\"T_06f85_row4_col0\" class=\"data row4 col0\" >яндекс лавка</td>\n",
       "                        <td id=\"T_06f85_row4_col1\" class=\"data row4 col1\" >ресторан</td>\n",
       "                        <td id=\"T_06f85_row4_col2\" class=\"data row4 col2\" >69</td>\n",
       "                        <td id=\"T_06f85_row4_col3\" class=\"data row4 col3\" >3.872464</td>\n",
       "            </tr>\n",
       "            <tr>\n",
       "                        <th id=\"T_06f85_level0_row5\" class=\"row_heading level0 row5\" >6</th>\n",
       "                        <td id=\"T_06f85_row5_col0\" class=\"data row5 col0\" >cofix</td>\n",
       "                        <td id=\"T_06f85_row5_col1\" class=\"data row5 col1\" >кофейня</td>\n",
       "                        <td id=\"T_06f85_row5_col2\" class=\"data row5 col2\" >65</td>\n",
       "                        <td id=\"T_06f85_row5_col3\" class=\"data row5 col3\" >4.075385</td>\n",
       "            </tr>\n",
       "            <tr>\n",
       "                        <th id=\"T_06f85_level0_row6\" class=\"row_heading level0 row6\" >7</th>\n",
       "                        <td id=\"T_06f85_row6_col0\" class=\"data row6 col0\" >prime</td>\n",
       "                        <td id=\"T_06f85_row6_col1\" class=\"data row6 col1\" >ресторан</td>\n",
       "                        <td id=\"T_06f85_row6_col2\" class=\"data row6 col2\" >49</td>\n",
       "                        <td id=\"T_06f85_row6_col3\" class=\"data row6 col3\" >4.114285</td>\n",
       "            </tr>\n",
       "            <tr>\n",
       "                        <th id=\"T_06f85_level0_row7\" class=\"row_heading level0 row7\" >8</th>\n",
       "                        <td id=\"T_06f85_row7_col0\" class=\"data row7 col0\" >кофепорт</td>\n",
       "                        <td id=\"T_06f85_row7_col1\" class=\"data row7 col1\" >кофейня</td>\n",
       "                        <td id=\"T_06f85_row7_col2\" class=\"data row7 col2\" >42</td>\n",
       "                        <td id=\"T_06f85_row7_col3\" class=\"data row7 col3\" >4.147619</td>\n",
       "            </tr>\n",
       "            <tr>\n",
       "                        <th id=\"T_06f85_level0_row8\" class=\"row_heading level0 row8\" >9</th>\n",
       "                        <td id=\"T_06f85_row8_col0\" class=\"data row8 col0\" >кулинарная лавка братьев караваевых</td>\n",
       "                        <td id=\"T_06f85_row8_col1\" class=\"data row8 col1\" >кафе</td>\n",
       "                        <td id=\"T_06f85_row8_col2\" class=\"data row8 col2\" >39</td>\n",
       "                        <td id=\"T_06f85_row8_col3\" class=\"data row8 col3\" >4.394872</td>\n",
       "            </tr>\n",
       "            <tr>\n",
       "                        <th id=\"T_06f85_level0_row9\" class=\"row_heading level0 row9\" >10</th>\n",
       "                        <td id=\"T_06f85_row9_col0\" class=\"data row9 col0\" >теремок</td>\n",
       "                        <td id=\"T_06f85_row9_col1\" class=\"data row9 col1\" >ресторан</td>\n",
       "                        <td id=\"T_06f85_row9_col2\" class=\"data row9 col2\" >36</td>\n",
       "                        <td id=\"T_06f85_row9_col3\" class=\"data row9 col3\" >4.105556</td>\n",
       "            </tr>\n",
       "            <tr>\n",
       "                        <th id=\"T_06f85_level0_row10\" class=\"row_heading level0 row10\" >11</th>\n",
       "                        <td id=\"T_06f85_row10_col0\" class=\"data row10 col0\" >cofefest</td>\n",
       "                        <td id=\"T_06f85_row10_col1\" class=\"data row10 col1\" >кофейня</td>\n",
       "                        <td id=\"T_06f85_row10_col2\" class=\"data row10 col2\" >31</td>\n",
       "                        <td id=\"T_06f85_row10_col3\" class=\"data row10 col3\" >3.977419</td>\n",
       "            </tr>\n",
       "            <tr>\n",
       "                        <th id=\"T_06f85_level0_row11\" class=\"row_heading level0 row11\" >12</th>\n",
       "                        <td id=\"T_06f85_row11_col0\" class=\"data row11 col0\" >чайхана</td>\n",
       "                        <td id=\"T_06f85_row11_col1\" class=\"data row11 col1\" >кафе</td>\n",
       "                        <td id=\"T_06f85_row11_col2\" class=\"data row11 col2\" >26</td>\n",
       "                        <td id=\"T_06f85_row11_col3\" class=\"data row11 col3\" >3.946154</td>\n",
       "            </tr>\n",
       "            <tr>\n",
       "                        <th id=\"T_06f85_level0_row12\" class=\"row_heading level0 row12\" >13</th>\n",
       "                        <td id=\"T_06f85_row12_col0\" class=\"data row12 col0\" >буханка</td>\n",
       "                        <td id=\"T_06f85_row12_col1\" class=\"data row12 col1\" >булочная</td>\n",
       "                        <td id=\"T_06f85_row12_col2\" class=\"data row12 col2\" >25</td>\n",
       "                        <td id=\"T_06f85_row12_col3\" class=\"data row12 col3\" >4.416000</td>\n",
       "            </tr>\n",
       "            <tr>\n",
       "                        <th id=\"T_06f85_level0_row13\" class=\"row_heading level0 row13\" >14</th>\n",
       "                        <td id=\"T_06f85_row13_col0\" class=\"data row13 col0\" >drive café</td>\n",
       "                        <td id=\"T_06f85_row13_col1\" class=\"data row13 col1\" >кафе</td>\n",
       "                        <td id=\"T_06f85_row13_col2\" class=\"data row13 col2\" >24</td>\n",
       "                        <td id=\"T_06f85_row13_col3\" class=\"data row13 col3\" >4.025000</td>\n",
       "            </tr>\n",
       "            <tr>\n",
       "                        <th id=\"T_06f85_level0_row14\" class=\"row_heading level0 row14\" >15</th>\n",
       "                        <td id=\"T_06f85_row14_col0\" class=\"data row14 col0\" >кофемания</td>\n",
       "                        <td id=\"T_06f85_row14_col1\" class=\"data row14 col1\" >кофейня</td>\n",
       "                        <td id=\"T_06f85_row14_col2\" class=\"data row14 col2\" >22</td>\n",
       "                        <td id=\"T_06f85_row14_col3\" class=\"data row14 col3\" >4.463636</td>\n",
       "            </tr>\n",
       "    </tbody></table>"
      ],
      "text/plain": [
       "<pandas.io.formats.style.Styler at 0x7f7f406a85e0>"
      ]
     },
     "metadata": {},
     "output_type": "display_data"
    }
   ],
   "source": [
    "# Создадим таблицу\n",
    "df_top15 = df[df['chain'] == 1].groupby(['name', 'category']).agg({'id': 'count', 'rating': 'mean'}\n",
    "                                        ).rename(columns={'id': 'количество', 'rating': 'средний рейтинг'}\n",
    "                                                ).sort_values('количество', ascending=False).head(15).reset_index()\n",
    "# Сдвигаем индекс\n",
    "df_top15.index = df_top15.index + 1\n",
    "# Выврдим таблицу\n",
    "display(df_top15.style.background_gradient(cmap='coolwarm', axis=0))"
   ]
  },
  {
   "cell_type": "markdown",
   "id": "237a31c6",
   "metadata": {},
   "source": [
    "Построим графики по ТОП-15 заведений по количеству и среднему рейтингу. Используем столбчатые диаграммы."
   ]
  },
  {
   "cell_type": "code",
   "execution_count": 61,
   "id": "813210e1",
   "metadata": {},
   "outputs": [
    {
     "data": {
      "image/png": "[encoded data removed]",
      "text/plain": [
       "<Figure size 1008x504 with 1 Axes>"
      ]
     },
     "metadata": {
      "needs_background": "light"
     },
     "output_type": "display_data"
    }
   ],
   "source": [
    "# Строим столбчатуб диаграмму\n",
    "df_top15.plot.bar(x='name', y='количество', legend = False, rot = 20, figsize=(14, 7),\n",
    "                                 title = f'ТОП-15 сетевых заведений по количеству',\n",
    "                                 ylabel = 'Количество заведений', \n",
    "                                 xlabel = 'Название сетей заведения')\n",
    "\n",
    "# Добавляем сетку графика\n",
    "plt.grid(axis='y', linestyle='--', alpha=0.7)\n",
    "\n",
    "# Выводим график\n",
    "plt.show()"
   ]
  },
  {
   "cell_type": "code",
   "execution_count": 62,
   "id": "4310b053",
   "metadata": {},
   "outputs": [
    {
     "data": {
      "image/png": "[encoded data removed]",
      "text/plain": [
       "<Figure size 1008x504 with 1 Axes>"
      ]
     },
     "metadata": {
      "needs_background": "light"
     },
     "output_type": "display_data"
    }
   ],
   "source": [
    "# Строим столбчатуб диаграмму\n",
    "df_top15.sort_values(by = 'средний рейтинг', ascending=False).plot.bar(x='name', y='средний рейтинг', legend = False, rot = 20, figsize=(14, 7),\n",
    "                                 title = f'ТОП-15 сетевых заведений по среднему рейтингу',\n",
    "                                 ylabel = 'Средний рейтинг заведений', \n",
    "                                 xlabel = 'Название сетей заведения')\n",
    "\n",
    "# Добавляем сетку графика\n",
    "plt.grid(axis='y', linestyle='--', alpha=0.7)\n",
    "\n",
    "# Выводим график\n",
    "plt.show()"
   ]
  },
  {
   "cell_type": "code",
   "execution_count": 63,
   "id": "91335c75",
   "metadata": {},
   "outputs": [
    {
     "name": "stdout",
     "output_type": "stream",
     "text": [
      "Заведения с одинаковым именем муму относятся к разным категориям:\n",
      "кафе, ресторан, кофейня, быстрое питание, пиццерия, столовая, бар,паб\n"
     ]
    }
   ],
   "source": [
    "# Комментарий ревьюера\n",
    "tmp = df.copy()          # создаем копию текущего датасета\n",
    "name_tmp = 'муму'       # задаем имя столбца для проверки уникальных категорий\n",
    "print(f'Заведения с одинаковым именем {name_tmp} относятся к разным категориям:\\n\\\n",
    "{\", \".join(tmp[tmp.name == name_tmp].category.unique())}')"
   ]
  },
  {
   "cell_type": "code",
   "execution_count": 64,
   "id": "94bdbe6b-7832-41f6-b960-11bdc93d5c44",
   "metadata": {},
   "outputs": [
    {
     "data": {
      "text/html": [
       "<style  type=\"text/css\" >\n",
       "#T_7a219_row0_col0,#T_7a219_row0_col1,#T_7a219_row4_col2{\n",
       "            background-color:  #b40426;\n",
       "            color:  #f1f1f1;\n",
       "        }#T_7a219_row0_col2{\n",
       "            background-color:  #a3c2fe;\n",
       "            color:  #000000;\n",
       "        }#T_7a219_row1_col0,#T_7a219_row3_col0{\n",
       "            background-color:  #c0d4f5;\n",
       "            color:  #000000;\n",
       "        }#T_7a219_row1_col1{\n",
       "            background-color:  #bfd3f6;\n",
       "            color:  #000000;\n",
       "        }#T_7a219_row1_col2,#T_7a219_row4_col0,#T_7a219_row4_col1{\n",
       "            background-color:  #3b4cc0;\n",
       "            color:  #f1f1f1;\n",
       "        }#T_7a219_row2_col0{\n",
       "            background-color:  #7b9ff9;\n",
       "            color:  #000000;\n",
       "        }#T_7a219_row2_col1{\n",
       "            background-color:  #bbd1f8;\n",
       "            color:  #000000;\n",
       "        }#T_7a219_row2_col2{\n",
       "            background-color:  #e0dbd8;\n",
       "            color:  #000000;\n",
       "        }#T_7a219_row3_col1{\n",
       "            background-color:  #7a9df8;\n",
       "            color:  #000000;\n",
       "        }#T_7a219_row3_col2{\n",
       "            background-color:  #88abfd;\n",
       "            color:  #000000;\n",
       "        }</style><table id=\"T_7a219_\" ><thead>    <tr>        <th class=\"blank level0\" ></th>        <th class=\"col_heading level0 col0\" >количество_сетей</th>        <th class=\"col_heading level0 col1\" >общее_количество_заведений</th>        <th class=\"col_heading level0 col2\" >средний_рейтинг</th>    </tr>    <tr>        <th class=\"index_name level0\" >category</th>        <th class=\"blank\" ></th>        <th class=\"blank\" ></th>        <th class=\"blank\" ></th>    </tr></thead><tbody>\n",
       "                <tr>\n",
       "                        <th id=\"T_7a219_level0_row0\" class=\"row_heading level0 row0\" >кофейня</th>\n",
       "                        <td id=\"T_7a219_row0_col0\" class=\"data row0 col0\" >6</td>\n",
       "                        <td id=\"T_7a219_row0_col1\" class=\"data row0 col1\" >350</td>\n",
       "                        <td id=\"T_7a219_row0_col2\" class=\"data row0 col2\" >4.151166</td>\n",
       "            </tr>\n",
       "            <tr>\n",
       "                        <th id=\"T_7a219_level0_row1\" class=\"row_heading level0 row1\" >ресторан</th>\n",
       "                        <td id=\"T_7a219_row1_col0\" class=\"data row1 col0\" >3</td>\n",
       "                        <td id=\"T_7a219_row1_col1\" class=\"data row1 col1\" >154</td>\n",
       "                        <td id=\"T_7a219_row1_col2\" class=\"data row1 col2\" >4.030768</td>\n",
       "            </tr>\n",
       "            <tr>\n",
       "                        <th id=\"T_7a219_level0_row2\" class=\"row_heading level0 row2\" >пиццерия</th>\n",
       "                        <td id=\"T_7a219_row2_col0\" class=\"data row2 col0\" >2</td>\n",
       "                        <td id=\"T_7a219_row2_col1\" class=\"data row2 col1\" >150</td>\n",
       "                        <td id=\"T_7a219_row2_col2\" class=\"data row2 col2\" >4.228112</td>\n",
       "            </tr>\n",
       "            <tr>\n",
       "                        <th id=\"T_7a219_level0_row3\" class=\"row_heading level0 row3\" >кафе</th>\n",
       "                        <td id=\"T_7a219_row3_col0\" class=\"data row3 col0\" >3</td>\n",
       "                        <td id=\"T_7a219_row3_col1\" class=\"data row3 col1\" >89</td>\n",
       "                        <td id=\"T_7a219_row3_col2\" class=\"data row3 col2\" >4.122008</td>\n",
       "            </tr>\n",
       "            <tr>\n",
       "                        <th id=\"T_7a219_level0_row4\" class=\"row_heading level0 row4\" >булочная</th>\n",
       "                        <td id=\"T_7a219_row4_col0\" class=\"data row4 col0\" >1</td>\n",
       "                        <td id=\"T_7a219_row4_col1\" class=\"data row4 col1\" >25</td>\n",
       "                        <td id=\"T_7a219_row4_col2\" class=\"data row4 col2\" >4.416000</td>\n",
       "            </tr>\n",
       "    </tbody></table>"
      ],
      "text/plain": [
       "<pandas.io.formats.style.Styler at 0x7f7f3e247130>"
      ]
     },
     "metadata": {},
     "output_type": "display_data"
    }
   ],
   "source": [
    "category_stats = df_top15.groupby('category').agg(\n",
    "    количество_сетей=('количество', 'count'),  # Кол-во сетевых брендов в категории\n",
    "    общее_количество_заведений=('количество', 'sum'),  # Суммарное число заведений\n",
    "    средний_рейтинг=('средний рейтинг', 'mean')  # Средний рейтинг по категории   \n",
    ").sort_values('общее_количество_заведений', ascending=False)\n",
    "\n",
    "# Стилизуем вывод\n",
    "display(category_stats.style.background_gradient(cmap='coolwarm', axis=0))"
   ]
  },
  {
   "cell_type": "markdown",
   "id": "6d4c011f-cd05-49dd-a755-d03aaecf356b",
   "metadata": {},
   "source": [
    "<div class=\"alert alert-lavender\" style=\"background-color: #e6e6fa; color: #000;\"> Среди топ-15 сетевых заведений лидирует 'шоколадница' c количеством 119 заведений что имеет  3,7% среди всех сетевых заведений Москвы, на втором месте 'доминос пицца' c количеством 76 заведений по Москве а на третьем месте 'додо пицца' с 74 заведений. Интересно что топ-15 вошло 2 пиццерии и они занимают лидирующие позиции по кол-ву заведений. Кофейные сети доминируют среди топов, целых 6 различных сетей. Самый высокий рейтинг среди топ-15 вошла имеет сеть кофеин 'кофемания' со среднем рейтингом 4,46  и не отстает всего 1 сеть булочных 'буханка' с рейтингом 4,41 (видимо там очень вкусные булочки)  </div>"
   ]
  },
  {
   "cell_type": "markdown",
   "id": "5a901187-3b8a-464f-8789-c73bc52f47b8",
   "metadata": {},
   "source": [
    "### 3.8. Средний чек заведения"
   ]
  },
  {
   "cell_type": "markdown",
   "id": "17709495-ec2a-4279-9958-2cf0be0483d3",
   "metadata": {},
   "source": [
    "Изучим вариацию среднего чека заведения (столбец middle_avg_bill) в зависимости от района Москвы. Проанализируем цены в центральном административном округе и других. Как удалённость от центра влияет на цены в заведениях."
   ]
  },
  {
   "cell_type": "markdown",
   "id": "85431767-b1ef-4cc8-b2b7-38900dc5470b",
   "metadata": {},
   "source": [
    "Изучим сначала общее распределение данных по столбцу middle_avg_bill"
   ]
  },
  {
   "cell_type": "code",
   "execution_count": 65,
   "id": "bed53f07-2e85-4539-ba15-966c1c838e21",
   "metadata": {},
   "outputs": [
    {
     "data": {
      "text/plain": [
       "count     3149.000000\n",
       "mean       958.053650\n",
       "std       1009.732849\n",
       "min          0.000000\n",
       "25%        375.000000\n",
       "50%        750.000000\n",
       "75%       1250.000000\n",
       "max      35000.000000\n",
       "Name: middle_avg_bill, dtype: float64"
      ]
     },
     "execution_count": 65,
     "metadata": {},
     "output_type": "execute_result"
    }
   ],
   "source": [
    "# Посмотрим общие данные по столбцу middle_avg_bill\n",
    "df['middle_avg_bill'].describe()"
   ]
  },
  {
   "cell_type": "code",
   "execution_count": 66,
   "id": "e451e715-5261-4e62-8f98-fb050b9a2bfe",
   "metadata": {},
   "outputs": [
    {
     "data": {
      "image/png": "[encoded data removed]",
      "text/plain": [
       "<Figure size 144x576 with 1 Axes>"
      ]
     },
     "metadata": {
      "needs_background": "light"
     },
     "output_type": "display_data"
    }
   ],
   "source": [
    "# Создаём контейнер графика matplotlib и задаём его размер\n",
    "plt.figure(figsize=(2, 8))\n",
    "\n",
    "# Строим диаграмму размаха значений в столбце middle_avg_bill\n",
    "df.boxplot(column='middle_avg_bill', flierprops=dict(markerfacecolor='r', marker='o'))\n",
    "\n",
    "# Добавляем заголовок и метки оси\n",
    "plt.title('Распределение среднего чека')\n",
    "plt.ylabel('Средняя цена счета')\n",
    "\n",
    "# Добавляем линию среднего рейтинга и медианы\n",
    "plt.axhline(y = df['middle_avg_bill'].median(), color='green', linestyle='--', label=f'Медиана: {df[\"middle_avg_bill\"].median():.2f}')\n",
    "plt.axhline(y = df['middle_avg_bill'].mean(), color='red', linestyle='--', label=f'Среднее: {df[\"middle_avg_bill\"].mean():.2f}')\n",
    "plt.legend(bbox_to_anchor=(1.05, 1), loc='upper left', frameon=True)\n",
    "\n",
    "# Выводим график\n",
    "plt.show()"
   ]
  },
  {
   "cell_type": "code",
   "execution_count": 67,
   "id": "c55c47da",
   "metadata": {},
   "outputs": [
    {
     "data": {
      "image/png": "[encoded data removed]",
      "text/plain": [
       "<Figure size 504x288 with 1 Axes>"
      ]
     },
     "metadata": {
      "needs_background": "light"
     },
     "output_type": "display_data"
    }
   ],
   "source": [
    "# Создаём контейнер графика matplotlib и задаём его размер\n",
    "plt.figure(figsize=(7, 4))\n",
    "\n",
    "# Строим гистограмму с помощью pandas через plot(kind='hist')\n",
    "df['middle_avg_bill'].plot(\n",
    "                kind='hist', \n",
    "                bins=50, \n",
    "                alpha=0.75,\n",
    "                edgecolor='black',\n",
    "                rot=0, \n",
    ")\n",
    "\n",
    "# Настраиваем оформление графика\n",
    "plt.title('Распределение значения среднего чека')\n",
    "plt.xlabel('Средний чек')\n",
    "plt.ylabel('Частота')\n",
    "\n",
    "# Добавляем сетку графика\n",
    "plt.grid(axis='y', linestyle='--', alpha=0.7)\n",
    "\n",
    "# Выводим график\n",
    "plt.show()"
   ]
  },
  {
   "cell_type": "markdown",
   "id": "b0c26fd8-a8d7-4842-bf79-8795a95aa581",
   "metadata": {},
   "source": [
    "По графику распределения и статистическим описанием данных, видим что данные имеют выбросы в максимальном значении. И данные распределены не равномерно с большим отклонением вправо, что говорит о наибольшое кол-во значений располагаются до медианы. "
   ]
  },
  {
   "cell_type": "code",
   "execution_count": 68,
   "id": "ea26dd33-845a-49a4-89e7-a3efb25ea9aa",
   "metadata": {},
   "outputs": [
    {
     "data": {
      "image/png": "[encoded data removed]",
      "text/plain": [
       "<Figure size 576x576 with 3 Axes>"
      ]
     },
     "metadata": {
      "needs_background": "light"
     },
     "output_type": "display_data"
    }
   ],
   "source": [
    "# Построим график совместного распределения для столбцов `score` и `Balance`\n",
    "g = sns.jointplot(data=df, x='district', y='middle_avg_bill', height=8, alpha=0.5, linewidth=0.5)\n",
    "  \n",
    "# Добавление сетки\n",
    "g.ax_joint.grid(True, linestyle='--', alpha=0.3)\n",
    "\n",
    "# Подписываем и отображаем график\n",
    "g.ax_joint.set_xlabel('Район', fontsize=12)\n",
    "g.ax_joint.set_ylabel('Средний чек', fontsize=12)\n",
    "plt.suptitle('Распределение связи между районом Москвы и средним чеком')\n",
    "plt.tight_layout()\n",
    "plt.show()"
   ]
  },
  {
   "cell_type": "markdown",
   "id": "9ce43c07-8697-4c73-88d6-d9b8f4127c3f",
   "metadata": {},
   "source": [
    "По распределению видим выбросы в Южном округе, в Восточном округе и Северном, по остальным округам данные распределены в полне реалистично. Больше всего средний чек в Центральном округе (самый высокий столбик). Сравним цены в центральном административном округе с другими"
   ]
  },
  {
   "cell_type": "code",
   "execution_count": 69,
   "id": "18860de4-ef7b-4068-9150-dd106f557d87",
   "metadata": {},
   "outputs": [
    {
     "data": {
      "image/png": "[encoded data removed]",
      "text/plain": [
       "<Figure size 720x504 with 1 Axes>"
      ]
     },
     "metadata": {
      "needs_background": "light"
     },
     "output_type": "display_data"
    },
    {
     "name": "stdout",
     "output_type": "stream",
     "text": [
      "Средний чек по Москве: 958.05\n",
      "Медианный чек по Москве: 750.00\n"
     ]
    },
    {
     "data": {
      "text/html": [
       "<div>\n",
       "<style scoped>\n",
       "    .dataframe tbody tr th:only-of-type {\n",
       "        vertical-align: middle;\n",
       "    }\n",
       "\n",
       "    .dataframe tbody tr th {\n",
       "        vertical-align: top;\n",
       "    }\n",
       "\n",
       "    .dataframe thead th {\n",
       "        text-align: right;\n",
       "    }\n",
       "</style>\n",
       "<table border=\"1\" class=\"dataframe\">\n",
       "  <thead>\n",
       "    <tr style=\"text-align: right;\">\n",
       "      <th></th>\n",
       "      <th>mean</th>\n",
       "      <th>median</th>\n",
       "      <th>count</th>\n",
       "    </tr>\n",
       "    <tr>\n",
       "      <th>district</th>\n",
       "      <th></th>\n",
       "      <th></th>\n",
       "      <th></th>\n",
       "    </tr>\n",
       "  </thead>\n",
       "  <tbody>\n",
       "    <tr>\n",
       "      <th>ЦАО</th>\n",
       "      <td>1191.057495</td>\n",
       "      <td>1000.0</td>\n",
       "      <td>1060</td>\n",
       "    </tr>\n",
       "    <tr>\n",
       "      <th>ЗАО</th>\n",
       "      <td>1053.225464</td>\n",
       "      <td>1000.0</td>\n",
       "      <td>306</td>\n",
       "    </tr>\n",
       "    <tr>\n",
       "      <th>CАО</th>\n",
       "      <td>927.959656</td>\n",
       "      <td>650.0</td>\n",
       "      <td>322</td>\n",
       "    </tr>\n",
       "    <tr>\n",
       "      <th>ЮАО</th>\n",
       "      <td>834.398071</td>\n",
       "      <td>500.0</td>\n",
       "      <td>314</td>\n",
       "    </tr>\n",
       "    <tr>\n",
       "      <th>СЗАО</th>\n",
       "      <td>822.222900</td>\n",
       "      <td>700.0</td>\n",
       "      <td>157</td>\n",
       "    </tr>\n",
       "    <tr>\n",
       "      <th>ВАО</th>\n",
       "      <td>820.626953</td>\n",
       "      <td>575.0</td>\n",
       "      <td>260</td>\n",
       "    </tr>\n",
       "    <tr>\n",
       "      <th>ЮЗАО</th>\n",
       "      <td>792.561707</td>\n",
       "      <td>600.0</td>\n",
       "      <td>235</td>\n",
       "    </tr>\n",
       "    <tr>\n",
       "      <th>СВАО</th>\n",
       "      <td>716.611267</td>\n",
       "      <td>500.0</td>\n",
       "      <td>301</td>\n",
       "    </tr>\n",
       "    <tr>\n",
       "      <th>ЮВАО</th>\n",
       "      <td>654.097961</td>\n",
       "      <td>450.0</td>\n",
       "      <td>194</td>\n",
       "    </tr>\n",
       "  </tbody>\n",
       "</table>\n",
       "</div>"
      ],
      "text/plain": [
       "                 mean  median  count\n",
       "district                            \n",
       "ЦАО       1191.057495  1000.0   1060\n",
       "ЗАО       1053.225464  1000.0    306\n",
       "CАО        927.959656   650.0    322\n",
       "ЮАО        834.398071   500.0    314\n",
       "СЗАО       822.222900   700.0    157\n",
       "ВАО        820.626953   575.0    260\n",
       "ЮЗАО       792.561707   600.0    235\n",
       "СВАО       716.611267   500.0    301\n",
       "ЮВАО       654.097961   450.0    194"
      ]
     },
     "execution_count": 69,
     "metadata": {},
     "output_type": "execute_result"
    }
   ],
   "source": [
    "# Строим диаграмму\n",
    "df.groupby('district')['middle_avg_bill'].agg(['mean', 'median']).sort_values(by='mean').plot(kind='barh',\n",
    "    edgecolor='black', alpha=0.75, width=0.8, figsize=(10, 7), color = ['#b40426', '#98D898'],\n",
    "    title='Средний чек по административным округам Москвы',\n",
    "    xlabel='Средний чек (руб)',\n",
    "    ylabel='Округ Москвы')    \n",
    "         \n",
    "  \n",
    "# Настройка графика\n",
    "plt.grid(axis='x', linestyle='--', alpha=0.7)\n",
    "plt.axvline(x=df['middle_avg_bill'].mean(), color='red', linestyle='--', label='Средний по Москве')\n",
    "plt.axvline(x=df['middle_avg_bill'].median(), color='green', linestyle='--', label='Медиана по Москве')\n",
    "plt.legend()\n",
    "plt.tight_layout()\n",
    "plt.show()\n",
    "\n",
    "print(f\"Средний чек по Москве: {df['middle_avg_bill'].mean():.2f}\")\n",
    "print(f\"Медианный чек по Москве: {df['middle_avg_bill'].median():.2f}\")\n",
    "\n",
    "groupby_district = df.groupby('district')['middle_avg_bill'].agg(['mean', 'median', 'count'])\n",
    "groupby_district.sort_values('mean', ascending=False)"
   ]
  },
  {
   "cell_type": "markdown",
   "id": "f593e9a1-7623-457c-a975-5aeaa2294d40",
   "metadata": {},
   "source": [
    "<div class=\"alert alert-lavender\" style=\"background-color: #e6e6fa; color: #000;\"> \n",
    "Различие между средним чеком по Москве (958.05 руб.) и медианным (750 руб.) отчетливо указывает на наличие выбросов, то есть, на значительное влияние отдельных заведений с очень высоким чеком. Это говорит о том, что распределение чеков скошено вправо. Важно помнить, что высокие значения не обязательно являются выбросами в статистическом смысле; они могут отражать реальную картину, где определенные категории заведений (например, рестораны премиум-класса) закономерно предлагают более высокие цены.\n",
    "    \n",
    "Анализ по округам:\n",
    "\n",
    "Лишь в двух округах средний чек превышает общемосковский показатель. Это свидетельствует о том, что большинство районов предлагают цены ниже среднего.\n",
    "\n",
    "Лидеры:\n",
    "\n",
    "Центральный административный округ (ЦАО): Средний чек в ЦАО на 24% выше общемосковского, что делает его самым дорогим округом. Это объясняется высокой концентрацией ресторанов премиум-класса, дорогих бутиков и бизнес-центров, где высока платежеспособность посетителей. Кроме того, ЦАО является туристическим центром, где цены традиционно выше. Важно отметить, что отсутствие явных выбросов и близость среднего и медианного значений указывает на относительную однородность ценовой политики в этом округе.\n",
    "Западный административный округ (ЗАО): ЗАО занимает второе место с превышением среднего чека почти на 10%. ЗАО - престижный район, характеризующийся дорогим жильем, офисами и парковыми зонами. Следовательно, можно ожидать более высоких цен в ресторанах и кафе. Близость к деловому центру “Москва-Сити” также оказывает влияние. Как и в ЦАО, отсутствие выбросов и близость среднего и медианного значений повышают уверенность в анализе.\n",
    "    \n",
    "Аутсайдеры: Округа с чеком ниже среднего\n",
    "\n",
    "Юго-Восточный административный округ (ЮВАО): Средний чек в ЮВАО на 31,7% ниже среднего по Москве, что делает его самым доступным округом. ЮВАО - это, в основном, спальный район с более низким уровнем дохода населения, что, соответственно, влияет на ценовую политику местных заведений. Кроме того, здесь может быть большая доля столовых и кафе с более доступными ценами.\n",
    "Северо-Восточный административный округ (СВАО): СВАО также предлагает более доступные цены, где средний чек ниже общемосковского на 25%. Как и ЮВАО, СВАО характеризуется большим количеством жилых массивов и меньшим количеством дорогих ресторанов и развлекательных заведений.\n",
    "    \n",
    "Округа с выбросами: Южный, Восточный и Северный округа, похоже имеют некоторое увеличение среднего чека из-за выбросов. Следует внимательно изучить эти округа, чтобы понять природу выбросов. Возможно, это ошибка в данных или наличие небольшого числа дорогих заведений, существенно влияющих на среднее. Исключение выбросов позволит более точно оценить средний чек в этих районах.    \n",
    "</div>"
   ]
  },
  {
   "cell_type": "markdown",
   "id": "71159d3c",
   "metadata": {},
   "source": [
    "---\n",
    "\n",
    "Иследовательский анализ показал что рынок общепита Москвы разнообразен и конкурентноспособен: \n",
    "\n",
    "- Структура рынка: Кафе и рестораны доминируют, кофейни и бары также занимают значимые позиции. Этот факт стоит учитывать при планировании открытия нового заведения: либо выбирать популярную категорию, либо найти незаполненную нишу.\n",
    "- Географическое распределение: Центр Москвы (ЦАО) является главным центром общепита, значительно опережая другие округа. Остальные округа поделены примерно равномерно, с небольшим отставанием Северо-Западного. ЦАО - перспективное место для бизнеса, но также самое конкурентное. \n",
    "- Преобладание несетевых заведений указывает на развитый малый бизнес и любовь потребителей к уникальности. Однако, значительная доля сетевых заведений говорит об их важном присутствии на рынке. Эта информация важна для понимания конкурентной среды и выбора бизнес-модели.\n",
    "- Сетевые в различных категориях: Булочные, пиццерии и кофейни: Сетевые игроки преобладают, что может указывать на предпочтение потребителей известных брендов в этих категориях, или на более легкую масштабируемость. Быстрое питание, рестораны и кафе: Наблюдается здоровая конкуренция между сетями и частными заведениями. Столовые и бары: Низкая доля сетей, вероятно, связана с локальной спецификой и уникальной атмосферой, которые сложно воспроизвести в масштабе.\n",
    "- Популярность кофейной культуры: Кофейные сети занимают прочные позиции на рынке, что говорит о развитой культуре потребления кофе в Москве.\n",
    "- Средний рейтинг (4,23) подтверждает общую положительную оценку заведений в Москве. Высокая концентрация оценок в диапазоне 4-4,5 свидетельствует о том, что большинство заведений стремятся поддерживать качественный сервис и положительную репутацию. Наличие отрицательных оценок (ниже 3) говорит о том, что недостатки всё же встречаются, но их доля относительно невелика.\n",
    "- Ценовая политика в сфере общепита Москвы тесно связана с социально-экономическими особенностями каждого административного округа. В центре города (ЦАО) доминируют заведения с высоким средним чеком (превышение среднего чека в ЦАО над всеми остальными округами на 47.1%), что обусловлено высокой концентрацией деловых и туристических объектов, а также высоким уровнем доходов населения. Западный округ (ЗАО), также характеризуется относительно высокими ценами, что соответствует его статусу престижного жилого района. Напротив, в спальных районах (ЮВАО, СВАО) преобладают заведения с более доступными ценами, ориентированные на потребителей с более низким уровнем дохода. Наличие выбросов в некоторых округах (ЮАО, ВАО, САО) указывает на неоднородность ценовой политики и возможное присутствие отдельных заведений с аномально высокими ценами, которые, тем не менее, не определяют общую картину для округа.\n",
    "\n",
    "---"
   ]
  },
  {
   "cell_type": "markdown",
   "id": "501f8915-fb48-4f1b-8c7d-017c57169f51",
   "metadata": {},
   "source": [
    "## 4. Итоговый вывод и рекомендации"
   ]
  },
  {
   "cell_type": "markdown",
   "id": "deb20533-26c8-4365-8afa-485ce144edc0",
   "metadata": {},
   "source": [
    "### Обзор проделанной работы:\n",
    "\n",
    "В ходе исследования проанализировали данные 8401 заведений общественного питания в Москве. Были изучены категории заведений, их расположение, количество, рейтинги и популярность среди потребителей. Это позволило получить представление о текущей ситуации, предпочтениях клиентов и конкурентной среде.\n",
    "\n",
    "### Ответы на вопросы и главные выводы:\n",
    "\n",
    "**Популярность категорий заведений:**\n",
    "- Кафе и рестораны доминируют (50%+ рынка), кофейни на 3-м месте (16,8%);\n",
    "- Бары/пабы (9%) и фастфуд (7,5%) имеют устойчивый спрос;\n",
    "- Столовые и булочные (3%) менее востребованы.\n",
    "  \n",
    "<font color='blue'>*При открытии нового заведения стоит ориентироваться на кафе, рестораны или кофейни, но учитывать высокую конкуренцию.*</font>\n",
    "\n",
    "**Распределение заведений по округам:**\n",
    "- ЦАО лидирует (26,7% заведений), особенно по ресторанам (30%) и барам (47%);\n",
    "- СЗАО — аутсайдер (4,9%).\n",
    "  \n",
    "<font color='blue'>*В ЦАО выгодно открывать премиальные заведения, в спальных округах — демократичные форматы.*</font>\n",
    "\n",
    "**Сетевые vs независимые заведения:**\n",
    "- Несетевых заведений больше (62%), что говорит о развитом малом бизнесе;\n",
    "- Сетевые доминируют в булочных (61%), пиццериях (52%) и кофейнях (51%) — легче масштабировать.\n",
    "  \n",
    "<font color='blue'>*Для франшиз лучше выбирать форматы с высокой долей сетей (кофейни, фастфуд).*</font>\n",
    "\n",
    "**Посадочные места:**\n",
    "- Медианное значение для большинства категорий — 50–86 мест;\n",
    "- Выбросы (крупные заведения) есть во всех категориях.\n",
    "  \n",
    "<font color='blue'>*Оптимальный размер заведения — 50–100 мест. Крупные проекты (200+ мест) требуют особой локации.*</font>\n",
    "\n",
    "**Рейтинги заведений:**\n",
    "- Средний рейтинг — 4,23, большинство оценок 4–4,5;\n",
    "- Лучшие оценки у баров/пабов, худшие — у фастфуда;\n",
    "- Дорогие заведения стабильнее по качеству (меньше разброс оценок).\n",
    "  \n",
    "<font color='blue'>*Для высоких оценок важны атмосфера (бары) и стабильность (рестораны).*</font>\n",
    "\n",
    "**Средний чек:**\n",
    "- ЦАО дороже на 24% (1191 ₽ vs 958 ₽ по Москве);\n",
    "- ЗАО на втором месте (+10%), ЮВАО и СВАО дешевле на 25–32%.\n",
    "  \n",
    "<font color='blue'>*В ЦАО и ЗАО можно завышать цены, в спальных округах — делать акцент на доступность.*</font>\n",
    "\n",
    "### Рекомендации:\n",
    "\n",
    "Москва сегментирована по ценам и спросу. Успех заведения зависит от локации, формата и ценовой политики.\n",
    "\n",
    "- Общие рекомендации для бизнеса\n",
    "- Премиум-сегмент (рестораны, бары) — ЦАО.\n",
    "- Бюджетные форматы (столовые, фастфуд) — ЮВАО, СВАО.\n",
    "- Сетевые проекты — кофейни, пиццерии, булочные.\n",
    "- Уникальные концепции — независимые бары, кафе.\n",
    "- Оптимальный размер — 50–100 мест, крупные заведения — только в проходимых местах."
   ]
  },
  {
   "cell_type": "code",
   "execution_count": null,
   "id": "55c7b326",
   "metadata": {},
   "outputs": [],
   "source": []
  }
 ],
 "metadata": {
  "ExecuteTimeLog": [
   {
    "duration": 1118,
    "start_time": "2025-06-12T21:59:14.602Z"
   },
   {
    "duration": 258,
    "start_time": "2025-06-12T21:59:15.722Z"
   },
   {
    "duration": 13,
    "start_time": "2025-06-12T21:59:15.982Z"
   },
   {
    "duration": 36,
    "start_time": "2025-06-12T21:59:15.996Z"
   },
   {
    "duration": 25,
    "start_time": "2025-06-12T21:59:16.034Z"
   },
   {
    "duration": 10,
    "start_time": "2025-06-12T21:59:16.060Z"
   },
   {
    "duration": 10,
    "start_time": "2025-06-12T21:59:16.071Z"
   },
   {
    "duration": 12,
    "start_time": "2025-06-12T21:59:16.083Z"
   },
   {
    "duration": 3,
    "start_time": "2025-06-12T21:59:16.096Z"
   },
   {
    "duration": 3,
    "start_time": "2025-06-12T21:59:16.101Z"
   },
   {
    "duration": 5,
    "start_time": "2025-06-12T21:59:16.105Z"
   },
   {
    "duration": 69,
    "start_time": "2025-06-12T21:59:16.111Z"
   },
   {
    "duration": 15,
    "start_time": "2025-06-12T21:59:16.182Z"
   },
   {
    "duration": 13,
    "start_time": "2025-06-12T21:59:16.199Z"
   },
   {
    "duration": 21,
    "start_time": "2025-06-12T21:59:16.214Z"
   },
   {
    "duration": 5,
    "start_time": "2025-06-12T21:59:16.237Z"
   },
   {
    "duration": 48,
    "start_time": "2025-06-12T21:59:16.263Z"
   },
   {
    "duration": 11,
    "start_time": "2025-06-12T21:59:16.312Z"
   },
   {
    "duration": 24,
    "start_time": "2025-06-12T21:59:16.325Z"
   },
   {
    "duration": 32,
    "start_time": "2025-06-12T21:59:16.350Z"
   },
   {
    "duration": 33,
    "start_time": "2025-06-12T21:59:16.384Z"
   },
   {
    "duration": 3,
    "start_time": "2025-06-12T21:59:16.419Z"
   },
   {
    "duration": 10,
    "start_time": "2025-06-12T21:59:16.423Z"
   },
   {
    "duration": 29,
    "start_time": "2025-06-12T21:59:16.435Z"
   },
   {
    "duration": 12,
    "start_time": "2025-06-12T21:59:16.465Z"
   },
   {
    "duration": 17,
    "start_time": "2025-06-12T21:59:16.479Z"
   },
   {
    "duration": 5,
    "start_time": "2025-06-12T21:59:16.498Z"
   },
   {
    "duration": 12,
    "start_time": "2025-06-12T21:59:16.505Z"
   },
   {
    "duration": 46,
    "start_time": "2025-06-12T21:59:16.519Z"
   },
   {
    "duration": 10,
    "start_time": "2025-06-12T21:59:16.567Z"
   },
   {
    "duration": 6,
    "start_time": "2025-06-12T21:59:16.579Z"
   },
   {
    "duration": 19,
    "start_time": "2025-06-12T21:59:16.586Z"
   },
   {
    "duration": 164,
    "start_time": "2025-06-12T21:59:16.606Z"
   },
   {
    "duration": 16,
    "start_time": "2025-06-12T21:59:16.772Z"
   },
   {
    "duration": 153,
    "start_time": "2025-06-12T21:59:16.789Z"
   },
   {
    "duration": 24,
    "start_time": "2025-06-12T21:59:16.944Z"
   },
   {
    "duration": 143,
    "start_time": "2025-06-12T21:59:16.970Z"
   },
   {
    "duration": 14,
    "start_time": "2025-06-12T21:59:17.115Z"
   },
   {
    "duration": 102,
    "start_time": "2025-06-12T21:59:17.131Z"
   },
   {
    "duration": 35,
    "start_time": "2025-06-12T21:59:17.235Z"
   },
   {
    "duration": 194,
    "start_time": "2025-06-12T21:59:17.275Z"
   },
   {
    "duration": 9,
    "start_time": "2025-06-12T21:59:17.471Z"
   },
   {
    "duration": 7,
    "start_time": "2025-06-12T21:59:17.481Z"
   },
   {
    "duration": 303,
    "start_time": "2025-06-12T21:59:17.489Z"
   },
   {
    "duration": 101,
    "start_time": "2025-06-12T21:59:17.794Z"
   },
   {
    "duration": 14,
    "start_time": "2025-06-12T21:59:17.896Z"
   },
   {
    "duration": 219,
    "start_time": "2025-06-12T21:59:17.911Z"
   },
   {
    "duration": 0,
    "start_time": "2025-06-12T21:59:18.132Z"
   },
   {
    "duration": 0,
    "start_time": "2025-06-12T21:59:18.133Z"
   },
   {
    "duration": 0,
    "start_time": "2025-06-12T21:59:18.134Z"
   },
   {
    "duration": 0,
    "start_time": "2025-06-12T21:59:18.135Z"
   },
   {
    "duration": 0,
    "start_time": "2025-06-12T21:59:18.136Z"
   },
   {
    "duration": 0,
    "start_time": "2025-06-12T21:59:18.137Z"
   },
   {
    "duration": 0,
    "start_time": "2025-06-12T21:59:18.138Z"
   },
   {
    "duration": 0,
    "start_time": "2025-06-12T21:59:18.139Z"
   },
   {
    "duration": 0,
    "start_time": "2025-06-12T21:59:18.140Z"
   },
   {
    "duration": 0,
    "start_time": "2025-06-12T21:59:18.141Z"
   },
   {
    "duration": 0,
    "start_time": "2025-06-12T21:59:18.163Z"
   },
   {
    "duration": 0,
    "start_time": "2025-06-12T21:59:18.164Z"
   },
   {
    "duration": 2594,
    "start_time": "2025-06-12T22:04:00.632Z"
   },
   {
    "duration": 7,
    "start_time": "2025-06-12T22:12:22.644Z"
   },
   {
    "duration": 25,
    "start_time": "2025-06-12T22:18:09.776Z"
   },
   {
    "duration": 17,
    "start_time": "2025-06-12T22:37:16.624Z"
   },
   {
    "duration": 5,
    "start_time": "2025-06-12T22:39:21.392Z"
   },
   {
    "duration": 2609,
    "start_time": "2025-06-12T23:01:20.078Z"
   },
   {
    "duration": 1132,
    "start_time": "2025-06-12T23:01:22.689Z"
   },
   {
    "duration": 324,
    "start_time": "2025-06-12T23:01:23.823Z"
   },
   {
    "duration": 13,
    "start_time": "2025-06-12T23:01:24.148Z"
   },
   {
    "duration": 17,
    "start_time": "2025-06-12T23:01:24.162Z"
   },
   {
    "duration": 14,
    "start_time": "2025-06-12T23:01:24.181Z"
   },
   {
    "duration": 11,
    "start_time": "2025-06-12T23:01:24.197Z"
   },
   {
    "duration": 15,
    "start_time": "2025-06-12T23:01:24.210Z"
   },
   {
    "duration": 13,
    "start_time": "2025-06-12T23:01:24.227Z"
   },
   {
    "duration": 6,
    "start_time": "2025-06-12T23:01:24.263Z"
   },
   {
    "duration": 15,
    "start_time": "2025-06-12T23:01:24.270Z"
   },
   {
    "duration": 3,
    "start_time": "2025-06-12T23:01:24.287Z"
   },
   {
    "duration": 6,
    "start_time": "2025-06-12T23:01:24.292Z"
   },
   {
    "duration": 64,
    "start_time": "2025-06-12T23:01:24.299Z"
   },
   {
    "duration": 14,
    "start_time": "2025-06-12T23:01:24.365Z"
   },
   {
    "duration": 22,
    "start_time": "2025-06-12T23:01:24.381Z"
   },
   {
    "duration": 14,
    "start_time": "2025-06-12T23:01:24.404Z"
   },
   {
    "duration": 68,
    "start_time": "2025-06-12T23:01:24.419Z"
   },
   {
    "duration": 6,
    "start_time": "2025-06-12T23:01:24.489Z"
   },
   {
    "duration": 12,
    "start_time": "2025-06-12T23:01:24.497Z"
   },
   {
    "duration": 11,
    "start_time": "2025-06-12T23:01:24.511Z"
   },
   {
    "duration": 41,
    "start_time": "2025-06-12T23:01:24.524Z"
   },
   {
    "duration": 33,
    "start_time": "2025-06-12T23:01:24.566Z"
   },
   {
    "duration": 31,
    "start_time": "2025-06-12T23:01:24.601Z"
   },
   {
    "duration": 3,
    "start_time": "2025-06-12T23:01:24.634Z"
   },
   {
    "duration": 25,
    "start_time": "2025-06-12T23:01:24.638Z"
   },
   {
    "duration": 25,
    "start_time": "2025-06-12T23:01:24.665Z"
   },
   {
    "duration": 12,
    "start_time": "2025-06-12T23:01:24.694Z"
   },
   {
    "duration": 7,
    "start_time": "2025-06-12T23:01:24.707Z"
   },
   {
    "duration": 6,
    "start_time": "2025-06-12T23:01:24.716Z"
   },
   {
    "duration": 10,
    "start_time": "2025-06-12T23:01:24.723Z"
   },
   {
    "duration": 59,
    "start_time": "2025-06-12T23:01:24.735Z"
   },
   {
    "duration": 10,
    "start_time": "2025-06-12T23:01:24.796Z"
   },
   {
    "duration": 6,
    "start_time": "2025-06-12T23:01:24.807Z"
   },
   {
    "duration": 18,
    "start_time": "2025-06-12T23:01:24.814Z"
   },
   {
    "duration": 36,
    "start_time": "2025-06-12T23:01:24.834Z"
   },
   {
    "duration": 4,
    "start_time": "2025-06-12T23:01:24.871Z"
   },
   {
    "duration": 160,
    "start_time": "2025-06-12T23:01:24.876Z"
   },
   {
    "duration": 16,
    "start_time": "2025-06-12T23:01:25.037Z"
   },
   {
    "duration": 178,
    "start_time": "2025-06-12T23:01:25.062Z"
   },
   {
    "duration": 21,
    "start_time": "2025-06-12T23:01:25.242Z"
   },
   {
    "duration": 190,
    "start_time": "2025-06-12T23:01:25.264Z"
   },
   {
    "duration": 18,
    "start_time": "2025-06-12T23:01:25.456Z"
   },
   {
    "duration": 95,
    "start_time": "2025-06-12T23:01:25.475Z"
   },
   {
    "duration": 19,
    "start_time": "2025-06-12T23:01:25.571Z"
   },
   {
    "duration": 197,
    "start_time": "2025-06-12T23:01:25.591Z"
   },
   {
    "duration": 7,
    "start_time": "2025-06-12T23:01:25.790Z"
   },
   {
    "duration": 14,
    "start_time": "2025-06-12T23:01:25.799Z"
   },
   {
    "duration": 289,
    "start_time": "2025-06-12T23:01:25.815Z"
   },
   {
    "duration": 100,
    "start_time": "2025-06-12T23:01:26.105Z"
   },
   {
    "duration": 15,
    "start_time": "2025-06-12T23:01:26.206Z"
   },
   {
    "duration": 208,
    "start_time": "2025-06-12T23:01:26.222Z"
   },
   {
    "duration": 0,
    "start_time": "2025-06-12T23:01:26.432Z"
   },
   {
    "duration": 0,
    "start_time": "2025-06-12T23:01:26.434Z"
   },
   {
    "duration": 1,
    "start_time": "2025-06-12T23:01:26.435Z"
   },
   {
    "duration": 0,
    "start_time": "2025-06-12T23:01:26.437Z"
   },
   {
    "duration": 0,
    "start_time": "2025-06-12T23:01:26.438Z"
   },
   {
    "duration": 0,
    "start_time": "2025-06-12T23:01:26.440Z"
   },
   {
    "duration": 0,
    "start_time": "2025-06-12T23:01:26.441Z"
   },
   {
    "duration": 0,
    "start_time": "2025-06-12T23:01:26.462Z"
   },
   {
    "duration": 0,
    "start_time": "2025-06-12T23:01:26.464Z"
   },
   {
    "duration": 0,
    "start_time": "2025-06-12T23:01:26.465Z"
   },
   {
    "duration": 0,
    "start_time": "2025-06-12T23:01:26.467Z"
   },
   {
    "duration": 0,
    "start_time": "2025-06-12T23:01:26.468Z"
   },
   {
    "duration": 2856,
    "start_time": "2025-06-14T02:01:51.830Z"
   },
   {
    "duration": 1317,
    "start_time": "2025-06-14T02:01:54.689Z"
   },
   {
    "duration": 270,
    "start_time": "2025-06-14T02:01:56.007Z"
   },
   {
    "duration": 15,
    "start_time": "2025-06-14T02:01:56.279Z"
   },
   {
    "duration": 18,
    "start_time": "2025-06-14T02:01:56.296Z"
   },
   {
    "duration": 26,
    "start_time": "2025-06-14T02:01:56.316Z"
   },
   {
    "duration": 26,
    "start_time": "2025-06-14T02:01:56.344Z"
   },
   {
    "duration": 12,
    "start_time": "2025-06-14T02:01:56.372Z"
   },
   {
    "duration": 15,
    "start_time": "2025-06-14T02:01:56.385Z"
   },
   {
    "duration": 6,
    "start_time": "2025-06-14T02:01:56.403Z"
   },
   {
    "duration": 4,
    "start_time": "2025-06-14T02:01:56.410Z"
   },
   {
    "duration": 4,
    "start_time": "2025-06-14T02:01:56.416Z"
   },
   {
    "duration": 43,
    "start_time": "2025-06-14T02:01:56.422Z"
   },
   {
    "duration": 60,
    "start_time": "2025-06-14T02:01:56.468Z"
   },
   {
    "duration": 41,
    "start_time": "2025-06-14T02:01:56.530Z"
   },
   {
    "duration": 29,
    "start_time": "2025-06-14T02:01:56.573Z"
   },
   {
    "duration": 18,
    "start_time": "2025-06-14T02:01:56.604Z"
   },
   {
    "duration": 47,
    "start_time": "2025-06-14T02:01:56.623Z"
   },
   {
    "duration": 7,
    "start_time": "2025-06-14T02:01:56.672Z"
   },
   {
    "duration": 14,
    "start_time": "2025-06-14T02:01:56.681Z"
   },
   {
    "duration": 14,
    "start_time": "2025-06-14T02:01:56.697Z"
   },
   {
    "duration": 56,
    "start_time": "2025-06-14T02:01:56.712Z"
   },
   {
    "duration": 38,
    "start_time": "2025-06-14T02:01:56.770Z"
   },
   {
    "duration": 59,
    "start_time": "2025-06-14T02:01:56.810Z"
   },
   {
    "duration": 18,
    "start_time": "2025-06-14T02:01:56.871Z"
   },
   {
    "duration": 14,
    "start_time": "2025-06-14T02:01:56.891Z"
   },
   {
    "duration": 55,
    "start_time": "2025-06-14T02:01:56.907Z"
   },
   {
    "duration": 8,
    "start_time": "2025-06-14T02:01:56.967Z"
   },
   {
    "duration": 11,
    "start_time": "2025-06-14T02:01:56.977Z"
   },
   {
    "duration": 41,
    "start_time": "2025-06-14T02:01:56.990Z"
   },
   {
    "duration": 38,
    "start_time": "2025-06-14T02:01:57.033Z"
   },
   {
    "duration": 27,
    "start_time": "2025-06-14T02:01:57.073Z"
   },
   {
    "duration": 11,
    "start_time": "2025-06-14T02:01:57.101Z"
   },
   {
    "duration": 17,
    "start_time": "2025-06-14T02:01:57.113Z"
   },
   {
    "duration": 14,
    "start_time": "2025-06-14T02:01:57.160Z"
   },
   {
    "duration": 18,
    "start_time": "2025-06-14T02:01:57.176Z"
   },
   {
    "duration": 5,
    "start_time": "2025-06-14T02:01:57.196Z"
   },
   {
    "duration": 209,
    "start_time": "2025-06-14T02:01:57.203Z"
   },
   {
    "duration": 19,
    "start_time": "2025-06-14T02:01:57.414Z"
   },
   {
    "duration": 172,
    "start_time": "2025-06-14T02:01:57.435Z"
   },
   {
    "duration": 19,
    "start_time": "2025-06-14T02:01:57.609Z"
   },
   {
    "duration": 190,
    "start_time": "2025-06-14T02:01:57.630Z"
   },
   {
    "duration": 17,
    "start_time": "2025-06-14T02:01:57.822Z"
   },
   {
    "duration": 143,
    "start_time": "2025-06-14T02:01:57.841Z"
   },
   {
    "duration": 23,
    "start_time": "2025-06-14T02:01:57.987Z"
   },
   {
    "duration": 181,
    "start_time": "2025-06-14T02:01:58.011Z"
   },
   {
    "duration": 8,
    "start_time": "2025-06-14T02:01:58.194Z"
   },
   {
    "duration": 12,
    "start_time": "2025-06-14T02:01:58.204Z"
   },
   {
    "duration": 364,
    "start_time": "2025-06-14T02:01:58.217Z"
   },
   {
    "duration": 134,
    "start_time": "2025-06-14T02:01:58.582Z"
   },
   {
    "duration": 17,
    "start_time": "2025-06-14T02:01:58.718Z"
   },
   {
    "duration": 258,
    "start_time": "2025-06-14T02:01:58.737Z"
   },
   {
    "duration": 0,
    "start_time": "2025-06-14T02:01:58.997Z"
   },
   {
    "duration": 0,
    "start_time": "2025-06-14T02:01:58.999Z"
   },
   {
    "duration": 0,
    "start_time": "2025-06-14T02:01:59.000Z"
   },
   {
    "duration": 0,
    "start_time": "2025-06-14T02:01:59.002Z"
   },
   {
    "duration": 0,
    "start_time": "2025-06-14T02:01:59.003Z"
   },
   {
    "duration": 0,
    "start_time": "2025-06-14T02:01:59.005Z"
   },
   {
    "duration": 0,
    "start_time": "2025-06-14T02:01:59.012Z"
   },
   {
    "duration": 0,
    "start_time": "2025-06-14T02:01:59.013Z"
   },
   {
    "duration": 0,
    "start_time": "2025-06-14T02:01:59.014Z"
   },
   {
    "duration": 0,
    "start_time": "2025-06-14T02:01:59.016Z"
   },
   {
    "duration": 0,
    "start_time": "2025-06-14T02:01:59.018Z"
   },
   {
    "duration": 0,
    "start_time": "2025-06-14T02:01:59.019Z"
   },
   {
    "duration": 3346,
    "start_time": "2025-06-14T15:42:37.150Z"
   },
   {
    "duration": 1418,
    "start_time": "2025-06-14T15:42:40.499Z"
   },
   {
    "duration": 272,
    "start_time": "2025-06-14T15:42:41.918Z"
   },
   {
    "duration": 17,
    "start_time": "2025-06-14T15:42:42.193Z"
   },
   {
    "duration": 19,
    "start_time": "2025-06-14T15:42:42.211Z"
   },
   {
    "duration": 12,
    "start_time": "2025-06-14T15:42:42.232Z"
   },
   {
    "duration": 14,
    "start_time": "2025-06-14T15:42:42.245Z"
   },
   {
    "duration": 12,
    "start_time": "2025-06-14T15:42:42.260Z"
   },
   {
    "duration": 15,
    "start_time": "2025-06-14T15:42:42.274Z"
   },
   {
    "duration": 8,
    "start_time": "2025-06-14T15:42:42.291Z"
   },
   {
    "duration": 37,
    "start_time": "2025-06-14T15:42:42.301Z"
   },
   {
    "duration": 5,
    "start_time": "2025-06-14T15:42:42.340Z"
   },
   {
    "duration": 7,
    "start_time": "2025-06-14T15:42:42.347Z"
   },
   {
    "duration": 57,
    "start_time": "2025-06-14T15:42:42.356Z"
   },
   {
    "duration": 38,
    "start_time": "2025-06-14T15:42:42.415Z"
   },
   {
    "duration": 26,
    "start_time": "2025-06-14T15:42:42.454Z"
   },
   {
    "duration": 15,
    "start_time": "2025-06-14T15:42:42.482Z"
   },
   {
    "duration": 49,
    "start_time": "2025-06-14T15:42:42.499Z"
   },
   {
    "duration": 6,
    "start_time": "2025-06-14T15:42:42.550Z"
   },
   {
    "duration": 16,
    "start_time": "2025-06-14T15:42:42.558Z"
   },
   {
    "duration": 14,
    "start_time": "2025-06-14T15:42:42.575Z"
   },
   {
    "duration": 58,
    "start_time": "2025-06-14T15:42:42.591Z"
   },
   {
    "duration": 40,
    "start_time": "2025-06-14T15:42:42.651Z"
   },
   {
    "duration": 59,
    "start_time": "2025-06-14T15:42:42.694Z"
   },
   {
    "duration": 19,
    "start_time": "2025-06-14T15:42:42.756Z"
   },
   {
    "duration": 15,
    "start_time": "2025-06-14T15:42:42.777Z"
   },
   {
    "duration": 29,
    "start_time": "2025-06-14T15:42:42.794Z"
   },
   {
    "duration": 48,
    "start_time": "2025-06-14T15:42:42.827Z"
   },
   {
    "duration": 11,
    "start_time": "2025-06-14T15:42:42.877Z"
   },
   {
    "duration": 64,
    "start_time": "2025-06-14T15:42:42.890Z"
   },
   {
    "duration": 37,
    "start_time": "2025-06-14T15:42:42.955Z"
   },
   {
    "duration": 27,
    "start_time": "2025-06-14T15:42:42.994Z"
   },
   {
    "duration": 14,
    "start_time": "2025-06-14T15:42:43.023Z"
   },
   {
    "duration": 7,
    "start_time": "2025-06-14T15:42:43.039Z"
   },
   {
    "duration": 12,
    "start_time": "2025-06-14T15:42:43.047Z"
   },
   {
    "duration": 21,
    "start_time": "2025-06-14T15:42:43.061Z"
   },
   {
    "duration": 5,
    "start_time": "2025-06-14T15:42:43.084Z"
   },
   {
    "duration": 209,
    "start_time": "2025-06-14T15:42:43.091Z"
   },
   {
    "duration": 19,
    "start_time": "2025-06-14T15:42:43.302Z"
   },
   {
    "duration": 185,
    "start_time": "2025-06-14T15:42:43.338Z"
   },
   {
    "duration": 22,
    "start_time": "2025-06-14T15:42:43.525Z"
   },
   {
    "duration": 179,
    "start_time": "2025-06-14T15:42:43.549Z"
   },
   {
    "duration": 17,
    "start_time": "2025-06-14T15:42:43.738Z"
   },
   {
    "duration": 207,
    "start_time": "2025-06-14T15:42:43.757Z"
   },
   {
    "duration": 24,
    "start_time": "2025-06-14T15:42:43.966Z"
   },
   {
    "duration": 209,
    "start_time": "2025-06-14T15:42:43.992Z"
   },
   {
    "duration": 14,
    "start_time": "2025-06-14T15:42:44.204Z"
   },
   {
    "duration": 24,
    "start_time": "2025-06-14T15:42:44.220Z"
   },
   {
    "duration": 345,
    "start_time": "2025-06-14T15:42:44.246Z"
   },
   {
    "duration": 154,
    "start_time": "2025-06-14T15:42:44.594Z"
   },
   {
    "duration": 21,
    "start_time": "2025-06-14T15:42:44.751Z"
   },
   {
    "duration": 255,
    "start_time": "2025-06-14T15:42:44.774Z"
   },
   {
    "duration": 0,
    "start_time": "2025-06-14T15:42:45.037Z"
   },
   {
    "duration": 0,
    "start_time": "2025-06-14T15:42:45.038Z"
   },
   {
    "duration": 0,
    "start_time": "2025-06-14T15:42:45.040Z"
   },
   {
    "duration": 0,
    "start_time": "2025-06-14T15:42:45.041Z"
   },
   {
    "duration": 0,
    "start_time": "2025-06-14T15:42:45.042Z"
   },
   {
    "duration": 0,
    "start_time": "2025-06-14T15:42:45.044Z"
   },
   {
    "duration": 0,
    "start_time": "2025-06-14T15:42:45.045Z"
   },
   {
    "duration": 0,
    "start_time": "2025-06-14T15:42:45.047Z"
   },
   {
    "duration": 0,
    "start_time": "2025-06-14T15:42:45.048Z"
   },
   {
    "duration": 0,
    "start_time": "2025-06-14T15:42:45.049Z"
   },
   {
    "duration": 0,
    "start_time": "2025-06-14T15:42:45.051Z"
   },
   {
    "duration": 0,
    "start_time": "2025-06-14T15:42:45.052Z"
   },
   {
    "duration": 253,
    "start_time": "2025-06-14T15:47:17.938Z"
   },
   {
    "duration": 16,
    "start_time": "2025-06-14T15:47:27.672Z"
   },
   {
    "duration": 124,
    "start_time": "2025-06-14T15:47:30.000Z"
   },
   {
    "duration": 279,
    "start_time": "2025-06-14T15:47:32.840Z"
   },
   {
    "duration": 295,
    "start_time": "2025-06-14T15:47:47.489Z"
   },
   {
    "duration": 408,
    "start_time": "2025-06-14T15:48:00.473Z"
   },
   {
    "duration": 470,
    "start_time": "2025-06-14T15:48:09.226Z"
   },
   {
    "duration": 265,
    "start_time": "2025-06-14T15:48:13.009Z"
   },
   {
    "duration": 350,
    "start_time": "2025-06-14T15:48:20.194Z"
   },
   {
    "duration": 33,
    "start_time": "2025-06-14T15:48:24.962Z"
   },
   {
    "duration": 33,
    "start_time": "2025-06-14T15:48:31.936Z"
   },
   {
    "duration": 10,
    "start_time": "2025-06-14T15:48:35.192Z"
   },
   {
    "duration": 271,
    "start_time": "2025-06-14T15:48:37.945Z"
   },
   {
    "duration": 1009,
    "start_time": "2025-06-14T15:48:42.833Z"
   },
   {
    "duration": 84,
    "start_time": "2025-06-14T15:48:48.211Z"
   },
   {
    "duration": 64,
    "start_time": "2025-06-14T15:49:36.968Z"
   },
   {
    "duration": 72,
    "start_time": "2025-06-14T15:54:03.602Z"
   },
   {
    "duration": 389,
    "start_time": "2025-06-14T15:54:34.394Z"
   },
   {
    "duration": 260,
    "start_time": "2025-06-14T15:55:52.994Z"
   },
   {
    "duration": 113,
    "start_time": "2025-06-14T15:56:12.674Z"
   },
   {
    "duration": 62,
    "start_time": "2025-06-14T16:00:07.810Z"
   },
   {
    "duration": 428,
    "start_time": "2025-06-14T16:00:26.345Z"
   },
   {
    "duration": 359,
    "start_time": "2025-06-14T16:00:47.667Z"
   },
   {
    "duration": 339,
    "start_time": "2025-06-14T16:01:01.746Z"
   },
   {
    "duration": 352,
    "start_time": "2025-06-14T16:01:16.643Z"
   },
   {
    "duration": 337,
    "start_time": "2025-06-14T16:01:25.817Z"
   },
   {
    "duration": 250,
    "start_time": "2025-06-14T16:01:47.378Z"
   },
   {
    "duration": 120,
    "start_time": "2025-06-14T16:02:01.714Z"
   },
   {
    "duration": 11,
    "start_time": "2025-06-14T16:02:15.649Z"
   },
   {
    "duration": 491,
    "start_time": "2025-06-14T16:02:18.946Z"
   },
   {
    "duration": 375,
    "start_time": "2025-06-14T16:02:25.538Z"
   },
   {
    "duration": 385,
    "start_time": "2025-06-14T16:03:37.675Z"
   },
   {
    "duration": 118,
    "start_time": "2025-06-14T16:04:23.522Z"
   },
   {
    "duration": 279,
    "start_time": "2025-06-14T16:04:44.603Z"
   },
   {
    "duration": 3025,
    "start_time": "2025-06-14T18:34:00.755Z"
   },
   {
    "duration": 1122,
    "start_time": "2025-06-14T18:34:03.782Z"
   },
   {
    "duration": 200,
    "start_time": "2025-06-14T18:34:04.905Z"
   },
   {
    "duration": 13,
    "start_time": "2025-06-14T18:34:05.107Z"
   },
   {
    "duration": 17,
    "start_time": "2025-06-14T18:34:05.123Z"
   },
   {
    "duration": 11,
    "start_time": "2025-06-14T18:34:05.141Z"
   },
   {
    "duration": 13,
    "start_time": "2025-06-14T18:34:05.153Z"
   },
   {
    "duration": 14,
    "start_time": "2025-06-14T18:34:05.167Z"
   },
   {
    "duration": 14,
    "start_time": "2025-06-14T18:34:05.183Z"
   },
   {
    "duration": 6,
    "start_time": "2025-06-14T18:34:05.198Z"
   },
   {
    "duration": 31,
    "start_time": "2025-06-14T18:34:05.206Z"
   },
   {
    "duration": 6,
    "start_time": "2025-06-14T18:34:05.239Z"
   },
   {
    "duration": 5,
    "start_time": "2025-06-14T18:34:05.246Z"
   },
   {
    "duration": 59,
    "start_time": "2025-06-14T18:34:05.254Z"
   },
   {
    "duration": 30,
    "start_time": "2025-06-14T18:34:05.314Z"
   },
   {
    "duration": 22,
    "start_time": "2025-06-14T18:34:05.345Z"
   },
   {
    "duration": 38,
    "start_time": "2025-06-14T18:34:05.369Z"
   },
   {
    "duration": 15,
    "start_time": "2025-06-14T18:34:05.408Z"
   },
   {
    "duration": 22,
    "start_time": "2025-06-14T18:34:05.424Z"
   },
   {
    "duration": 32,
    "start_time": "2025-06-14T18:34:05.447Z"
   },
   {
    "duration": 54,
    "start_time": "2025-06-14T18:34:05.481Z"
   },
   {
    "duration": 75,
    "start_time": "2025-06-14T18:34:05.536Z"
   },
   {
    "duration": 34,
    "start_time": "2025-06-14T18:34:05.613Z"
   },
   {
    "duration": 34,
    "start_time": "2025-06-14T18:34:05.648Z"
   },
   {
    "duration": 15,
    "start_time": "2025-06-14T18:34:05.683Z"
   },
   {
    "duration": 37,
    "start_time": "2025-06-14T18:34:05.700Z"
   },
   {
    "duration": 7,
    "start_time": "2025-06-14T18:34:05.739Z"
   },
   {
    "duration": 12,
    "start_time": "2025-06-14T18:34:05.747Z"
   },
   {
    "duration": 17,
    "start_time": "2025-06-14T18:34:05.760Z"
   },
   {
    "duration": 36,
    "start_time": "2025-06-14T18:34:05.779Z"
   },
   {
    "duration": 27,
    "start_time": "2025-06-14T18:34:05.816Z"
   },
   {
    "duration": 22,
    "start_time": "2025-06-14T18:34:05.844Z"
   },
   {
    "duration": 9,
    "start_time": "2025-06-14T18:34:05.868Z"
   },
   {
    "duration": 11,
    "start_time": "2025-06-14T18:34:05.878Z"
   },
   {
    "duration": 11,
    "start_time": "2025-06-14T18:34:05.890Z"
   },
   {
    "duration": 41,
    "start_time": "2025-06-14T18:34:05.903Z"
   },
   {
    "duration": 4,
    "start_time": "2025-06-14T18:34:05.945Z"
   },
   {
    "duration": 166,
    "start_time": "2025-06-14T18:34:05.951Z"
   },
   {
    "duration": 19,
    "start_time": "2025-06-14T18:34:06.119Z"
   },
   {
    "duration": 147,
    "start_time": "2025-06-14T18:34:06.139Z"
   },
   {
    "duration": 15,
    "start_time": "2025-06-14T18:34:06.290Z"
   },
   {
    "duration": 239,
    "start_time": "2025-06-14T18:34:06.307Z"
   },
   {
    "duration": 59,
    "start_time": "2025-06-14T18:34:06.548Z"
   },
   {
    "duration": 105,
    "start_time": "2025-06-14T18:34:06.609Z"
   },
   {
    "duration": 28,
    "start_time": "2025-06-14T18:34:06.716Z"
   },
   {
    "duration": 158,
    "start_time": "2025-06-14T18:34:06.746Z"
   },
   {
    "duration": 9,
    "start_time": "2025-06-14T18:34:06.906Z"
   },
   {
    "duration": 25,
    "start_time": "2025-06-14T18:34:06.916Z"
   },
   {
    "duration": 311,
    "start_time": "2025-06-14T18:34:06.942Z"
   },
   {
    "duration": 114,
    "start_time": "2025-06-14T18:34:07.254Z"
   },
   {
    "duration": 15,
    "start_time": "2025-06-14T18:34:07.369Z"
   },
   {
    "duration": 229,
    "start_time": "2025-06-14T18:34:07.385Z"
   },
   {
    "duration": 320,
    "start_time": "2025-06-14T18:34:07.615Z"
   },
   {
    "duration": 8,
    "start_time": "2025-06-14T18:34:07.937Z"
   },
   {
    "duration": 450,
    "start_time": "2025-06-14T18:34:07.946Z"
   },
   {
    "duration": 318,
    "start_time": "2025-06-14T18:34:08.397Z"
   },
   {
    "duration": 356,
    "start_time": "2025-06-14T18:34:08.717Z"
   },
   {
    "duration": 318,
    "start_time": "2025-06-14T18:34:09.075Z"
   },
   {
    "duration": 19,
    "start_time": "2025-06-14T18:34:09.394Z"
   },
   {
    "duration": 35,
    "start_time": "2025-06-14T18:34:09.415Z"
   },
   {
    "duration": 6,
    "start_time": "2025-06-14T18:34:09.452Z"
   },
   {
    "duration": 231,
    "start_time": "2025-06-14T18:34:09.459Z"
   },
   {
    "duration": 938,
    "start_time": "2025-06-14T18:34:09.691Z"
   },
   {
    "duration": 374,
    "start_time": "2025-06-14T18:34:10.634Z"
   },
   {
    "duration": 7,
    "start_time": "2025-06-14T19:12:17.549Z"
   },
   {
    "duration": 3085,
    "start_time": "2025-06-15T04:08:15.496Z"
   },
   {
    "duration": 1321,
    "start_time": "2025-06-15T04:08:18.584Z"
   },
   {
    "duration": 205,
    "start_time": "2025-06-15T04:08:19.907Z"
   },
   {
    "duration": 14,
    "start_time": "2025-06-15T04:08:20.114Z"
   },
   {
    "duration": 15,
    "start_time": "2025-06-15T04:08:20.130Z"
   },
   {
    "duration": 9,
    "start_time": "2025-06-15T04:08:20.146Z"
   },
   {
    "duration": 10,
    "start_time": "2025-06-15T04:08:20.157Z"
   },
   {
    "duration": 9,
    "start_time": "2025-06-15T04:08:20.169Z"
   },
   {
    "duration": 12,
    "start_time": "2025-06-15T04:08:20.180Z"
   },
   {
    "duration": 4,
    "start_time": "2025-06-15T04:08:20.195Z"
   },
   {
    "duration": 4,
    "start_time": "2025-06-15T04:08:20.235Z"
   },
   {
    "duration": 11,
    "start_time": "2025-06-15T04:08:20.240Z"
   },
   {
    "duration": 4,
    "start_time": "2025-06-15T04:08:20.253Z"
   },
   {
    "duration": 49,
    "start_time": "2025-06-15T04:08:20.258Z"
   },
   {
    "duration": 38,
    "start_time": "2025-06-15T04:08:20.309Z"
   },
   {
    "duration": 74,
    "start_time": "2025-06-15T04:08:20.348Z"
   },
   {
    "duration": 14,
    "start_time": "2025-06-15T04:08:20.423Z"
   },
   {
    "duration": 15,
    "start_time": "2025-06-15T04:08:20.439Z"
   },
   {
    "duration": 10,
    "start_time": "2025-06-15T04:08:20.456Z"
   },
   {
    "duration": 60,
    "start_time": "2025-06-15T04:08:20.468Z"
   },
   {
    "duration": 39,
    "start_time": "2025-06-15T04:08:20.529Z"
   },
   {
    "duration": 21,
    "start_time": "2025-06-15T04:08:20.569Z"
   },
   {
    "duration": 33,
    "start_time": "2025-06-15T04:08:20.591Z"
   },
   {
    "duration": 37,
    "start_time": "2025-06-15T04:08:20.625Z"
   },
   {
    "duration": 16,
    "start_time": "2025-06-15T04:08:20.663Z"
   },
   {
    "duration": 13,
    "start_time": "2025-06-15T04:08:20.681Z"
   },
   {
    "duration": 17,
    "start_time": "2025-06-15T04:08:20.695Z"
   },
   {
    "duration": 6,
    "start_time": "2025-06-15T04:08:20.736Z"
   },
   {
    "duration": 19,
    "start_time": "2025-06-15T04:08:20.743Z"
   },
   {
    "duration": 42,
    "start_time": "2025-06-15T04:08:20.764Z"
   },
   {
    "duration": 11,
    "start_time": "2025-06-15T04:08:20.808Z"
   },
   {
    "duration": 23,
    "start_time": "2025-06-15T04:08:20.834Z"
   },
   {
    "duration": 8,
    "start_time": "2025-06-15T04:08:20.859Z"
   },
   {
    "duration": 8,
    "start_time": "2025-06-15T04:08:20.868Z"
   },
   {
    "duration": 13,
    "start_time": "2025-06-15T04:08:20.878Z"
   },
   {
    "duration": 52,
    "start_time": "2025-06-15T04:08:20.893Z"
   },
   {
    "duration": 6,
    "start_time": "2025-06-15T04:08:20.946Z"
   },
   {
    "duration": 176,
    "start_time": "2025-06-15T04:08:20.953Z"
   },
   {
    "duration": 14,
    "start_time": "2025-06-15T04:08:21.131Z"
   },
   {
    "duration": 148,
    "start_time": "2025-06-15T04:08:21.147Z"
   },
   {
    "duration": 15,
    "start_time": "2025-06-15T04:08:21.296Z"
   },
   {
    "duration": 169,
    "start_time": "2025-06-15T04:08:21.313Z"
   },
   {
    "duration": 22,
    "start_time": "2025-06-15T04:08:21.484Z"
   },
   {
    "duration": 117,
    "start_time": "2025-06-15T04:08:21.508Z"
   },
   {
    "duration": 145,
    "start_time": "2025-06-15T04:08:21.627Z"
   },
   {
    "duration": 152,
    "start_time": "2025-06-15T04:08:21.774Z"
   },
   {
    "duration": 9,
    "start_time": "2025-06-15T04:08:21.927Z"
   },
   {
    "duration": 52,
    "start_time": "2025-06-15T04:08:21.938Z"
   },
   {
    "duration": 308,
    "start_time": "2025-06-15T04:08:21.992Z"
   },
   {
    "duration": 116,
    "start_time": "2025-06-15T04:08:22.301Z"
   },
   {
    "duration": 30,
    "start_time": "2025-06-15T04:08:22.418Z"
   },
   {
    "duration": 342,
    "start_time": "2025-06-15T04:08:22.450Z"
   },
   {
    "duration": 375,
    "start_time": "2025-06-15T04:08:22.793Z"
   },
   {
    "duration": 7,
    "start_time": "2025-06-15T04:08:23.170Z"
   },
   {
    "duration": 465,
    "start_time": "2025-06-15T04:08:23.179Z"
   },
   {
    "duration": 334,
    "start_time": "2025-06-15T04:08:23.646Z"
   },
   {
    "duration": 473,
    "start_time": "2025-06-15T04:08:23.982Z"
   },
   {
    "duration": 287,
    "start_time": "2025-06-15T04:08:24.456Z"
   },
   {
    "duration": 22,
    "start_time": "2025-06-15T04:08:24.745Z"
   },
   {
    "duration": 7,
    "start_time": "2025-06-15T04:08:24.769Z"
   },
   {
    "duration": 28,
    "start_time": "2025-06-15T04:08:24.778Z"
   },
   {
    "duration": 12,
    "start_time": "2025-06-15T04:08:24.837Z"
   },
   {
    "duration": 268,
    "start_time": "2025-06-15T04:08:24.850Z"
   },
   {
    "duration": 1060,
    "start_time": "2025-06-15T04:08:25.120Z"
   },
   {
    "duration": 436,
    "start_time": "2025-06-15T04:08:26.182Z"
   },
   {
    "duration": 333,
    "start_time": "2025-06-15T04:12:28.458Z"
   },
   {
    "duration": 105,
    "start_time": "2025-06-15T04:24:33.180Z"
   },
   {
    "duration": 14,
    "start_time": "2025-06-15T04:26:07.115Z"
   },
   {
    "duration": 278,
    "start_time": "2025-06-15T04:26:30.732Z"
   },
   {
    "duration": 278,
    "start_time": "2025-06-15T04:27:21.002Z"
   },
   {
    "duration": 363,
    "start_time": "2025-06-15T04:28:01.624Z"
   },
   {
    "duration": 206,
    "start_time": "2025-06-15T04:29:08.787Z"
   },
   {
    "duration": 251,
    "start_time": "2025-06-15T04:29:39.540Z"
   },
   {
    "duration": 8,
    "start_time": "2025-06-15T04:30:35.459Z"
   },
   {
    "duration": 29,
    "start_time": "2025-06-15T04:31:04.829Z"
   },
   {
    "duration": 25,
    "start_time": "2025-06-15T04:31:38.691Z"
   },
   {
    "duration": 29,
    "start_time": "2025-06-15T04:31:56.891Z"
   },
   {
    "duration": 29,
    "start_time": "2025-06-15T04:32:14.036Z"
   },
   {
    "duration": 30,
    "start_time": "2025-06-15T04:34:07.387Z"
   },
   {
    "duration": 30,
    "start_time": "2025-06-15T04:34:35.058Z"
   },
   {
    "duration": 394,
    "start_time": "2025-06-15T04:36:43.659Z"
   },
   {
    "duration": 27,
    "start_time": "2025-06-15T04:42:59.985Z"
   },
   {
    "duration": 24,
    "start_time": "2025-06-15T04:43:40.861Z"
   },
   {
    "duration": 21,
    "start_time": "2025-06-15T04:44:44.532Z"
   },
   {
    "duration": 20,
    "start_time": "2025-06-15T04:47:07.188Z"
   },
   {
    "duration": 19,
    "start_time": "2025-06-15T04:47:35.757Z"
   },
   {
    "duration": 22,
    "start_time": "2025-06-15T04:47:43.144Z"
   },
   {
    "duration": 23,
    "start_time": "2025-06-15T04:49:49.477Z"
   },
   {
    "duration": 23,
    "start_time": "2025-06-15T04:50:50.893Z"
   },
   {
    "duration": 22,
    "start_time": "2025-06-15T04:50:55.589Z"
   },
   {
    "duration": 22,
    "start_time": "2025-06-15T04:51:20.701Z"
   },
   {
    "duration": 69,
    "start_time": "2025-06-15T04:52:25.317Z"
   },
   {
    "duration": 23,
    "start_time": "2025-06-15T04:52:32.043Z"
   },
   {
    "duration": 26,
    "start_time": "2025-06-15T04:52:43.653Z"
   },
   {
    "duration": 23,
    "start_time": "2025-06-15T04:53:19.789Z"
   },
   {
    "duration": 14,
    "start_time": "2025-06-15T04:54:07.917Z"
   },
   {
    "duration": 23,
    "start_time": "2025-06-15T04:54:34.485Z"
   },
   {
    "duration": 107,
    "start_time": "2025-06-15T05:03:44.776Z"
   },
   {
    "duration": 208,
    "start_time": "2025-06-15T05:05:39.151Z"
   },
   {
    "duration": 209,
    "start_time": "2025-06-15T05:05:54.768Z"
   },
   {
    "duration": 211,
    "start_time": "2025-06-15T05:06:08.324Z"
   },
   {
    "duration": 207,
    "start_time": "2025-06-15T05:06:39.902Z"
   },
   {
    "duration": 211,
    "start_time": "2025-06-15T05:06:53.831Z"
   },
   {
    "duration": 224,
    "start_time": "2025-06-15T05:07:45.486Z"
   },
   {
    "duration": 297,
    "start_time": "2025-06-15T05:09:34.838Z"
   },
   {
    "duration": 187,
    "start_time": "2025-06-15T05:09:42.511Z"
   },
   {
    "duration": 188,
    "start_time": "2025-06-15T05:10:49.623Z"
   },
   {
    "duration": 198,
    "start_time": "2025-06-15T05:11:41.713Z"
   },
   {
    "duration": 219,
    "start_time": "2025-06-15T05:11:50.629Z"
   },
   {
    "duration": 218,
    "start_time": "2025-06-15T05:12:01.951Z"
   },
   {
    "duration": 213,
    "start_time": "2025-06-15T05:12:11.376Z"
   },
   {
    "duration": 205,
    "start_time": "2025-06-15T05:12:30.197Z"
   },
   {
    "duration": 213,
    "start_time": "2025-06-15T05:12:36.583Z"
   },
   {
    "duration": 214,
    "start_time": "2025-06-15T05:12:49.297Z"
   },
   {
    "duration": 211,
    "start_time": "2025-06-15T05:13:18.782Z"
   },
   {
    "duration": 316,
    "start_time": "2025-06-15T05:14:16.602Z"
   },
   {
    "duration": 210,
    "start_time": "2025-06-15T05:14:37.669Z"
   },
   {
    "duration": 217,
    "start_time": "2025-06-15T05:15:13.431Z"
   },
   {
    "duration": 204,
    "start_time": "2025-06-15T05:18:23.670Z"
   },
   {
    "duration": 239,
    "start_time": "2025-06-15T05:18:30.656Z"
   },
   {
    "duration": 207,
    "start_time": "2025-06-15T05:18:43.766Z"
   },
   {
    "duration": 428,
    "start_time": "2025-06-15T05:22:56.916Z"
   },
   {
    "duration": 417,
    "start_time": "2025-06-15T06:26:51.347Z"
   },
   {
    "duration": 385,
    "start_time": "2025-06-15T06:30:22.451Z"
   },
   {
    "duration": 208,
    "start_time": "2025-06-15T06:30:42.578Z"
   },
   {
    "duration": 247,
    "start_time": "2025-06-15T06:31:18.739Z"
   },
   {
    "duration": 242,
    "start_time": "2025-06-15T06:31:31.362Z"
   },
   {
    "duration": 381,
    "start_time": "2025-06-15T06:31:51.923Z"
   },
   {
    "duration": 217,
    "start_time": "2025-06-15T06:32:58.314Z"
   },
   {
    "duration": 218,
    "start_time": "2025-06-15T06:34:14.628Z"
   },
   {
    "duration": 221,
    "start_time": "2025-06-15T06:34:50.953Z"
   },
   {
    "duration": 218,
    "start_time": "2025-06-15T06:34:58.435Z"
   },
   {
    "duration": 214,
    "start_time": "2025-06-15T06:35:06.891Z"
   },
   {
    "duration": 328,
    "start_time": "2025-06-15T06:35:17.909Z"
   },
   {
    "duration": 198,
    "start_time": "2025-06-15T06:35:31.227Z"
   },
   {
    "duration": 261,
    "start_time": "2025-06-15T06:36:25.995Z"
   },
   {
    "duration": 228,
    "start_time": "2025-06-15T06:37:32.553Z"
   },
   {
    "duration": 205,
    "start_time": "2025-06-15T06:38:22.252Z"
   },
   {
    "duration": 100,
    "start_time": "2025-06-15T06:38:34.755Z"
   },
   {
    "duration": 119,
    "start_time": "2025-06-15T06:38:49.498Z"
   },
   {
    "duration": 251,
    "start_time": "2025-06-15T06:39:52.187Z"
   },
   {
    "duration": 365,
    "start_time": "2025-06-15T06:43:17.543Z"
   },
   {
    "duration": 396,
    "start_time": "2025-06-15T06:45:04.507Z"
   },
   {
    "duration": 80,
    "start_time": "2025-06-15T06:51:34.196Z"
   },
   {
    "duration": 6,
    "start_time": "2025-06-15T06:51:53.892Z"
   },
   {
    "duration": 75,
    "start_time": "2025-06-15T06:52:30.412Z"
   },
   {
    "duration": 64,
    "start_time": "2025-06-15T06:52:54.427Z"
   },
   {
    "duration": 260,
    "start_time": "2025-06-15T06:53:30.821Z"
   },
   {
    "duration": 494,
    "start_time": "2025-06-15T06:54:24.732Z"
   },
   {
    "duration": 435,
    "start_time": "2025-06-15T06:57:12.109Z"
   },
   {
    "duration": 374,
    "start_time": "2025-06-15T07:00:40.277Z"
   },
   {
    "duration": 72,
    "start_time": "2025-06-15T07:02:03.405Z"
   },
   {
    "duration": 425,
    "start_time": "2025-06-15T07:02:15.211Z"
   },
   {
    "duration": 416,
    "start_time": "2025-06-15T07:03:07.845Z"
   },
   {
    "duration": 419,
    "start_time": "2025-06-15T07:03:33.371Z"
   },
   {
    "duration": 465,
    "start_time": "2025-06-15T07:04:19.194Z"
   },
   {
    "duration": 542,
    "start_time": "2025-06-15T07:05:27.933Z"
   },
   {
    "duration": 456,
    "start_time": "2025-06-15T07:06:03.419Z"
   },
   {
    "duration": 401,
    "start_time": "2025-06-15T07:06:56.084Z"
   },
   {
    "duration": 541,
    "start_time": "2025-06-15T07:07:13.315Z"
   },
   {
    "duration": 390,
    "start_time": "2025-06-15T07:07:25.772Z"
   },
   {
    "duration": 2661,
    "start_time": "2025-06-15T07:39:49.736Z"
   },
   {
    "duration": 1175,
    "start_time": "2025-06-15T07:39:52.399Z"
   },
   {
    "duration": 314,
    "start_time": "2025-06-15T07:39:53.576Z"
   },
   {
    "duration": 19,
    "start_time": "2025-06-15T07:39:53.893Z"
   },
   {
    "duration": 20,
    "start_time": "2025-06-15T07:39:53.914Z"
   },
   {
    "duration": 12,
    "start_time": "2025-06-15T07:39:53.936Z"
   },
   {
    "duration": 16,
    "start_time": "2025-06-15T07:39:53.950Z"
   },
   {
    "duration": 16,
    "start_time": "2025-06-15T07:39:53.968Z"
   },
   {
    "duration": 19,
    "start_time": "2025-06-15T07:39:53.986Z"
   },
   {
    "duration": 5,
    "start_time": "2025-06-15T07:39:54.035Z"
   },
   {
    "duration": 4,
    "start_time": "2025-06-15T07:39:54.042Z"
   },
   {
    "duration": 6,
    "start_time": "2025-06-15T07:39:54.048Z"
   },
   {
    "duration": 6,
    "start_time": "2025-06-15T07:39:54.055Z"
   },
   {
    "duration": 99,
    "start_time": "2025-06-15T07:39:54.062Z"
   },
   {
    "duration": 20,
    "start_time": "2025-06-15T07:39:54.163Z"
   },
   {
    "duration": 120,
    "start_time": "2025-06-15T07:39:54.185Z"
   },
   {
    "duration": 15,
    "start_time": "2025-06-15T07:39:54.306Z"
   },
   {
    "duration": 59,
    "start_time": "2025-06-15T07:39:54.323Z"
   },
   {
    "duration": 54,
    "start_time": "2025-06-15T07:39:54.384Z"
   },
   {
    "duration": 20,
    "start_time": "2025-06-15T07:39:54.440Z"
   },
   {
    "duration": 29,
    "start_time": "2025-06-15T07:39:54.462Z"
   },
   {
    "duration": 25,
    "start_time": "2025-06-15T07:39:54.493Z"
   },
   {
    "duration": 42,
    "start_time": "2025-06-15T07:39:54.520Z"
   },
   {
    "duration": 85,
    "start_time": "2025-06-15T07:39:54.563Z"
   },
   {
    "duration": 26,
    "start_time": "2025-06-15T07:39:54.649Z"
   },
   {
    "duration": 13,
    "start_time": "2025-06-15T07:39:54.677Z"
   },
   {
    "duration": 19,
    "start_time": "2025-06-15T07:39:54.691Z"
   },
   {
    "duration": 22,
    "start_time": "2025-06-15T07:39:54.714Z"
   },
   {
    "duration": 28,
    "start_time": "2025-06-15T07:39:54.738Z"
   },
   {
    "duration": 54,
    "start_time": "2025-06-15T07:39:54.768Z"
   },
   {
    "duration": 12,
    "start_time": "2025-06-15T07:39:54.824Z"
   },
   {
    "duration": 22,
    "start_time": "2025-06-15T07:39:54.838Z"
   },
   {
    "duration": 15,
    "start_time": "2025-06-15T07:39:54.862Z"
   },
   {
    "duration": 40,
    "start_time": "2025-06-15T07:39:54.878Z"
   },
   {
    "duration": 12,
    "start_time": "2025-06-15T07:39:54.920Z"
   },
   {
    "duration": 24,
    "start_time": "2025-06-15T07:39:54.935Z"
   },
   {
    "duration": 74,
    "start_time": "2025-06-15T07:39:54.960Z"
   },
   {
    "duration": 192,
    "start_time": "2025-06-15T07:39:55.035Z"
   },
   {
    "duration": 16,
    "start_time": "2025-06-15T07:39:55.229Z"
   },
   {
    "duration": 223,
    "start_time": "2025-06-15T07:39:55.247Z"
   },
   {
    "duration": 16,
    "start_time": "2025-06-15T07:39:55.472Z"
   },
   {
    "duration": 167,
    "start_time": "2025-06-15T07:39:55.490Z"
   },
   {
    "duration": 16,
    "start_time": "2025-06-15T07:39:55.659Z"
   },
   {
    "duration": 119,
    "start_time": "2025-06-15T07:39:55.677Z"
   },
   {
    "duration": 20,
    "start_time": "2025-06-15T07:39:55.798Z"
   },
   {
    "duration": 166,
    "start_time": "2025-06-15T07:39:55.820Z"
   },
   {
    "duration": 7,
    "start_time": "2025-06-15T07:39:55.988Z"
   },
   {
    "duration": 10,
    "start_time": "2025-06-15T07:39:55.997Z"
   },
   {
    "duration": 320,
    "start_time": "2025-06-15T07:39:56.008Z"
   },
   {
    "duration": 113,
    "start_time": "2025-06-15T07:39:56.330Z"
   },
   {
    "duration": 21,
    "start_time": "2025-06-15T07:39:56.445Z"
   },
   {
    "duration": 259,
    "start_time": "2025-06-15T07:39:56.467Z"
   },
   {
    "duration": 327,
    "start_time": "2025-06-15T07:39:56.728Z"
   },
   {
    "duration": 9,
    "start_time": "2025-06-15T07:39:57.056Z"
   },
   {
    "duration": 459,
    "start_time": "2025-06-15T07:39:57.066Z"
   },
   {
    "duration": 259,
    "start_time": "2025-06-15T07:39:57.527Z"
   },
   {
    "duration": 32,
    "start_time": "2025-06-15T07:39:57.787Z"
   },
   {
    "duration": 421,
    "start_time": "2025-06-15T07:39:57.820Z"
   },
   {
    "duration": 270,
    "start_time": "2025-06-15T07:39:58.242Z"
   },
   {
    "duration": 39,
    "start_time": "2025-06-15T07:39:58.514Z"
   },
   {
    "duration": 235,
    "start_time": "2025-06-15T07:39:58.555Z"
   },
   {
    "duration": 326,
    "start_time": "2025-06-15T07:39:58.792Z"
   },
   {
    "duration": 15,
    "start_time": "2025-06-15T07:39:59.120Z"
   },
   {
    "duration": 26,
    "start_time": "2025-06-15T07:39:59.138Z"
   },
   {
    "duration": 9,
    "start_time": "2025-06-15T07:39:59.166Z"
   },
   {
    "duration": 298,
    "start_time": "2025-06-15T07:39:59.177Z"
   },
   {
    "duration": 218,
    "start_time": "2025-06-15T07:39:59.478Z"
   },
   {
    "duration": 819,
    "start_time": "2025-06-15T07:39:59.698Z"
   },
   {
    "duration": 547,
    "start_time": "2025-06-15T07:40:00.519Z"
   }
  ],
  "kernelspec": {
   "display_name": "Python 3 (ipykernel)",
   "language": "python",
   "name": "python3"
  },
  "language_info": {
   "codemirror_mode": {
    "name": "ipython",
    "version": 3
   },
   "file_extension": ".py",
   "mimetype": "text/x-python",
   "name": "python",
   "nbconvert_exporter": "python",
   "pygments_lexer": "ipython3",
   "version": "3.12.7"
  },
  "toc": {
   "base_numbering": 1,
   "nav_menu": {},
   "number_sections": true,
   "sideBar": true,
   "skip_h1_title": true,
   "title_cell": "Table of Contents",
   "title_sidebar": "Contents",
   "toc_cell": false,
   "toc_position": {
    "height": "calc(100% - 180px)",
    "left": "10px",
    "top": "150px",
    "width": "200.943px"
   },
   "toc_section_display": true,
   "toc_window_display": true
  }
 },
 "nbformat": 4,
 "nbformat_minor": 5
}
